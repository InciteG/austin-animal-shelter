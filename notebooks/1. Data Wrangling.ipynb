{
 "cells": [
  {
   "cell_type": "code",
   "execution_count": 1,
   "metadata": {},
   "outputs": [
    {
     "data": {
      "text/plain": [
       "16"
      ]
     },
     "execution_count": 1,
     "metadata": {},
     "output_type": "execute_result"
    }
   ],
   "source": [
    "#data manipulation\n",
    "import numpy as np\n",
    "import pandas as pd\n",
    "pd.option_context('display.max_rows', None, 'display.max_columns', None)\n",
    "import nltk\n",
    "from nltk.tokenize import word_tokenize\n",
    "\n",
    "#stats/ml\n",
    "import scipy\n",
    "import sklearn as sk\n",
    "from scipy.stats import ttest_1samp\n",
    "from scipy.stats import boxcox\n",
    "from scipy.stats import chisquare\n",
    "from sklearn.preprocessing import OneHotEncoder\n",
    "#vis\n",
    "import seaborn as sns\n",
    "import matplotlib.pyplot as plt\n",
    "plt.style.use('seaborn')\n",
    "\n",
    "#additional support packages\n",
    "from datetime import date, datetime, timedelta\n",
    "import random\n",
    "import re\n",
    "import os\n",
    "# nltk.download('punkt')\n",
    "os.cpu_count()"
   ]
  },
  {
   "cell_type": "code",
   "execution_count": 2,
   "metadata": {},
   "outputs": [],
   "source": [
    "def bin_small(col,replace_val,threshold=100,**kwargs):\n",
    "    more_removal = [i for i,x in dict(data[col].value_counts()).items() if x<threshold]\n",
    "    data[col]=np.where(data[col].isin(more_removal),replace_val,data[col])"
   ]
  },
  {
   "cell_type": "markdown",
   "metadata": {},
   "source": [
    "<a id='top'></a>\n",
    "# Overview\n",
    "\n",
    "1. [Data Cleaning](#sec-1)\n",
    "- Nulls\n",
    "- Data inconsistencies\n",
    "    \n",
    "    \n",
    "2. [Feature Engineering](#sec-2)\n",
    "- 5 new features\n",
    "\n",
    "\n",
    "3. [Additional Exploratory Data Analysis (EDA)](#sec-3)\n",
    "- Univariate analysis of dependent variable\n",
    "- Exploring independent variables relationships with each other and dependent variable"
   ]
  },
  {
   "cell_type": "markdown",
   "metadata": {},
   "source": [
    "<a id='sec-1'></a>\n",
    "## 1. Data Cleaning"
   ]
  },
  {
   "cell_type": "code",
   "execution_count": 3,
   "metadata": {},
   "outputs": [
    {
     "data": {
      "text/html": [
       "<div>\n",
       "<style scoped>\n",
       "    .dataframe tbody tr th:only-of-type {\n",
       "        vertical-align: middle;\n",
       "    }\n",
       "\n",
       "    .dataframe tbody tr th {\n",
       "        vertical-align: top;\n",
       "    }\n",
       "\n",
       "    .dataframe thead th {\n",
       "        text-align: right;\n",
       "    }\n",
       "</style>\n",
       "<table border=\"1\" class=\"dataframe\">\n",
       "  <thead>\n",
       "    <tr style=\"text-align: right;\">\n",
       "      <th></th>\n",
       "      <th>Pet ID</th>\n",
       "      <th>Outcome Type</th>\n",
       "      <th>Sex upon Outcome</th>\n",
       "      <th>Name</th>\n",
       "      <th>Found Location</th>\n",
       "      <th>Intake Type</th>\n",
       "      <th>Intake Condition</th>\n",
       "      <th>Pet Type</th>\n",
       "      <th>Sex upon Intake</th>\n",
       "      <th>Breed</th>\n",
       "      <th>Color</th>\n",
       "      <th>Age upon Intake Days</th>\n",
       "      <th>Time at Center</th>\n",
       "    </tr>\n",
       "  </thead>\n",
       "  <tbody>\n",
       "    <tr>\n",
       "      <th>0</th>\n",
       "      <td>A745079</td>\n",
       "      <td>Transfer</td>\n",
       "      <td>Unknown</td>\n",
       "      <td>NaN</td>\n",
       "      <td>7920 Old Lockhart in Travis (TX)</td>\n",
       "      <td>Stray</td>\n",
       "      <td>Normal</td>\n",
       "      <td>Cat</td>\n",
       "      <td>Unknown</td>\n",
       "      <td>Domestic Shorthair Mix</td>\n",
       "      <td>Blue</td>\n",
       "      <td>3</td>\n",
       "      <td>0</td>\n",
       "    </tr>\n",
       "    <tr>\n",
       "      <th>1</th>\n",
       "      <td>A801765</td>\n",
       "      <td>Transfer</td>\n",
       "      <td>Intact Female</td>\n",
       "      <td>NaN</td>\n",
       "      <td>5006 Table Top in Austin (TX)</td>\n",
       "      <td>Stray</td>\n",
       "      <td>Normal</td>\n",
       "      <td>Cat</td>\n",
       "      <td>Intact Female</td>\n",
       "      <td>Domestic Shorthair</td>\n",
       "      <td>Brown Tabby/White</td>\n",
       "      <td>28</td>\n",
       "      <td>0</td>\n",
       "    </tr>\n",
       "    <tr>\n",
       "      <th>2</th>\n",
       "      <td>A667965</td>\n",
       "      <td>Transfer</td>\n",
       "      <td>Neutered Male</td>\n",
       "      <td>NaN</td>\n",
       "      <td>14100 Thermal Dr in Austin (TX)</td>\n",
       "      <td>Stray</td>\n",
       "      <td>Normal</td>\n",
       "      <td>Dog</td>\n",
       "      <td>Neutered Male</td>\n",
       "      <td>Chihuahua Shorthair Mix</td>\n",
       "      <td>Brown/Tan</td>\n",
       "      <td>1825</td>\n",
       "      <td>0</td>\n",
       "    </tr>\n",
       "    <tr>\n",
       "      <th>3</th>\n",
       "      <td>A687551</td>\n",
       "      <td>Transfer</td>\n",
       "      <td>Intact Male</td>\n",
       "      <td>NaN</td>\n",
       "      <td>5811 Cedardale Dr in Austin (TX)</td>\n",
       "      <td>Stray</td>\n",
       "      <td>Normal</td>\n",
       "      <td>Cat</td>\n",
       "      <td>Intact Male</td>\n",
       "      <td>Domestic Shorthair Mix</td>\n",
       "      <td>Brown Tabby</td>\n",
       "      <td>28</td>\n",
       "      <td>0</td>\n",
       "    </tr>\n",
       "    <tr>\n",
       "      <th>4</th>\n",
       "      <td>A773004</td>\n",
       "      <td>Adoption</td>\n",
       "      <td>Neutered Male</td>\n",
       "      <td>*Boris</td>\n",
       "      <td>Highway 290 And Arterial A in Austin (TX)</td>\n",
       "      <td>Stray</td>\n",
       "      <td>Normal</td>\n",
       "      <td>Dog</td>\n",
       "      <td>Intact Male</td>\n",
       "      <td>Chihuahua Shorthair Mix</td>\n",
       "      <td>Tricolor/Cream</td>\n",
       "      <td>365</td>\n",
       "      <td>0</td>\n",
       "    </tr>\n",
       "    <tr>\n",
       "      <th>...</th>\n",
       "      <td>...</td>\n",
       "      <td>...</td>\n",
       "      <td>...</td>\n",
       "      <td>...</td>\n",
       "      <td>...</td>\n",
       "      <td>...</td>\n",
       "      <td>...</td>\n",
       "      <td>...</td>\n",
       "      <td>...</td>\n",
       "      <td>...</td>\n",
       "      <td>...</td>\n",
       "      <td>...</td>\n",
       "      <td>...</td>\n",
       "    </tr>\n",
       "    <tr>\n",
       "      <th>95379</th>\n",
       "      <td>A706720</td>\n",
       "      <td>Adoption</td>\n",
       "      <td>Neutered Male</td>\n",
       "      <td>Nikko</td>\n",
       "      <td>Mc Callen Pass And Parmer in Austin (TX)</td>\n",
       "      <td>Stray</td>\n",
       "      <td>Normal</td>\n",
       "      <td>Dog</td>\n",
       "      <td>Neutered Male</td>\n",
       "      <td>Miniature Schnauzer Mix</td>\n",
       "      <td>Tan/Gray</td>\n",
       "      <td>1460</td>\n",
       "      <td>0</td>\n",
       "    </tr>\n",
       "    <tr>\n",
       "      <th>95380</th>\n",
       "      <td>A782751</td>\n",
       "      <td>Adoption</td>\n",
       "      <td>Neutered Male</td>\n",
       "      <td>NaN</td>\n",
       "      <td>18706 Blake Manor Rd in Manor (TX)</td>\n",
       "      <td>Stray</td>\n",
       "      <td>Normal</td>\n",
       "      <td>Dog</td>\n",
       "      <td>Intact Male</td>\n",
       "      <td>American Pit Bull Terrier Mix</td>\n",
       "      <td>Brown</td>\n",
       "      <td>60</td>\n",
       "      <td>0</td>\n",
       "    </tr>\n",
       "    <tr>\n",
       "      <th>95381</th>\n",
       "      <td>A768058</td>\n",
       "      <td>Euthanasia</td>\n",
       "      <td>Unknown</td>\n",
       "      <td>NaN</td>\n",
       "      <td>1701 Congress Avenue in Austin (TX)</td>\n",
       "      <td>Wildlife</td>\n",
       "      <td>Normal</td>\n",
       "      <td>Other</td>\n",
       "      <td>Unknown</td>\n",
       "      <td>Bat Mix</td>\n",
       "      <td>Black/Black</td>\n",
       "      <td>730</td>\n",
       "      <td>0</td>\n",
       "    </tr>\n",
       "    <tr>\n",
       "      <th>95382</th>\n",
       "      <td>A729326</td>\n",
       "      <td>Adoption</td>\n",
       "      <td>Neutered Male</td>\n",
       "      <td>*Jester</td>\n",
       "      <td>5017 W. 290 in Austin (TX)</td>\n",
       "      <td>Stray</td>\n",
       "      <td>Normal</td>\n",
       "      <td>Dog</td>\n",
       "      <td>Intact Male</td>\n",
       "      <td>Pointer Mix</td>\n",
       "      <td>Black/White</td>\n",
       "      <td>730</td>\n",
       "      <td>0</td>\n",
       "    </tr>\n",
       "    <tr>\n",
       "      <th>95383</th>\n",
       "      <td>A738658</td>\n",
       "      <td>Adoption</td>\n",
       "      <td>Neutered Male</td>\n",
       "      <td>Nero</td>\n",
       "      <td>Austin (TX)</td>\n",
       "      <td>Owner Surrender</td>\n",
       "      <td>Normal</td>\n",
       "      <td>Dog</td>\n",
       "      <td>Intact Male</td>\n",
       "      <td>Pit Bull Mix</td>\n",
       "      <td>Black/White</td>\n",
       "      <td>730</td>\n",
       "      <td>0</td>\n",
       "    </tr>\n",
       "  </tbody>\n",
       "</table>\n",
       "<p>95384 rows × 13 columns</p>\n",
       "</div>"
      ],
      "text/plain": [
       "        Pet ID Outcome Type Sex upon Outcome     Name  \\\n",
       "0      A745079     Transfer          Unknown      NaN   \n",
       "1      A801765     Transfer    Intact Female      NaN   \n",
       "2      A667965     Transfer    Neutered Male      NaN   \n",
       "3      A687551     Transfer      Intact Male      NaN   \n",
       "4      A773004     Adoption    Neutered Male   *Boris   \n",
       "...        ...          ...              ...      ...   \n",
       "95379  A706720     Adoption    Neutered Male    Nikko   \n",
       "95380  A782751     Adoption    Neutered Male      NaN   \n",
       "95381  A768058   Euthanasia          Unknown      NaN   \n",
       "95382  A729326     Adoption    Neutered Male  *Jester   \n",
       "95383  A738658     Adoption    Neutered Male     Nero   \n",
       "\n",
       "                                  Found Location      Intake Type  \\\n",
       "0               7920 Old Lockhart in Travis (TX)            Stray   \n",
       "1                  5006 Table Top in Austin (TX)            Stray   \n",
       "2                14100 Thermal Dr in Austin (TX)            Stray   \n",
       "3               5811 Cedardale Dr in Austin (TX)            Stray   \n",
       "4      Highway 290 And Arterial A in Austin (TX)            Stray   \n",
       "...                                          ...              ...   \n",
       "95379   Mc Callen Pass And Parmer in Austin (TX)            Stray   \n",
       "95380         18706 Blake Manor Rd in Manor (TX)            Stray   \n",
       "95381        1701 Congress Avenue in Austin (TX)         Wildlife   \n",
       "95382                 5017 W. 290 in Austin (TX)            Stray   \n",
       "95383                                Austin (TX)  Owner Surrender   \n",
       "\n",
       "      Intake Condition Pet Type Sex upon Intake  \\\n",
       "0               Normal      Cat         Unknown   \n",
       "1               Normal      Cat   Intact Female   \n",
       "2               Normal      Dog   Neutered Male   \n",
       "3               Normal      Cat     Intact Male   \n",
       "4               Normal      Dog     Intact Male   \n",
       "...                ...      ...             ...   \n",
       "95379           Normal      Dog   Neutered Male   \n",
       "95380           Normal      Dog     Intact Male   \n",
       "95381           Normal    Other         Unknown   \n",
       "95382           Normal      Dog     Intact Male   \n",
       "95383           Normal      Dog     Intact Male   \n",
       "\n",
       "                               Breed              Color  Age upon Intake Days  \\\n",
       "0             Domestic Shorthair Mix               Blue                     3   \n",
       "1                 Domestic Shorthair  Brown Tabby/White                    28   \n",
       "2            Chihuahua Shorthair Mix          Brown/Tan                  1825   \n",
       "3             Domestic Shorthair Mix        Brown Tabby                    28   \n",
       "4            Chihuahua Shorthair Mix     Tricolor/Cream                   365   \n",
       "...                              ...                ...                   ...   \n",
       "95379        Miniature Schnauzer Mix           Tan/Gray                  1460   \n",
       "95380  American Pit Bull Terrier Mix              Brown                    60   \n",
       "95381                        Bat Mix        Black/Black                   730   \n",
       "95382                    Pointer Mix        Black/White                   730   \n",
       "95383                   Pit Bull Mix        Black/White                   730   \n",
       "\n",
       "       Time at Center  \n",
       "0                   0  \n",
       "1                   0  \n",
       "2                   0  \n",
       "3                   0  \n",
       "4                   0  \n",
       "...               ...  \n",
       "95379               0  \n",
       "95380               0  \n",
       "95381               0  \n",
       "95382               0  \n",
       "95383               0  \n",
       "\n",
       "[95384 rows x 13 columns]"
      ]
     },
     "execution_count": 3,
     "metadata": {},
     "output_type": "execute_result"
    }
   ],
   "source": [
    "data = pd.read_csv(r'..\\data\\adopt.csv')\n",
    "legacy_data=data.copy()\n",
    "data"
   ]
  },
  {
   "cell_type": "code",
   "execution_count": 4,
   "metadata": {},
   "outputs": [
    {
     "data": {
      "text/plain": [
       "Adoption           39734\n",
       "Transfer           32299\n",
       "Return to Owner    13719\n",
       "Euthanasia          7630\n",
       "Died                1053\n",
       "Disposal             503\n",
       "Rto-Adopt            369\n",
       "Missing               52\n",
       "Relocate              20\n",
       "Name: Outcome Type, dtype: int64"
      ]
     },
     "execution_count": 4,
     "metadata": {},
     "output_type": "execute_result"
    }
   ],
   "source": [
    "data['Outcome Type'].value_counts()"
   ]
  },
  {
   "cell_type": "code",
   "execution_count": 5,
   "metadata": {},
   "outputs": [
    {
     "data": {
      "text/plain": [
       "0.09577584523303502"
      ]
     },
     "execution_count": 5,
     "metadata": {},
     "output_type": "execute_result"
    }
   ],
   "source": [
    "data['Time at Center'].value_counts()[1]/data['Time at Center'].value_counts()[0]"
   ]
  },
  {
   "cell_type": "code",
   "execution_count": 6,
   "metadata": {},
   "outputs": [
    {
     "data": {
      "text/plain": [
       "0    87047\n",
       "1     8337\n",
       "Name: Time at Center, dtype: int64"
      ]
     },
     "execution_count": 6,
     "metadata": {},
     "output_type": "execute_result"
    }
   ],
   "source": [
    "data['Time at Center'].value_counts()"
   ]
  },
  {
   "cell_type": "code",
   "execution_count": 7,
   "metadata": {},
   "outputs": [
    {
     "name": "stdout",
     "output_type": "stream",
     "text": [
      "<class 'pandas.core.frame.DataFrame'>\n",
      "RangeIndex: 95384 entries, 0 to 95383\n",
      "Data columns (total 13 columns):\n",
      " #   Column                Non-Null Count  Dtype \n",
      "---  ------                --------------  ----- \n",
      " 0   Pet ID                95384 non-null  object\n",
      " 1   Outcome Type          95379 non-null  object\n",
      " 2   Sex upon Outcome      95383 non-null  object\n",
      " 3   Name                  59093 non-null  object\n",
      " 4   Found Location        95384 non-null  object\n",
      " 5   Intake Type           95384 non-null  object\n",
      " 6   Intake Condition      95384 non-null  object\n",
      " 7   Pet Type              95384 non-null  object\n",
      " 8   Sex upon Intake       95383 non-null  object\n",
      " 9   Breed                 95384 non-null  object\n",
      " 10  Color                 95384 non-null  object\n",
      " 11  Age upon Intake Days  95384 non-null  int64 \n",
      " 12  Time at Center        95384 non-null  int64 \n",
      "dtypes: int64(2), object(11)\n",
      "memory usage: 9.5+ MB\n"
     ]
    }
   ],
   "source": [
    "data.info()"
   ]
  },
  {
   "cell_type": "markdown",
   "metadata": {},
   "source": [
    "### KEY POINTS IDENTIFIED:\n",
    "    \n",
    "1. **Primary key - \"Pet ID\" column**\n",
    "    - We will check for uniqueness later\n",
    "\n",
    "\n",
    "1. **4 columns with inconsistent non-null counts**\n",
    "    - Name - 59093 count\n",
    "    - Outcome - 95379 count\n",
    "    - Sex upon Outcome - 95383 count\n",
    "    - Sex upon Intake - 95383 count\n",
    "    \n",
    "    \n",
    "3. **One integer, independent variable**\n",
    "    - Age (days), discrete values \n",
    "    \n",
    "    \n",
    "4. **10 objects, independent variables**\n",
    "    - Categorical\n",
    "    - *Note: \"Name\" weak as categorical. Given the high nulls and high uniqueness of names, it is likely we may have to drop name as a feature, will explore further*\n",
    "    \n",
    "    \n",
    "5. **Dependent variable: \"Time at Center\"**"
   ]
  },
  {
   "cell_type": "code",
   "execution_count": 8,
   "metadata": {},
   "outputs": [
    {
     "data": {
      "text/html": [
       "<div>\n",
       "<style scoped>\n",
       "    .dataframe tbody tr th:only-of-type {\n",
       "        vertical-align: middle;\n",
       "    }\n",
       "\n",
       "    .dataframe tbody tr th {\n",
       "        vertical-align: top;\n",
       "    }\n",
       "\n",
       "    .dataframe thead th {\n",
       "        text-align: right;\n",
       "    }\n",
       "</style>\n",
       "<table border=\"1\" class=\"dataframe\">\n",
       "  <thead>\n",
       "    <tr style=\"text-align: right;\">\n",
       "      <th></th>\n",
       "      <th>Age upon Intake Days</th>\n",
       "      <th>Time at Center</th>\n",
       "    </tr>\n",
       "  </thead>\n",
       "  <tbody>\n",
       "    <tr>\n",
       "      <th>count</th>\n",
       "      <td>95384.000000</td>\n",
       "      <td>95384.000000</td>\n",
       "    </tr>\n",
       "    <tr>\n",
       "      <th>mean</th>\n",
       "      <td>704.154691</td>\n",
       "      <td>0.087405</td>\n",
       "    </tr>\n",
       "    <tr>\n",
       "      <th>std</th>\n",
       "      <td>1052.579518</td>\n",
       "      <td>0.282429</td>\n",
       "    </tr>\n",
       "    <tr>\n",
       "      <th>min</th>\n",
       "      <td>0.000000</td>\n",
       "      <td>0.000000</td>\n",
       "    </tr>\n",
       "    <tr>\n",
       "      <th>25%</th>\n",
       "      <td>30.000000</td>\n",
       "      <td>0.000000</td>\n",
       "    </tr>\n",
       "    <tr>\n",
       "      <th>50%</th>\n",
       "      <td>365.000000</td>\n",
       "      <td>0.000000</td>\n",
       "    </tr>\n",
       "    <tr>\n",
       "      <th>75%</th>\n",
       "      <td>730.000000</td>\n",
       "      <td>0.000000</td>\n",
       "    </tr>\n",
       "    <tr>\n",
       "      <th>max</th>\n",
       "      <td>9125.000000</td>\n",
       "      <td>1.000000</td>\n",
       "    </tr>\n",
       "  </tbody>\n",
       "</table>\n",
       "</div>"
      ],
      "text/plain": [
       "       Age upon Intake Days  Time at Center\n",
       "count          95384.000000    95384.000000\n",
       "mean             704.154691        0.087405\n",
       "std             1052.579518        0.282429\n",
       "min                0.000000        0.000000\n",
       "25%               30.000000        0.000000\n",
       "50%              365.000000        0.000000\n",
       "75%              730.000000        0.000000\n",
       "max             9125.000000        1.000000"
      ]
     },
     "execution_count": 8,
     "metadata": {},
     "output_type": "execute_result"
    }
   ],
   "source": [
    "data.describe()"
   ]
  },
  {
   "cell_type": "markdown",
   "metadata": {},
   "source": [
    "\"Time at Center\" can be ignored because it is a boolean masked as an integer column. \n",
    "\n",
    "\"Age upon Intake Days\" the standard deviation is larger than the mean value. This suggests there are some large outliers on the upper bound. We will investigate what steps need to be taken for this column in the section 3 of this notebook"
   ]
  },
  {
   "cell_type": "markdown",
   "metadata": {},
   "source": [
    "### Checking Primary Key column"
   ]
  },
  {
   "cell_type": "code",
   "execution_count": 9,
   "metadata": {},
   "outputs": [
    {
     "data": {
      "text/plain": [
       "1"
      ]
     },
     "execution_count": 9,
     "metadata": {},
     "output_type": "execute_result"
    }
   ],
   "source": [
    "data['Pet ID'].value_counts().max()"
   ]
  },
  {
   "cell_type": "markdown",
   "metadata": {},
   "source": [
    "\"Pet ID\" column is indeed unique. Let's make sure all columns contain the same data type"
   ]
  },
  {
   "cell_type": "markdown",
   "metadata": {},
   "source": [
    "### Checking for mixed data type columns"
   ]
  },
  {
   "cell_type": "code",
   "execution_count": 10,
   "metadata": {},
   "outputs": [
    {
     "name": "stdout",
     "output_type": "stream",
     "text": [
      "<class 'str'>      95379\n",
      "<class 'float'>        5\n",
      "Name: Outcome Type, dtype: int64\n",
      "\n",
      "<class 'str'>      95383\n",
      "<class 'float'>        1\n",
      "Name: Sex upon Outcome, dtype: int64\n",
      "\n",
      "<class 'str'>      59093\n",
      "<class 'float'>    36291\n",
      "Name: Name, dtype: int64\n",
      "\n",
      "<class 'str'>      95383\n",
      "<class 'float'>        1\n",
      "Name: Sex upon Intake, dtype: int64\n",
      "\n"
     ]
    }
   ],
   "source": [
    "for i in data.columns.values:\n",
    "    type_array = data[i].apply(type).value_counts()\n",
    "    if len(type_array)>1:\n",
    "        print(f'{type_array}')\n",
    "        print()\n",
    "    else:\n",
    "        pass"
   ]
  },
  {
   "cell_type": "markdown",
   "metadata": {},
   "source": [
    "All columns listed above are columns with null values based on the info method we passed earlier. The additional floating point values are nulls. We're going to take a look at \"Outcome Type\", \"Sex upon Outcome\" and \"Sex upon Intake\" first because the number of null values is low. We should easily be able to determine what to do with these null values. Then we will take a look at \"Name\""
   ]
  },
  {
   "cell_type": "markdown",
   "metadata": {},
   "source": [
    "### Handling \"Outcome Type\" nulls"
   ]
  },
  {
   "cell_type": "code",
   "execution_count": 11,
   "metadata": {},
   "outputs": [
    {
     "data": {
      "text/plain": [
       "Adoption           39734\n",
       "Transfer           32299\n",
       "Return to Owner    13719\n",
       "Euthanasia          7630\n",
       "Died                1053\n",
       "Disposal             503\n",
       "Rto-Adopt            369\n",
       "Missing               52\n",
       "Relocate              20\n",
       "Name: Outcome Type, dtype: int64"
      ]
     },
     "execution_count": 11,
     "metadata": {},
     "output_type": "execute_result"
    }
   ],
   "source": [
    "data['Outcome Type'].value_counts()"
   ]
  },
  {
   "cell_type": "code",
   "execution_count": 12,
   "metadata": {},
   "outputs": [
    {
     "data": {
      "text/html": [
       "<div>\n",
       "<style scoped>\n",
       "    .dataframe tbody tr th:only-of-type {\n",
       "        vertical-align: middle;\n",
       "    }\n",
       "\n",
       "    .dataframe tbody tr th {\n",
       "        vertical-align: top;\n",
       "    }\n",
       "\n",
       "    .dataframe thead th {\n",
       "        text-align: right;\n",
       "    }\n",
       "</style>\n",
       "<table border=\"1\" class=\"dataframe\">\n",
       "  <thead>\n",
       "    <tr style=\"text-align: right;\">\n",
       "      <th></th>\n",
       "      <th>Pet ID</th>\n",
       "      <th>Outcome Type</th>\n",
       "      <th>Sex upon Outcome</th>\n",
       "      <th>Name</th>\n",
       "      <th>Found Location</th>\n",
       "      <th>Intake Type</th>\n",
       "      <th>Intake Condition</th>\n",
       "      <th>Pet Type</th>\n",
       "      <th>Sex upon Intake</th>\n",
       "      <th>Breed</th>\n",
       "      <th>Color</th>\n",
       "      <th>Age upon Intake Days</th>\n",
       "      <th>Time at Center</th>\n",
       "    </tr>\n",
       "  </thead>\n",
       "  <tbody>\n",
       "    <tr>\n",
       "      <th>828</th>\n",
       "      <td>A674209</td>\n",
       "      <td>NaN</td>\n",
       "      <td>Unknown</td>\n",
       "      <td>NaN</td>\n",
       "      <td>4210 W. Braker in Austin (TX)</td>\n",
       "      <td>Wildlife</td>\n",
       "      <td>Normal</td>\n",
       "      <td>Other</td>\n",
       "      <td>Unknown</td>\n",
       "      <td>Bat Mix</td>\n",
       "      <td>Brown</td>\n",
       "      <td>0</td>\n",
       "      <td>0</td>\n",
       "    </tr>\n",
       "    <tr>\n",
       "      <th>10178</th>\n",
       "      <td>A679066</td>\n",
       "      <td>NaN</td>\n",
       "      <td>Unknown</td>\n",
       "      <td>NaN</td>\n",
       "      <td>Austin (TX)</td>\n",
       "      <td>Wildlife</td>\n",
       "      <td>Normal</td>\n",
       "      <td>Other</td>\n",
       "      <td>Unknown</td>\n",
       "      <td>Rabbit Sh</td>\n",
       "      <td>Brown</td>\n",
       "      <td>28</td>\n",
       "      <td>0</td>\n",
       "    </tr>\n",
       "    <tr>\n",
       "      <th>18664</th>\n",
       "      <td>A686025</td>\n",
       "      <td>NaN</td>\n",
       "      <td>Unknown</td>\n",
       "      <td>NaN</td>\n",
       "      <td>12901 N Ih 35 #1100 in Austin (TX)</td>\n",
       "      <td>Wildlife</td>\n",
       "      <td>Normal</td>\n",
       "      <td>Other</td>\n",
       "      <td>Unknown</td>\n",
       "      <td>Bat Mix</td>\n",
       "      <td>Brown</td>\n",
       "      <td>365</td>\n",
       "      <td>0</td>\n",
       "    </tr>\n",
       "    <tr>\n",
       "      <th>47605</th>\n",
       "      <td>A671017</td>\n",
       "      <td>NaN</td>\n",
       "      <td>Unknown</td>\n",
       "      <td>NaN</td>\n",
       "      <td>10105 Falcon Ridge Dr. in Travis (TX)</td>\n",
       "      <td>Wildlife</td>\n",
       "      <td>Sick</td>\n",
       "      <td>Other</td>\n",
       "      <td>Unknown</td>\n",
       "      <td>Fox Mix</td>\n",
       "      <td>Brown/Black</td>\n",
       "      <td>365</td>\n",
       "      <td>0</td>\n",
       "    </tr>\n",
       "    <tr>\n",
       "      <th>58378</th>\n",
       "      <td>A815725</td>\n",
       "      <td>NaN</td>\n",
       "      <td>Unknown</td>\n",
       "      <td>NaN</td>\n",
       "      <td>321 West Ben White in Austin (TX)</td>\n",
       "      <td>Wildlife</td>\n",
       "      <td>Normal</td>\n",
       "      <td>Other</td>\n",
       "      <td>Unknown</td>\n",
       "      <td>Bat</td>\n",
       "      <td>Black</td>\n",
       "      <td>365</td>\n",
       "      <td>0</td>\n",
       "    </tr>\n",
       "  </tbody>\n",
       "</table>\n",
       "</div>"
      ],
      "text/plain": [
       "        Pet ID Outcome Type Sex upon Outcome Name  \\\n",
       "828    A674209          NaN          Unknown  NaN   \n",
       "10178  A679066          NaN          Unknown  NaN   \n",
       "18664  A686025          NaN          Unknown  NaN   \n",
       "47605  A671017          NaN          Unknown  NaN   \n",
       "58378  A815725          NaN          Unknown  NaN   \n",
       "\n",
       "                              Found Location Intake Type Intake Condition  \\\n",
       "828            4210 W. Braker in Austin (TX)    Wildlife           Normal   \n",
       "10178                            Austin (TX)    Wildlife           Normal   \n",
       "18664     12901 N Ih 35 #1100 in Austin (TX)    Wildlife           Normal   \n",
       "47605  10105 Falcon Ridge Dr. in Travis (TX)    Wildlife             Sick   \n",
       "58378      321 West Ben White in Austin (TX)    Wildlife           Normal   \n",
       "\n",
       "      Pet Type Sex upon Intake      Breed        Color  Age upon Intake Days  \\\n",
       "828      Other         Unknown    Bat Mix        Brown                     0   \n",
       "10178    Other         Unknown  Rabbit Sh        Brown                    28   \n",
       "18664    Other         Unknown    Bat Mix        Brown                   365   \n",
       "47605    Other         Unknown    Fox Mix  Brown/Black                   365   \n",
       "58378    Other         Unknown        Bat        Black                   365   \n",
       "\n",
       "       Time at Center  \n",
       "828                 0  \n",
       "10178               0  \n",
       "18664               0  \n",
       "47605               0  \n",
       "58378               0  "
      ]
     },
     "execution_count": 12,
     "metadata": {},
     "output_type": "execute_result"
    }
   ],
   "source": [
    "data.loc[data['Outcome Type'].isnull()]"
   ]
  },
  {
   "cell_type": "markdown",
   "metadata": {},
   "source": [
    "Based on the values in \"Outcome Type\" and the number of nulls is low (5), I don't think imputing the values or replacing it with a dummy category like \"blank\" is necessary and we can likely remove these values. We just need to check these nulls are not associated with rare information in other columns.\n",
    "\n",
    "Check\n",
    "- Unknown in \"Sex upon Outcome\" and \"Sex upon Intake\" is not associated only with null outcome type\n",
    "- \"Name\" has many nulls so we do not have to check\n",
    "- \"Found Location\", perhaps City, Province will need to be extracted and checked\n",
    "- \"Intake Type\" ensure Wildlife is not associated only with null outcome type\n",
    "- \"Pet Type\" ensure Other is not associated with only null outcome type\n",
    "- \"Breed\" seems mixed, double check bat info is not under-represented after removal\n",
    "- \"Age upon Intake Days\" ensure distribution is not affected from removal of 0,28,365,365,365\n",
    "- \"Time at Center\" ensure dependent variable not largely affected by removal"
   ]
  },
  {
   "cell_type": "code",
   "execution_count": 13,
   "metadata": {},
   "outputs": [
    {
     "name": "stdout",
     "output_type": "stream",
     "text": [
      "Neutered Male    30233\n",
      "Spayed Female    28123\n",
      "Intact Female    13686\n",
      "Intact Male      13614\n",
      "Unknown           9727\n",
      "Name: Sex upon Outcome, dtype: int64\n",
      "\n",
      "Stray                 70112\n",
      "Owner Surrender       15131\n",
      "Public Assist          5236\n",
      "Wildlife               4559\n",
      "Euthanasia Request      235\n",
      "Abandoned               111\n",
      "Name: Intake Type, dtype: int64\n",
      "\n",
      "Normal      81824\n",
      "Injured      5384\n",
      "Sick         4289\n",
      "Nursing      3163\n",
      "Aged          352\n",
      "Other         189\n",
      "Feral          97\n",
      "Pregnant       63\n",
      "Medical        21\n",
      "Behavior        2\n",
      "Name: Intake Condition, dtype: int64\n",
      "\n",
      "Intact Male      33326\n",
      "Intact Female    32455\n",
      "Neutered Male    10521\n",
      "Unknown           9727\n",
      "Spayed Female     9354\n",
      "Name: Sex upon Intake, dtype: int64\n",
      "\n",
      "Dog          48674\n",
      "Cat          40023\n",
      "Other         6118\n",
      "Bird           553\n",
      "Livestock       16\n",
      "Name: Pet Type, dtype: int64\n",
      "\n"
     ]
    }
   ],
   "source": [
    "for i in ['Sex upon Outcome','Intake Type','Intake Condition','Sex upon Intake','Pet Type']:\n",
    "    print(data[i].value_counts())\n",
    "    print()"
   ]
  },
  {
   "cell_type": "code",
   "execution_count": 14,
   "metadata": {},
   "outputs": [
    {
     "data": {
      "text/plain": [
       "3030"
      ]
     },
     "execution_count": 14,
     "metadata": {},
     "output_type": "execute_result"
    }
   ],
   "source": [
    "data.loc[data.Breed.str.contains('Bat')].shape[0]"
   ]
  },
  {
   "cell_type": "markdown",
   "metadata": {},
   "source": [
    "Based on these values, removal of the 5 nulls from \"Outcome Type\" will not impact the dataset. Now to look at \"Sex upon Outcome\"."
   ]
  },
  {
   "cell_type": "code",
   "execution_count": 15,
   "metadata": {},
   "outputs": [],
   "source": [
    "data=data.loc[data['Outcome Type'].notnull()] #removing nulls from Outcome Type"
   ]
  },
  {
   "cell_type": "markdown",
   "metadata": {},
   "source": [
    "### Handling \"Sex upon Outcome\" and \"Sex upon Intake\" fields"
   ]
  },
  {
   "cell_type": "code",
   "execution_count": 16,
   "metadata": {},
   "outputs": [
    {
     "data": {
      "text/html": [
       "<div>\n",
       "<style scoped>\n",
       "    .dataframe tbody tr th:only-of-type {\n",
       "        vertical-align: middle;\n",
       "    }\n",
       "\n",
       "    .dataframe tbody tr th {\n",
       "        vertical-align: top;\n",
       "    }\n",
       "\n",
       "    .dataframe thead th {\n",
       "        text-align: right;\n",
       "    }\n",
       "</style>\n",
       "<table border=\"1\" class=\"dataframe\">\n",
       "  <thead>\n",
       "    <tr style=\"text-align: right;\">\n",
       "      <th></th>\n",
       "      <th>Pet ID</th>\n",
       "      <th>Outcome Type</th>\n",
       "      <th>Sex upon Outcome</th>\n",
       "      <th>Name</th>\n",
       "      <th>Found Location</th>\n",
       "      <th>Intake Type</th>\n",
       "      <th>Intake Condition</th>\n",
       "      <th>Pet Type</th>\n",
       "      <th>Sex upon Intake</th>\n",
       "      <th>Breed</th>\n",
       "      <th>Color</th>\n",
       "      <th>Age upon Intake Days</th>\n",
       "      <th>Time at Center</th>\n",
       "    </tr>\n",
       "  </thead>\n",
       "  <tbody>\n",
       "    <tr>\n",
       "      <th>38480</th>\n",
       "      <td>A667395</td>\n",
       "      <td>Return to Owner</td>\n",
       "      <td>NaN</td>\n",
       "      <td>Diego</td>\n",
       "      <td>Pflugerville (TX)</td>\n",
       "      <td>Owner Surrender</td>\n",
       "      <td>Normal</td>\n",
       "      <td>Dog</td>\n",
       "      <td>NaN</td>\n",
       "      <td>Dachshund</td>\n",
       "      <td>Brown Merle</td>\n",
       "      <td>2555</td>\n",
       "      <td>0</td>\n",
       "    </tr>\n",
       "  </tbody>\n",
       "</table>\n",
       "</div>"
      ],
      "text/plain": [
       "        Pet ID     Outcome Type Sex upon Outcome   Name     Found Location  \\\n",
       "38480  A667395  Return to Owner              NaN  Diego  Pflugerville (TX)   \n",
       "\n",
       "           Intake Type Intake Condition Pet Type Sex upon Intake      Breed  \\\n",
       "38480  Owner Surrender           Normal      Dog             NaN  Dachshund   \n",
       "\n",
       "             Color  Age upon Intake Days  Time at Center  \n",
       "38480  Brown Merle                  2555               0  "
      ]
     },
     "execution_count": 16,
     "metadata": {},
     "output_type": "execute_result"
    }
   ],
   "source": [
    "data.loc[data['Sex upon Outcome'].isnull()] "
   ]
  },
  {
   "cell_type": "markdown",
   "metadata": {},
   "source": [
    "Based on analysis of previous columns, we can include this record by replacing the null values with \"Unknown\" in both gender related columns. Unknown is already used to fill missing values in these columns."
   ]
  },
  {
   "cell_type": "code",
   "execution_count": 17,
   "metadata": {},
   "outputs": [
    {
     "name": "stderr",
     "output_type": "stream",
     "text": [
      "C:\\Users\\notal\\anaconda3\\lib\\site-packages\\pandas\\core\\series.py:4463: SettingWithCopyWarning: \n",
      "A value is trying to be set on a copy of a slice from a DataFrame\n",
      "\n",
      "See the caveats in the documentation: https://pandas.pydata.org/pandas-docs/stable/user_guide/indexing.html#returning-a-view-versus-a-copy\n",
      "  return super().fillna(\n"
     ]
    }
   ],
   "source": [
    "data['Sex upon Outcome'].fillna('Unknown',inplace=True)\n",
    "data['Sex upon Intake'].fillna('Unknown',inplace=True)"
   ]
  },
  {
   "cell_type": "markdown",
   "metadata": {},
   "source": [
    "## Dealing with Name\n",
    "\n",
    "Because almost 40% of the data has null name values, we will not be removing them. Instead, we will replace the values with \"Unknown\" to stay consistent with other column nomenclature for null values.\n"
   ]
  },
  {
   "cell_type": "code",
   "execution_count": 18,
   "metadata": {},
   "outputs": [],
   "source": [
    "data['Name'].fillna('Unknown',inplace=True)"
   ]
  },
  {
   "cell_type": "code",
   "execution_count": 19,
   "metadata": {},
   "outputs": [
    {
     "name": "stdout",
     "output_type": "stream",
     "text": [
      "<class 'pandas.core.frame.DataFrame'>\n",
      "Int64Index: 95379 entries, 0 to 95383\n",
      "Data columns (total 13 columns):\n",
      " #   Column                Non-Null Count  Dtype \n",
      "---  ------                --------------  ----- \n",
      " 0   Pet ID                95379 non-null  object\n",
      " 1   Outcome Type          95379 non-null  object\n",
      " 2   Sex upon Outcome      95379 non-null  object\n",
      " 3   Name                  95379 non-null  object\n",
      " 4   Found Location        95379 non-null  object\n",
      " 5   Intake Type           95379 non-null  object\n",
      " 6   Intake Condition      95379 non-null  object\n",
      " 7   Pet Type              95379 non-null  object\n",
      " 8   Sex upon Intake       95379 non-null  object\n",
      " 9   Breed                 95379 non-null  object\n",
      " 10  Color                 95379 non-null  object\n",
      " 11  Age upon Intake Days  95379 non-null  int64 \n",
      " 12  Time at Center        95379 non-null  int64 \n",
      "dtypes: int64(2), object(11)\n",
      "memory usage: 10.2+ MB\n"
     ]
    }
   ],
   "source": [
    "data.info()"
   ]
  },
  {
   "cell_type": "markdown",
   "metadata": {},
   "source": [
    "Now all columns in our data set have the same number of non-null values. We have removed 5 rows from the entire dataset from this cleaning step"
   ]
  },
  {
   "cell_type": "markdown",
   "metadata": {},
   "source": [
    "## Ensuring data consistencies\n",
    "- Noticed \"*\" prefix to certain names - need to clean this up\n",
    "- Check other columns for formatting inconsistencies"
   ]
  },
  {
   "cell_type": "markdown",
   "metadata": {},
   "source": [
    "### \"Name\" cleaning"
   ]
  },
  {
   "cell_type": "code",
   "execution_count": 20,
   "metadata": {},
   "outputs": [
    {
     "data": {
      "text/plain": [
       "17464"
      ]
     },
     "execution_count": 20,
     "metadata": {},
     "output_type": "execute_result"
    }
   ],
   "source": [
    "len(data.Name.unique())"
   ]
  },
  {
   "cell_type": "code",
   "execution_count": 21,
   "metadata": {},
   "outputs": [
    {
     "name": "stdout",
     "output_type": "stream",
     "text": [
      "14107\n"
     ]
    },
    {
     "name": "stderr",
     "output_type": "stream",
     "text": [
      "<ipython-input-21-719e600a3ca0>:1: SettingWithCopyWarning: \n",
      "A value is trying to be set on a copy of a slice from a DataFrame.\n",
      "Try using .loc[row_indexer,col_indexer] = value instead\n",
      "\n",
      "See the caveats in the documentation: https://pandas.pydata.org/pandas-docs/stable/user_guide/indexing.html#returning-a-view-versus-a-copy\n",
      "  data['Name']=data['Name'].str.replace('[*]','',regex=True) #remove asteriks\n"
     ]
    },
    {
     "data": {
      "text/plain": [
       "Unknown        36304\n",
       "Bella            370\n",
       "Max              359\n",
       "Luna             344\n",
       "Charlie          305\n",
       "               ...  \n",
       "Guidry             1\n",
       "Roland             1\n",
       "Von Winkler        1\n",
       "Wheezer            1\n",
       "Asher Finn         1\n",
       "Name: Name, Length: 14107, dtype: int64"
      ]
     },
     "execution_count": 21,
     "metadata": {},
     "output_type": "execute_result"
    }
   ],
   "source": [
    "data['Name']=data['Name'].str.replace('[*]','',regex=True) #remove asteriks\n",
    "print(len(data.Name.unique()))\n",
    "data.Name.value_counts()"
   ]
  },
  {
   "cell_type": "code",
   "execution_count": 22,
   "metadata": {},
   "outputs": [],
   "source": [
    "legacy_data=data.copy()"
   ]
  },
  {
   "cell_type": "markdown",
   "metadata": {},
   "source": [
    "Reduced unique values by 2,700. We will skip looking at \"Sex upon Outcome\", \"Intake Type\",\"Intake Condition\",\"Pet Type\",\"Sex upon Intake\" because we have seen their values before and they look fine.\n",
    "\n",
    "We'll now look at \"Found Location\" column. \n",
    "\n",
    "Then \"Breed\" and \"Color\"."
   ]
  },
  {
   "cell_type": "markdown",
   "metadata": {},
   "source": [
    "### \"Found Location\" check"
   ]
  },
  {
   "cell_type": "code",
   "execution_count": 23,
   "metadata": {},
   "outputs": [
    {
     "data": {
      "text/plain": [
       "Austin (TX)                                      14821\n",
       "Travis (TX)                                       1400\n",
       "7201 Levander Loop in Austin (TX)                  637\n",
       "Outside Jurisdiction                               605\n",
       "Del Valle (TX)                                     426\n",
       "                                                 ...  \n",
       "5145 Ranch Road 620 North in Travis (TX)             1\n",
       "2500 Tx-71 in Austin (TX)                            1\n",
       "S Congress Ave And Alpine Rd E in Austin (TX)        1\n",
       "800 Norwood Park in Austin (TX)                      1\n",
       "4509 Stelmo in Austin (TX)                           1\n",
       "Name: Found Location, Length: 43936, dtype: int64"
      ]
     },
     "execution_count": 23,
     "metadata": {},
     "output_type": "execute_result"
    }
   ],
   "source": [
    "data['Found Location'].value_counts()"
   ]
  },
  {
   "cell_type": "markdown",
   "metadata": {},
   "source": [
    "Based on these values, it seems this column follows a consistent pattern. With 43936 unique values, it will not be a reliable categorical feature unless we can bin together some of these values and create more useful features.\n",
    "\n",
    "(Street information (Optional)) (City) ((State))\n",
    "\n",
    "We will look into it a bit further once we decompose it into useful features in the engineering section - City and State. "
   ]
  },
  {
   "cell_type": "markdown",
   "metadata": {},
   "source": [
    "### Breed check"
   ]
  },
  {
   "cell_type": "code",
   "execution_count": 24,
   "metadata": {},
   "outputs": [
    {
     "data": {
      "text/plain": [
       "Domestic Shorthair Mix                        27654\n",
       "Domestic Shorthair                             5068\n",
       "Pit Bull Mix                                   5013\n",
       "Chihuahua Shorthair Mix                        4960\n",
       "Labrador Retriever Mix                         4783\n",
       "                                              ...  \n",
       "Siberian Husky/French Bulldog                     1\n",
       "Toy Fox Terrier/Dachshund                         1\n",
       "French Bulldog/Chihuahua Shorthair                1\n",
       "Dachshund/Blue Lacy                               1\n",
       "American Pit Bull Terrier/American Bulldog        1\n",
       "Name: Breed, Length: 2395, dtype: int64"
      ]
     },
     "execution_count": 24,
     "metadata": {},
     "output_type": "execute_result"
    }
   ],
   "source": [
    "data['Breed'].value_counts()"
   ]
  },
  {
   "cell_type": "markdown",
   "metadata": {},
   "source": [
    "2395 unique values is still quite high. The common values are types of mixes and the less common values are also mixes, but in different formats and more detailed.\n",
    "\n",
    "We can consider strategies to simplify the detailed values that are generating unnecessarily unique values. Additionally we can decompose the \"Breed\" column into \"Breed\", which only contains the main breed listed, and \"Mix\" to define whether the \"Breed\" is purebred or mixed.\n",
    "\n",
    "We will also need to look at this at by pet type. Different pet types may have different breed formatting."
   ]
  },
  {
   "cell_type": "code",
   "execution_count": 25,
   "metadata": {},
   "outputs": [
    {
     "data": {
      "text/plain": [
       "Dog          48674\n",
       "Cat          40023\n",
       "Other         6113\n",
       "Bird           553\n",
       "Livestock       16\n",
       "Name: Pet Type, dtype: int64"
      ]
     },
     "execution_count": 25,
     "metadata": {},
     "output_type": "execute_result"
    }
   ],
   "source": [
    "data['Pet Type'].value_counts()"
   ]
  },
  {
   "cell_type": "markdown",
   "metadata": {},
   "source": [
    "Because the categorical size of  \"Livestock\" are is small, we will bin it together with \"Other\". The model will not be able to generalize correctly from such a small bin. \"Bird\" may be a bit small, but it may be relevant."
   ]
  },
  {
   "cell_type": "code",
   "execution_count": 26,
   "metadata": {},
   "outputs": [
    {
     "name": "stderr",
     "output_type": "stream",
     "text": [
      "<ipython-input-26-09d109471959>:1: SettingWithCopyWarning: \n",
      "A value is trying to be set on a copy of a slice from a DataFrame.\n",
      "Try using .loc[row_indexer,col_indexer] = value instead\n",
      "\n",
      "See the caveats in the documentation: https://pandas.pydata.org/pandas-docs/stable/user_guide/indexing.html#returning-a-view-versus-a-copy\n",
      "  data['Pet Type']=data['Pet Type'].replace(to_replace={'Livestock':'Other'})\n"
     ]
    }
   ],
   "source": [
    "data['Pet Type']=data['Pet Type'].replace(to_replace={'Livestock':'Other'})"
   ]
  },
  {
   "cell_type": "code",
   "execution_count": 27,
   "metadata": {},
   "outputs": [
    {
     "data": {
      "text/plain": [
       "Bat Mix                1740\n",
       "Bat                    1287\n",
       "Raccoon Mix             537\n",
       "Raccoon                 364\n",
       "Rabbit Sh Mix           322\n",
       "                       ... \n",
       "Britannia Petit Mix       1\n",
       "Sheep Mix                 1\n",
       "Angora-Satin Mix          1\n",
       "Beveren Mix               1\n",
       "Otter Mix                 1\n",
       "Name: Breed, Length: 125, dtype: int64"
      ]
     },
     "execution_count": 27,
     "metadata": {},
     "output_type": "execute_result"
    }
   ],
   "source": [
    "data.loc[data['Pet Type']=='Other'].Breed.value_counts()"
   ]
  },
  {
   "cell_type": "code",
   "execution_count": 28,
   "metadata": {},
   "outputs": [
    {
     "data": {
      "text/plain": [
       "Chicken Mix      151\n",
       "Chicken           77\n",
       "Parakeet Mix      33\n",
       "Parakeet          25\n",
       "Duck Mix          21\n",
       "                ... \n",
       "Pheasant Mix       1\n",
       "Chickadee Mix      1\n",
       "Finch Mix          1\n",
       "Catbird Mix        1\n",
       "Waxwing Mix        1\n",
       "Name: Breed, Length: 75, dtype: int64"
      ]
     },
     "execution_count": 28,
     "metadata": {},
     "output_type": "execute_result"
    }
   ],
   "source": [
    "data.loc[data['Pet Type']=='Bird'].Breed.value_counts()"
   ]
  },
  {
   "cell_type": "code",
   "execution_count": 29,
   "metadata": {},
   "outputs": [
    {
     "data": {
      "text/plain": [
       "Domestic Shorthair Mix       27654\n",
       "Domestic Shorthair            5068\n",
       "Domestic Medium Hair Mix      2784\n",
       "Domestic Longhair Mix         1359\n",
       "Siamese Mix                   1132\n",
       "                             ...  \n",
       "Domestic Shorthair/Bengal        1\n",
       "Ocicat Mix                       1\n",
       "Snowshoe/Siamese                 1\n",
       "Siamese/Angora                   1\n",
       "Balinese                         1\n",
       "Name: Breed, Length: 95, dtype: int64"
      ]
     },
     "execution_count": 29,
     "metadata": {},
     "output_type": "execute_result"
    }
   ],
   "source": [
    "data.loc[data['Pet Type']=='Cat'].Breed.value_counts()"
   ]
  },
  {
   "cell_type": "code",
   "execution_count": 30,
   "metadata": {},
   "outputs": [
    {
     "data": {
      "text/plain": [
       "Pit Bull Mix                                    5013\n",
       "Chihuahua Shorthair Mix                         4960\n",
       "Labrador Retriever Mix                          4783\n",
       "German Shepherd Mix                             2043\n",
       "Australian Cattle Dog Mix                       1071\n",
       "                                                ... \n",
       "Miniature Schnauzer/Maltese                        1\n",
       "Catahoula/Vizsla                                   1\n",
       "Dachshund/Toy Poodle                               1\n",
       "Australian Shepherd/English Springer Spaniel       1\n",
       "Black Mouth Cur/Belgian Malinois                   1\n",
       "Name: Breed, Length: 2101, dtype: int64"
      ]
     },
     "execution_count": 30,
     "metadata": {},
     "output_type": "execute_result"
    }
   ],
   "source": [
    "data.loc[data['Pet Type']=='Dog'].Breed.value_counts()"
   ]
  },
  {
   "cell_type": "markdown",
   "metadata": {},
   "source": [
    "After looking at all the different types of animals and their breeds my strategy to improve categorization from these columns is to identify whether a \"Breed\" value contains \"Mix\" or \"/\" and label them as \"Mix\" in the \"Mix\" column and as \"Not\" if otherwise.\n",
    "\n",
    "We will then extract the string before \"Mix\" and \"/\" to re-categorize pure, mix and \"mix detailed\" formats together.\n",
    "\n",
    "If that does not solve the complexity of the categorical column, we could use a more complex strategy of identifying the most common pure breed listed instead of the first. This is likely an unnecessary step so I will stick with a more simple strategy and move on."
   ]
  },
  {
   "cell_type": "code",
   "execution_count": 31,
   "metadata": {},
   "outputs": [
    {
     "name": "stderr",
     "output_type": "stream",
     "text": [
      "<ipython-input-31-7c1a223b82dd>:1: SettingWithCopyWarning: \n",
      "A value is trying to be set on a copy of a slice from a DataFrame.\n",
      "Try using .loc[row_indexer,col_indexer] = value instead\n",
      "\n",
      "See the caveats in the documentation: https://pandas.pydata.org/pandas-docs/stable/user_guide/indexing.html#returning-a-view-versus-a-copy\n",
      "  data['Mix']=np.where((data['Breed'].str.contains('Mix'))|(data['Breed'].str.contains('/')),\"Mix\",\"Not\")\n"
     ]
    },
    {
     "name": "stdout",
     "output_type": "stream",
     "text": [
      "637\n",
      "637\n",
      "362\n"
     ]
    },
    {
     "name": "stderr",
     "output_type": "stream",
     "text": [
      "<ipython-input-31-7c1a223b82dd>:3: SettingWithCopyWarning: \n",
      "A value is trying to be set on a copy of a slice from a DataFrame.\n",
      "Try using .loc[row_indexer,col_indexer] = value instead\n",
      "\n",
      "See the caveats in the documentation: https://pandas.pydata.org/pandas-docs/stable/user_guide/indexing.html#returning-a-view-versus-a-copy\n",
      "  data['Breed_new']=np.where(data['Breed'].str.contains('Mix'),data['Breed'].str.split('Mix').str[0],\n",
      "<ipython-input-31-7c1a223b82dd>:6: SettingWithCopyWarning: \n",
      "A value is trying to be set on a copy of a slice from a DataFrame.\n",
      "Try using .loc[row_indexer,col_indexer] = value instead\n",
      "\n",
      "See the caveats in the documentation: https://pandas.pydata.org/pandas-docs/stable/user_guide/indexing.html#returning-a-view-versus-a-copy\n",
      "  data['Breed_new']=data['Breed_new'].str.lower()\n",
      "<ipython-input-31-7c1a223b82dd>:8: SettingWithCopyWarning: \n",
      "A value is trying to be set on a copy of a slice from a DataFrame.\n",
      "Try using .loc[row_indexer,col_indexer] = value instead\n",
      "\n",
      "See the caveats in the documentation: https://pandas.pydata.org/pandas-docs/stable/user_guide/indexing.html#returning-a-view-versus-a-copy\n",
      "  data['Breed_new']=data['Breed_new'].str.strip()\n"
     ]
    }
   ],
   "source": [
    "data['Mix']=np.where((data['Breed'].str.contains('Mix'))|(data['Breed'].str.contains('/')),\"Mix\",\"Not\")\n",
    "\n",
    "data['Breed_new']=np.where(data['Breed'].str.contains('Mix'),data['Breed'].str.split('Mix').str[0],\n",
    "                          np.where(data['Breed'].str.contains('/'),data['Breed'].str.split('/').str[0],data['Breed']))\n",
    "print(len(data['Breed_new'].unique()))\n",
    "data['Breed_new']=data['Breed_new'].str.lower()\n",
    "print(len(data['Breed_new'].unique()))\n",
    "data['Breed_new']=data['Breed_new'].str.strip()\n",
    "print(len(data['Breed_new'].unique()))"
   ]
  },
  {
   "cell_type": "markdown",
   "metadata": {},
   "source": [
    "Reduced unique values from 2395 to 362. Let's see if there's any further reduction necessary. Categories with only 1-2 values are not good for model generalization on future data"
   ]
  },
  {
   "cell_type": "code",
   "execution_count": 32,
   "metadata": {},
   "outputs": [
    {
     "data": {
      "text/html": [
       "<div>\n",
       "<style scoped>\n",
       "    .dataframe tbody tr th:only-of-type {\n",
       "        vertical-align: middle;\n",
       "    }\n",
       "\n",
       "    .dataframe tbody tr th {\n",
       "        vertical-align: top;\n",
       "    }\n",
       "\n",
       "    .dataframe thead th {\n",
       "        text-align: right;\n",
       "    }\n",
       "</style>\n",
       "<table border=\"1\" class=\"dataframe\">\n",
       "  <thead>\n",
       "    <tr style=\"text-align: right;\">\n",
       "      <th></th>\n",
       "      <th>Breed_new</th>\n",
       "    </tr>\n",
       "  </thead>\n",
       "  <tbody>\n",
       "    <tr>\n",
       "      <th>count</th>\n",
       "      <td>362.000000</td>\n",
       "    </tr>\n",
       "    <tr>\n",
       "      <th>mean</th>\n",
       "      <td>263.477901</td>\n",
       "    </tr>\n",
       "    <tr>\n",
       "      <th>std</th>\n",
       "      <td>1840.323954</td>\n",
       "    </tr>\n",
       "    <tr>\n",
       "      <th>min</th>\n",
       "      <td>1.000000</td>\n",
       "    </tr>\n",
       "    <tr>\n",
       "      <th>25%</th>\n",
       "      <td>4.000000</td>\n",
       "    </tr>\n",
       "    <tr>\n",
       "      <th>50%</th>\n",
       "      <td>13.000000</td>\n",
       "    </tr>\n",
       "    <tr>\n",
       "      <th>75%</th>\n",
       "      <td>69.750000</td>\n",
       "    </tr>\n",
       "    <tr>\n",
       "      <th>max</th>\n",
       "      <td>32734.000000</td>\n",
       "    </tr>\n",
       "  </tbody>\n",
       "</table>\n",
       "</div>"
      ],
      "text/plain": [
       "          Breed_new\n",
       "count    362.000000\n",
       "mean     263.477901\n",
       "std     1840.323954\n",
       "min        1.000000\n",
       "25%        4.000000\n",
       "50%       13.000000\n",
       "75%       69.750000\n",
       "max    32734.000000"
      ]
     },
     "execution_count": 32,
     "metadata": {},
     "output_type": "execute_result"
    }
   ],
   "source": [
    "breed=data['Breed_new'].value_counts().to_frame()\n",
    "breed.describe()"
   ]
  },
  {
   "cell_type": "markdown",
   "metadata": {},
   "source": [
    "Huge difference between percentiles, mean and max values. More cleanup is required."
   ]
  },
  {
   "cell_type": "code",
   "execution_count": 33,
   "metadata": {},
   "outputs": [
    {
     "data": {
      "text/plain": [
       "74787"
      ]
     },
     "execution_count": 33,
     "metadata": {},
     "output_type": "execute_result"
    }
   ],
   "source": [
    "breed.sort_values(by='Breed_new',ascending=False).head(20).Breed_new.sum()"
   ]
  },
  {
   "cell_type": "code",
   "execution_count": 34,
   "metadata": {},
   "outputs": [
    {
     "data": {
      "text/html": [
       "<div>\n",
       "<style scoped>\n",
       "    .dataframe tbody tr th:only-of-type {\n",
       "        vertical-align: middle;\n",
       "    }\n",
       "\n",
       "    .dataframe tbody tr th {\n",
       "        vertical-align: top;\n",
       "    }\n",
       "\n",
       "    .dataframe thead th {\n",
       "        text-align: right;\n",
       "    }\n",
       "</style>\n",
       "<table border=\"1\" class=\"dataframe\">\n",
       "  <thead>\n",
       "    <tr style=\"text-align: right;\">\n",
       "      <th></th>\n",
       "      <th>Breed_new</th>\n",
       "    </tr>\n",
       "  </thead>\n",
       "  <tbody>\n",
       "    <tr>\n",
       "      <th>unknown</th>\n",
       "      <td>4</td>\n",
       "    </tr>\n",
       "    <tr>\n",
       "      <th>cymric</th>\n",
       "      <td>4</td>\n",
       "    </tr>\n",
       "    <tr>\n",
       "      <th>lop-amer fuzzy</th>\n",
       "      <td>4</td>\n",
       "    </tr>\n",
       "    <tr>\n",
       "      <th>angora-french</th>\n",
       "      <td>4</td>\n",
       "    </tr>\n",
       "    <tr>\n",
       "      <th>muscovy</th>\n",
       "      <td>4</td>\n",
       "    </tr>\n",
       "    <tr>\n",
       "      <th>...</th>\n",
       "      <td>...</td>\n",
       "    </tr>\n",
       "    <tr>\n",
       "      <th>song bird</th>\n",
       "      <td>1</td>\n",
       "    </tr>\n",
       "    <tr>\n",
       "      <th>warbler</th>\n",
       "      <td>1</td>\n",
       "    </tr>\n",
       "    <tr>\n",
       "      <th>whimbrel</th>\n",
       "      <td>1</td>\n",
       "    </tr>\n",
       "    <tr>\n",
       "      <th>chickadee</th>\n",
       "      <td>1</td>\n",
       "    </tr>\n",
       "    <tr>\n",
       "      <th>dachshund stan</th>\n",
       "      <td>1</td>\n",
       "    </tr>\n",
       "  </tbody>\n",
       "</table>\n",
       "<p>105 rows × 1 columns</p>\n",
       "</div>"
      ],
      "text/plain": [
       "                Breed_new\n",
       "unknown                 4\n",
       "cymric                  4\n",
       "lop-amer fuzzy          4\n",
       "angora-french           4\n",
       "muscovy                 4\n",
       "...                   ...\n",
       "song bird               1\n",
       "warbler                 1\n",
       "whimbrel                1\n",
       "chickadee               1\n",
       "dachshund stan          1\n",
       "\n",
       "[105 rows x 1 columns]"
      ]
     },
     "execution_count": 34,
     "metadata": {},
     "output_type": "execute_result"
    }
   ],
   "source": [
    "breed.loc[breed.Breed_new<5]"
   ]
  },
  {
   "cell_type": "code",
   "execution_count": 35,
   "metadata": {},
   "outputs": [
    {
     "data": {
      "text/plain": [
       "Dog      48674\n",
       "Cat      40023\n",
       "Other     6129\n",
       "Bird       553\n",
       "Name: Pet Type, dtype: int64"
      ]
     },
     "execution_count": 35,
     "metadata": {},
     "output_type": "execute_result"
    }
   ],
   "source": [
    "data['Pet Type'].value_counts()"
   ]
  },
  {
   "cell_type": "markdown",
   "metadata": {},
   "source": [
    "I was stumped on the best way to reduce the number of bins in this category and just thought of using tokenization to reduce binning further. Other approaches I considered.\n",
    "\n",
    "- Thresholding by mean or percentile values\n",
    "    - *Issue: Even binning all categories under 600 in size led to 20k records with undefined breeds - a significant loss of information*\n",
    "- Thresholding by a proportion of the minority class\n",
    "    - e.g. Bins must contain 20% of minority class size\n",
    "- Extract bi-grams to derive smaller groups\n",
    "- Using Levenshtein distance to organize categories by edit distance\n",
    "    \n",
    "    \n",
    "First we will bin the breeds of smaller \"Pet Type\" categories like \"Bird\" and \"Other\".\n"
   ]
  },
  {
   "cell_type": "code",
   "execution_count": 36,
   "metadata": {},
   "outputs": [
    {
     "name": "stdout",
     "output_type": "stream",
     "text": [
      "Pet Type: Cat  |  Unique Breeds: 41\n",
      "Pet Type: Dog  |  Unique Breeds: 202\n",
      "Pet Type: Other  |  Unique Breeds: 72\n",
      "Pet Type: Bird  |  Unique Breeds: 49\n"
     ]
    }
   ],
   "source": [
    "for i in data[\"Pet Type\"].unique():\n",
    "    breed_count = data.loc[data[\"Pet Type\"]==i].Breed_new.value_counts().shape[0]\n",
    "    print(f'Pet Type: {i}  |  Unique Breeds: {breed_count}')\n"
   ]
  },
  {
   "cell_type": "code",
   "execution_count": 37,
   "metadata": {},
   "outputs": [
    {
     "data": {
      "text/plain": [
       "chicken         228\n",
       "parakeet         58\n",
       "duck             37\n",
       "dove             28\n",
       "pigeon           23\n",
       "cockatiel        18\n",
       "grackle          15\n",
       "parrot           11\n",
       "sparrow          10\n",
       "peafowl           9\n",
       "bantam            9\n",
       "hawk              8\n",
       "quaker            8\n",
       "rhode island      6\n",
       "owl               6\n",
       "finch             6\n",
       "lovebird          5\n",
       "heron             5\n",
       "mockingbird       5\n",
       "conure            5\n",
       "turkey            5\n",
       "vulture           4\n",
       "muscovy           4\n",
       "bluebird          4\n",
       "cockatoo          4\n",
       "budgerigar        3\n",
       "guinea            3\n",
       "black             2\n",
       "macaw             2\n",
       "barred rock       2\n",
       "crow              2\n",
       "lark              1\n",
       "wren              1\n",
       "bunting           1\n",
       "song bird         1\n",
       "warbler           1\n",
       "african           1\n",
       "leghorn           1\n",
       "catbird           1\n",
       "other bird        1\n",
       "whimbrel          1\n",
       "orpington         1\n",
       "chickadee         1\n",
       "pheasant          1\n",
       "nuthatch          1\n",
       "canary            1\n",
       "goose             1\n",
       "silkie            1\n",
       "waxwing           1\n",
       "Name: Breed_new, dtype: int64"
      ]
     },
     "execution_count": 37,
     "metadata": {},
     "output_type": "execute_result"
    }
   ],
   "source": [
    "data.loc[data[\"Pet Type\"]=='Bird'].Breed_new.value_counts()"
   ]
  },
  {
   "cell_type": "code",
   "execution_count": 38,
   "metadata": {},
   "outputs": [
    {
     "name": "stdout",
     "output_type": "stream",
     "text": [
      "316\n"
     ]
    },
    {
     "name": "stderr",
     "output_type": "stream",
     "text": [
      "<ipython-input-38-6f207744de77>:1: SettingWithCopyWarning: \n",
      "A value is trying to be set on a copy of a slice from a DataFrame.\n",
      "Try using .loc[row_indexer,col_indexer] = value instead\n",
      "\n",
      "See the caveats in the documentation: https://pandas.pydata.org/pandas-docs/stable/user_guide/indexing.html#returning-a-view-versus-a-copy\n",
      "  data['Breed_new']=np.where((data['Pet Type']=='Bird')&(data['Breed_new']!='chicken'),'Other Bird',data['Breed_new'])\n"
     ]
    }
   ],
   "source": [
    "data['Breed_new']=np.where((data['Pet Type']=='Bird')&(data['Breed_new']!='chicken'),'Other Bird',data['Breed_new'])\n",
    "print(len(data.Breed_new.unique()))"
   ]
  },
  {
   "cell_type": "code",
   "execution_count": 39,
   "metadata": {},
   "outputs": [
    {
     "name": "stdout",
     "output_type": "stream",
     "text": [
      "bat                3027\n",
      "raccoon                901\n",
      "rabbit sh                406\n",
      "guinea pig                335\n",
      "opossum                320\n",
      "skunk                178\n",
      "squirrel                134\n",
      "rat                109\n",
      "fox                102\n",
      "ferret                58\n",
      "hamster                56\n",
      "californian                55\n",
      "snake                34\n",
      "cold water                30\n",
      "turtle                29\n",
      "coyote                25\n",
      "lionhead                25\n",
      "rex                22\n",
      "rabbit lh                17\n",
      "english spot                16\n",
      "lop-holland                16\n",
      "lizard                16\n",
      "tortoise                14\n",
      "new zealand wht                13\n",
      "havana                13\n",
      "lop-mini                11\n",
      "lop-english                11\n",
      "american                10\n",
      "mouse                10\n",
      "pig                10\n",
      "armadillo                10\n",
      "dutch                9\n",
      "netherlnd dwarf                9\n",
      "chinchilla                8\n",
      "gerbil                7\n",
      "tarantula                6\n",
      "rex-mini                5\n",
      "flemish giant                4\n",
      "sugar glider                4\n",
      "angora-french                4\n",
      "cinnamon                4\n",
      "lop-amer fuzzy                4\n",
      "hotot                3\n",
      "polish                3\n",
      "cottontail                3\n",
      "hedgehog                3\n",
      "american sable                3\n",
      "checkered giant                2\n",
      "jersey wooly                2\n",
      "angora-english                2\n",
      "potbelly pig                2\n",
      "goat                2\n",
      "ringtail                2\n",
      "angora-satin                2\n",
      "belgian hare                2\n",
      "chinchilla-amer                2\n",
      "otter                2\n",
      "harlequin                2\n",
      "himalayan                2\n",
      "frog                1\n",
      "hermit crab                1\n",
      "deer                1\n",
      "pygmy                1\n",
      "tropical                1\n",
      "sheep                1\n",
      "prairie dog                1\n",
      "rhinelander                1\n",
      "bobcat                1\n",
      "britannia petit                1\n",
      "beveren                1\n",
      "silver                1\n",
      "dwarf hotot                1\n"
     ]
    }
   ],
   "source": [
    "for i,x in data.loc[data[\"Pet Type\"]=='Other'].Breed_new.value_counts().iteritems():\n",
    "    print(f'{i}                {x}')\n"
   ]
  },
  {
   "cell_type": "markdown",
   "metadata": {},
   "source": [
    "We will bin everything under 100 count. We could extract rodents to be in a category, as there is enough to make a bin larger than 300. However I don't think its going to affect performance too much."
   ]
  },
  {
   "cell_type": "code",
   "execution_count": 40,
   "metadata": {},
   "outputs": [
    {
     "name": "stdout",
     "output_type": "stream",
     "text": [
      "255\n"
     ]
    },
    {
     "name": "stderr",
     "output_type": "stream",
     "text": [
      "<ipython-input-40-615d4d8f5899>:7: SettingWithCopyWarning: \n",
      "A value is trying to be set on a copy of a slice from a DataFrame.\n",
      "Try using .loc[row_indexer,col_indexer] = value instead\n",
      "\n",
      "See the caveats in the documentation: https://pandas.pydata.org/pandas-docs/stable/user_guide/indexing.html#returning-a-view-versus-a-copy\n",
      "  data['Breed_new']=np.where((data['Pet Type']=='Other')&(data['Breed_new'].isin(remove_other)),'Other',data['Breed_new'])\n"
     ]
    }
   ],
   "source": [
    "remove_other = []\n",
    "for i,x in data.loc[data[\"Pet Type\"]=='Other'].Breed_new.value_counts().iteritems():\n",
    "    if x<100:\n",
    "        remove_other.append(i)\n",
    "    else:\n",
    "        pass\n",
    "data['Breed_new']=np.where((data['Pet Type']=='Other')&(data['Breed_new'].isin(remove_other)),'Other',data['Breed_new'])\n",
    "print(len(data.Breed_new.unique()))"
   ]
  },
  {
   "cell_type": "code",
   "execution_count": 41,
   "metadata": {},
   "outputs": [
    {
     "data": {
      "text/plain": [
       "domestic shorthair         32734\n",
       "domestic medium hair        3392\n",
       "domestic longhair           1542\n",
       "siamese                     1317\n",
       "american shorthair           240\n",
       "snowshoe                     181\n",
       "maine coon                   127\n",
       "manx                         108\n",
       "russian blue                  79\n",
       "ragdoll                       50\n",
       "himalayan                     44\n",
       "persian                       28\n",
       "balinese                      17\n",
       "bengal                        15\n",
       "abyssinian                    14\n",
       "american curl shorthair       13\n",
       "angora                        13\n",
       "tonkinese                     12\n",
       "japanese bobtail               9\n",
       "turkish van                    8\n",
       "british shorthair              8\n",
       "devon rex                      7\n",
       "turkish angora                 7\n",
       "bombay                         7\n",
       "burmese                        6\n",
       "cornish rex                    5\n",
       "norwegian forest cat           4\n",
       "cymric                         4\n",
       "pixiebob shorthair             4\n",
       "exotic shorthair               3\n",
       "havana brown                   3\n",
       "scottish fold                  3\n",
       "oriental sh                    3\n",
       "sphynx                         3\n",
       "colorpoint                     3\n",
       "munchkin longhair              2\n",
       "javanese                       2\n",
       "chartreux                      2\n",
       "munchkin shorthair             2\n",
       "american wirehair              1\n",
       "ocicat                         1\n",
       "Name: Breed_new, dtype: int64"
      ]
     },
     "execution_count": 41,
     "metadata": {},
     "output_type": "execute_result"
    }
   ],
   "source": [
    "data.loc[data[\"Pet Type\"]=='Cat'].Breed_new.value_counts()"
   ]
  },
  {
   "cell_type": "markdown",
   "metadata": {},
   "source": [
    "Just gonna bin anything under 1000."
   ]
  },
  {
   "cell_type": "code",
   "execution_count": 42,
   "metadata": {},
   "outputs": [
    {
     "name": "stdout",
     "output_type": "stream",
     "text": [
      "219\n"
     ]
    },
    {
     "name": "stderr",
     "output_type": "stream",
     "text": [
      "<ipython-input-42-253d1cb1b992>:7: SettingWithCopyWarning: \n",
      "A value is trying to be set on a copy of a slice from a DataFrame.\n",
      "Try using .loc[row_indexer,col_indexer] = value instead\n",
      "\n",
      "See the caveats in the documentation: https://pandas.pydata.org/pandas-docs/stable/user_guide/indexing.html#returning-a-view-versus-a-copy\n",
      "  data['Breed_new']=np.where((data['Pet Type']=='Cat')&(data['Breed_new'].isin(remove_other)),'Other Cat',data['Breed_new'])\n"
     ]
    }
   ],
   "source": [
    "remove_other = []\n",
    "for i,x in data.loc[data[\"Pet Type\"]=='Cat'].Breed_new.value_counts().iteritems():\n",
    "    if x<1000:\n",
    "        remove_other.append(i)\n",
    "    else:\n",
    "        pass\n",
    "data['Breed_new']=np.where((data['Pet Type']=='Cat')&(data['Breed_new'].isin(remove_other)),'Other Cat',data['Breed_new'])\n",
    "print(len(data.Breed_new.unique()))"
   ]
  },
  {
   "cell_type": "code",
   "execution_count": 43,
   "metadata": {},
   "outputs": [
    {
     "name": "stdout",
     "output_type": "stream",
     "text": [
      "labrador retriever                6818\n",
      "chihuahua shorthair                6411\n",
      "pit bull                6174\n",
      "german shepherd                3043\n",
      "australian cattle dog                1576\n",
      "dachshund                1416\n",
      "border collie                982\n",
      "boxer                933\n",
      "miniature poodle                908\n",
      "yorkshire terrier                786\n",
      "siberian husky                734\n",
      "australian shepherd                719\n",
      "beagle                695\n",
      "great pyrenees                679\n",
      "miniature schnauzer                655\n",
      "catahoula                644\n",
      "rat terrier                637\n",
      "jack russell terrier                634\n",
      "shih tzu                593\n",
      "cairn terrier                570\n",
      "chihuahua longhair                566\n",
      "pointer                502\n",
      "rottweiler                492\n",
      "anatol shepherd                425\n",
      "staffordshire                421\n",
      "plott hound                361\n",
      "maltese                350\n",
      "american bulldog                327\n",
      "pug                309\n",
      "golden retriever                307\n",
      "black mouth cur                296\n",
      "australian kelpie                290\n",
      "miniature pinscher                249\n",
      "american pit bull terrier                244\n",
      "cocker spaniel                227\n",
      "border terrier                224\n",
      "american staffordshire terrier                219\n",
      "chow chow                208\n",
      "doberman pinsch                206\n",
      "basset hound                202\n",
      "lhasa apso                192\n",
      "cardigan welsh corgi                186\n",
      "pomeranian                181\n",
      "queensland heeler                179\n",
      "boston terrier                177\n",
      "dachshund longhair                176\n",
      "alaskan husky                170\n",
      "great dane                164\n",
      "blue lacy                157\n",
      "mastiff                148\n",
      "dachshund wirehair                144\n",
      "toy poodle                144\n",
      "chinese sharpei                144\n",
      "pekingese                138\n",
      "english bulldog                122\n",
      "collie smooth                118\n",
      "norfolk terrier                117\n",
      "rhod ridgeback                108\n",
      "manchester terrier                106\n",
      "wire hair fox terrier                100\n",
      "pembroke welsh corgi                99\n",
      "belgian malinois                99\n",
      "bull terrier                93\n",
      "flat coat retriever                91\n",
      "soft coated wheaten terrier                85\n",
      "carolina dog                83\n",
      "black/tan hound                81\n",
      "whippet                78\n",
      "redbone hound                78\n",
      "bichon frise                77\n",
      "weimaraner                72\n",
      "german shorthair pointer                70\n",
      "papillon                69\n",
      "basenji                67\n",
      "akita                66\n",
      "west highland                66\n",
      "dalmatian                64\n",
      "standard schnauzer                63\n",
      "harrier                61\n",
      "bruss griffon                61\n",
      "standard poodle                60\n",
      "vizsla                60\n",
      "norwich terrier                59\n",
      "shetland sheepdog                58\n",
      "collie rough                56\n",
      "smooth fox terrier                53\n",
      "shiba inu                52\n",
      "pbgv                51\n",
      "greyhound                51\n",
      "cavalier span                46\n",
      "bulldog                46\n",
      "parson russell terrier                45\n",
      "havanese                43\n",
      "dutch shepherd                43\n",
      "bloodhound                41\n",
      "scottish terrier                40\n",
      "welsh terrier                40\n",
      "american eskimo                37\n",
      "tibetan spaniel                37\n",
      "alaskan malamute                36\n",
      "french bulldog                35\n",
      "english coonhound                34\n",
      "toy fox terrier                34\n",
      "black                32\n",
      "italian greyhound                32\n",
      "bullmastiff                31\n",
      "bernese mountain dog                30\n",
      "st. bernard rough coat                30\n",
      "brittany                30\n",
      "treeing walker coonhound                30\n",
      "dogo argentino                27\n",
      "pharaoh hound                27\n",
      "st. bernard smooth coat                25\n",
      "airedale terrier                25\n",
      "finnish spitz                25\n",
      "english pointer                25\n",
      "irish terrier                24\n",
      "bluetick hound                24\n",
      "australian terrier                22\n",
      "chesa bay retr                22\n",
      "schnauzer giant                20\n",
      "leonberger                20\n",
      "english springer spaniel                19\n",
      "chinese crested                18\n",
      "tibetan terrier                17\n",
      "newfoundland                17\n",
      "silky terrier                16\n",
      "swedish vallhund                16\n",
      "landseer                16\n",
      "american foxhound                15\n",
      "old english bulldog                14\n",
      "glen of imaal                14\n",
      "feist                14\n",
      "german wirehaired pointer                14\n",
      "irish wolfhound                14\n",
      "bull terrier miniature                13\n",
      "beauceron                13\n",
      "samoyed                12\n",
      "nova scotia duck tolling retriever                12\n",
      "boykin span                12\n",
      "cane corso                12\n",
      "canaan dog                12\n",
      "keeshond                11\n",
      "english foxhound                11\n",
      "mexican hairless                10\n",
      "bearded collie                10\n",
      "skye terrier                10\n",
      "picardy sheepdog                10\n",
      "treeing cur                10\n",
      "schipperke                10\n",
      "patterdale terr                9\n",
      "english shepherd                9\n",
      "jindo                9\n",
      "saluki                8\n",
      "field spaniel                8\n",
      "wirehaired pointing griffon                8\n",
      "japanese chin                8\n",
      "greater swiss mountain dog                7\n",
      "irish setter                7\n",
      "dogue de bordeaux                7\n",
      "old english sheepdog                6\n",
      "boerboel                6\n",
      "treeing tennesse brindle                6\n",
      "belgian sheepdog                6\n",
      "welsh springer spaniel                6\n",
      "english cocker spaniel                6\n",
      "ibizan hound                6\n",
      "neapolitan mastiff                5\n",
      "coton de tulear                5\n",
      "affenpinscher                5\n",
      "podengo pequeno                5\n",
      "kuvasz                5\n",
      "clumber spaniel                5\n",
      "english setter                4\n",
      "german pinscher                4\n",
      "presa canario                4\n",
      "port water dog                4\n",
      "unknown                4\n",
      "dandie dinmont                4\n",
      "hovawart                4\n",
      "belgian tervuren                4\n",
      "afghan hound                3\n",
      "bedlington terr                3\n",
      "otterhound                3\n",
      "entlebucher                2\n",
      "gordon setter                2\n",
      "sussex span                2\n",
      "lakeland terrier                2\n",
      "norwegian elkhound                2\n",
      "lowchen                2\n",
      "swiss hound                2\n",
      "grand basset griffon vendeen                1\n",
      "spanish mastiff                1\n",
      "spanish water dog                1\n",
      "eng toy spaniel                1\n",
      "akbash                1\n",
      "briard                1\n",
      "alaskan klee kai                1\n",
      "sealyham terr                1\n",
      "dachshund stan                1\n",
      "tibetan mastiff                1\n",
      "bouv flandres                1\n"
     ]
    }
   ],
   "source": [
    "for i,x in data.loc[data[\"Pet Type\"]=='Dog'].Breed_new.value_counts().iteritems():\n",
    "    print(f'{i}                {x}')"
   ]
  },
  {
   "cell_type": "code",
   "execution_count": 44,
   "metadata": {},
   "outputs": [
    {
     "ename": "LookupError",
     "evalue": "\n**********************************************************************\n  Resource \u001b[93mpunkt\u001b[0m not found.\n  Please use the NLTK Downloader to obtain the resource:\n\n  \u001b[31m>>> import nltk\n  >>> nltk.download('punkt')\n  \u001b[0m\n  For more information see: https://www.nltk.org/data.html\n\n  Attempted to load \u001b[93mtokenizers/punkt/english.pickle\u001b[0m\n\n  Searched in:\n    - 'C:\\\\Users\\\\notal/nltk_data'\n    - 'C:\\\\Users\\\\notal\\\\anaconda3\\\\nltk_data'\n    - 'C:\\\\Users\\\\notal\\\\anaconda3\\\\share\\\\nltk_data'\n    - 'C:\\\\Users\\\\notal\\\\anaconda3\\\\lib\\\\nltk_data'\n    - 'C:\\\\Users\\\\notal\\\\AppData\\\\Roaming\\\\nltk_data'\n    - 'C:\\\\nltk_data'\n    - 'D:\\\\nltk_data'\n    - 'E:\\\\nltk_data'\n    - ''\n**********************************************************************\n",
     "output_type": "error",
     "traceback": [
      "\u001b[1;31m---------------------------------------------------------------------------\u001b[0m",
      "\u001b[1;31mLookupError\u001b[0m                               Traceback (most recent call last)",
      "\u001b[1;32m<ipython-input-44-729c593e838c>\u001b[0m in \u001b[0;36m<module>\u001b[1;34m\u001b[0m\n\u001b[0;32m      2\u001b[0m \u001b[0mbreed_dict\u001b[0m\u001b[1;33m=\u001b[0m\u001b[1;33m{\u001b[0m\u001b[1;33m}\u001b[0m\u001b[1;33m\u001b[0m\u001b[1;33m\u001b[0m\u001b[0m\n\u001b[0;32m      3\u001b[0m \u001b[1;32mfor\u001b[0m \u001b[0mi\u001b[0m \u001b[1;32min\u001b[0m \u001b[0mdata\u001b[0m\u001b[1;33m.\u001b[0m\u001b[0mloc\u001b[0m\u001b[1;33m[\u001b[0m\u001b[0mdata\u001b[0m\u001b[1;33m[\u001b[0m\u001b[1;34m'Pet Type'\u001b[0m\u001b[1;33m]\u001b[0m\u001b[1;33m==\u001b[0m\u001b[1;34m'Dog'\u001b[0m\u001b[1;33m]\u001b[0m\u001b[1;33m[\u001b[0m\u001b[1;34m'Breed_new'\u001b[0m\u001b[1;33m]\u001b[0m\u001b[1;33m.\u001b[0m\u001b[0mvalues\u001b[0m\u001b[1;33m:\u001b[0m\u001b[1;33m\u001b[0m\u001b[1;33m\u001b[0m\u001b[0m\n\u001b[1;32m----> 4\u001b[1;33m     \u001b[0msalad\u001b[0m \u001b[1;33m=\u001b[0m \u001b[0mword_tokenize\u001b[0m\u001b[1;33m(\u001b[0m\u001b[0mi\u001b[0m\u001b[1;33m)\u001b[0m\u001b[1;33m\u001b[0m\u001b[1;33m\u001b[0m\u001b[0m\n\u001b[0m\u001b[0;32m      5\u001b[0m     \u001b[1;32mfor\u001b[0m \u001b[0ms\u001b[0m \u001b[1;32min\u001b[0m \u001b[0msalad\u001b[0m\u001b[1;33m:\u001b[0m\u001b[1;33m\u001b[0m\u001b[1;33m\u001b[0m\u001b[0m\n\u001b[0;32m      6\u001b[0m         \u001b[1;32mif\u001b[0m \u001b[0ms\u001b[0m \u001b[1;32min\u001b[0m \u001b[0mbreed_dict\u001b[0m\u001b[1;33m.\u001b[0m\u001b[0mkeys\u001b[0m\u001b[1;33m(\u001b[0m\u001b[1;33m)\u001b[0m\u001b[1;33m:\u001b[0m\u001b[1;33m\u001b[0m\u001b[1;33m\u001b[0m\u001b[0m\n",
      "\u001b[1;32m~\\anaconda3\\lib\\site-packages\\nltk\\tokenize\\__init__.py\u001b[0m in \u001b[0;36mword_tokenize\u001b[1;34m(text, language, preserve_line)\u001b[0m\n\u001b[0;32m    128\u001b[0m     \u001b[1;33m:\u001b[0m\u001b[0mtype\u001b[0m \u001b[0mpreserve_line\u001b[0m\u001b[1;33m:\u001b[0m \u001b[0mbool\u001b[0m\u001b[1;33m\u001b[0m\u001b[1;33m\u001b[0m\u001b[0m\n\u001b[0;32m    129\u001b[0m     \"\"\"\n\u001b[1;32m--> 130\u001b[1;33m     \u001b[0msentences\u001b[0m \u001b[1;33m=\u001b[0m \u001b[1;33m[\u001b[0m\u001b[0mtext\u001b[0m\u001b[1;33m]\u001b[0m \u001b[1;32mif\u001b[0m \u001b[0mpreserve_line\u001b[0m \u001b[1;32melse\u001b[0m \u001b[0msent_tokenize\u001b[0m\u001b[1;33m(\u001b[0m\u001b[0mtext\u001b[0m\u001b[1;33m,\u001b[0m \u001b[0mlanguage\u001b[0m\u001b[1;33m)\u001b[0m\u001b[1;33m\u001b[0m\u001b[1;33m\u001b[0m\u001b[0m\n\u001b[0m\u001b[0;32m    131\u001b[0m     return [\n\u001b[0;32m    132\u001b[0m         \u001b[0mtoken\u001b[0m \u001b[1;32mfor\u001b[0m \u001b[0msent\u001b[0m \u001b[1;32min\u001b[0m \u001b[0msentences\u001b[0m \u001b[1;32mfor\u001b[0m \u001b[0mtoken\u001b[0m \u001b[1;32min\u001b[0m \u001b[0m_treebank_word_tokenizer\u001b[0m\u001b[1;33m.\u001b[0m\u001b[0mtokenize\u001b[0m\u001b[1;33m(\u001b[0m\u001b[0msent\u001b[0m\u001b[1;33m)\u001b[0m\u001b[1;33m\u001b[0m\u001b[1;33m\u001b[0m\u001b[0m\n",
      "\u001b[1;32m~\\anaconda3\\lib\\site-packages\\nltk\\tokenize\\__init__.py\u001b[0m in \u001b[0;36msent_tokenize\u001b[1;34m(text, language)\u001b[0m\n\u001b[0;32m    105\u001b[0m     \u001b[1;33m:\u001b[0m\u001b[0mparam\u001b[0m \u001b[0mlanguage\u001b[0m\u001b[1;33m:\u001b[0m \u001b[0mthe\u001b[0m \u001b[0mmodel\u001b[0m \u001b[0mname\u001b[0m \u001b[1;32min\u001b[0m \u001b[0mthe\u001b[0m \u001b[0mPunkt\u001b[0m \u001b[0mcorpus\u001b[0m\u001b[1;33m\u001b[0m\u001b[1;33m\u001b[0m\u001b[0m\n\u001b[0;32m    106\u001b[0m     \"\"\"\n\u001b[1;32m--> 107\u001b[1;33m     \u001b[0mtokenizer\u001b[0m \u001b[1;33m=\u001b[0m \u001b[0mload\u001b[0m\u001b[1;33m(\u001b[0m\u001b[1;34m\"tokenizers/punkt/{0}.pickle\"\u001b[0m\u001b[1;33m.\u001b[0m\u001b[0mformat\u001b[0m\u001b[1;33m(\u001b[0m\u001b[0mlanguage\u001b[0m\u001b[1;33m)\u001b[0m\u001b[1;33m)\u001b[0m\u001b[1;33m\u001b[0m\u001b[1;33m\u001b[0m\u001b[0m\n\u001b[0m\u001b[0;32m    108\u001b[0m     \u001b[1;32mreturn\u001b[0m \u001b[0mtokenizer\u001b[0m\u001b[1;33m.\u001b[0m\u001b[0mtokenize\u001b[0m\u001b[1;33m(\u001b[0m\u001b[0mtext\u001b[0m\u001b[1;33m)\u001b[0m\u001b[1;33m\u001b[0m\u001b[1;33m\u001b[0m\u001b[0m\n\u001b[0;32m    109\u001b[0m \u001b[1;33m\u001b[0m\u001b[0m\n",
      "\u001b[1;32m~\\anaconda3\\lib\\site-packages\\nltk\\data.py\u001b[0m in \u001b[0;36mload\u001b[1;34m(resource_url, format, cache, verbose, logic_parser, fstruct_reader, encoding)\u001b[0m\n\u001b[0;32m    748\u001b[0m \u001b[1;33m\u001b[0m\u001b[0m\n\u001b[0;32m    749\u001b[0m     \u001b[1;31m# Load the resource.\u001b[0m\u001b[1;33m\u001b[0m\u001b[1;33m\u001b[0m\u001b[1;33m\u001b[0m\u001b[0m\n\u001b[1;32m--> 750\u001b[1;33m     \u001b[0mopened_resource\u001b[0m \u001b[1;33m=\u001b[0m \u001b[0m_open\u001b[0m\u001b[1;33m(\u001b[0m\u001b[0mresource_url\u001b[0m\u001b[1;33m)\u001b[0m\u001b[1;33m\u001b[0m\u001b[1;33m\u001b[0m\u001b[0m\n\u001b[0m\u001b[0;32m    751\u001b[0m \u001b[1;33m\u001b[0m\u001b[0m\n\u001b[0;32m    752\u001b[0m     \u001b[1;32mif\u001b[0m \u001b[0mformat\u001b[0m \u001b[1;33m==\u001b[0m \u001b[1;34m\"raw\"\u001b[0m\u001b[1;33m:\u001b[0m\u001b[1;33m\u001b[0m\u001b[1;33m\u001b[0m\u001b[0m\n",
      "\u001b[1;32m~\\anaconda3\\lib\\site-packages\\nltk\\data.py\u001b[0m in \u001b[0;36m_open\u001b[1;34m(resource_url)\u001b[0m\n\u001b[0;32m    873\u001b[0m \u001b[1;33m\u001b[0m\u001b[0m\n\u001b[0;32m    874\u001b[0m     \u001b[1;32mif\u001b[0m \u001b[0mprotocol\u001b[0m \u001b[1;32mis\u001b[0m \u001b[1;32mNone\u001b[0m \u001b[1;32mor\u001b[0m \u001b[0mprotocol\u001b[0m\u001b[1;33m.\u001b[0m\u001b[0mlower\u001b[0m\u001b[1;33m(\u001b[0m\u001b[1;33m)\u001b[0m \u001b[1;33m==\u001b[0m \u001b[1;34m\"nltk\"\u001b[0m\u001b[1;33m:\u001b[0m\u001b[1;33m\u001b[0m\u001b[1;33m\u001b[0m\u001b[0m\n\u001b[1;32m--> 875\u001b[1;33m         \u001b[1;32mreturn\u001b[0m \u001b[0mfind\u001b[0m\u001b[1;33m(\u001b[0m\u001b[0mpath_\u001b[0m\u001b[1;33m,\u001b[0m \u001b[0mpath\u001b[0m \u001b[1;33m+\u001b[0m \u001b[1;33m[\u001b[0m\u001b[1;34m\"\"\u001b[0m\u001b[1;33m]\u001b[0m\u001b[1;33m)\u001b[0m\u001b[1;33m.\u001b[0m\u001b[0mopen\u001b[0m\u001b[1;33m(\u001b[0m\u001b[1;33m)\u001b[0m\u001b[1;33m\u001b[0m\u001b[1;33m\u001b[0m\u001b[0m\n\u001b[0m\u001b[0;32m    876\u001b[0m     \u001b[1;32melif\u001b[0m \u001b[0mprotocol\u001b[0m\u001b[1;33m.\u001b[0m\u001b[0mlower\u001b[0m\u001b[1;33m(\u001b[0m\u001b[1;33m)\u001b[0m \u001b[1;33m==\u001b[0m \u001b[1;34m\"file\"\u001b[0m\u001b[1;33m:\u001b[0m\u001b[1;33m\u001b[0m\u001b[1;33m\u001b[0m\u001b[0m\n\u001b[0;32m    877\u001b[0m         \u001b[1;31m# urllib might not use mode='rb', so handle this one ourselves:\u001b[0m\u001b[1;33m\u001b[0m\u001b[1;33m\u001b[0m\u001b[1;33m\u001b[0m\u001b[0m\n",
      "\u001b[1;32m~\\anaconda3\\lib\\site-packages\\nltk\\data.py\u001b[0m in \u001b[0;36mfind\u001b[1;34m(resource_name, paths)\u001b[0m\n\u001b[0;32m    581\u001b[0m     \u001b[0msep\u001b[0m \u001b[1;33m=\u001b[0m \u001b[1;34m\"*\"\u001b[0m \u001b[1;33m*\u001b[0m \u001b[1;36m70\u001b[0m\u001b[1;33m\u001b[0m\u001b[1;33m\u001b[0m\u001b[0m\n\u001b[0;32m    582\u001b[0m     \u001b[0mresource_not_found\u001b[0m \u001b[1;33m=\u001b[0m \u001b[1;34m\"\\n%s\\n%s\\n%s\\n\"\u001b[0m \u001b[1;33m%\u001b[0m \u001b[1;33m(\u001b[0m\u001b[0msep\u001b[0m\u001b[1;33m,\u001b[0m \u001b[0mmsg\u001b[0m\u001b[1;33m,\u001b[0m \u001b[0msep\u001b[0m\u001b[1;33m)\u001b[0m\u001b[1;33m\u001b[0m\u001b[1;33m\u001b[0m\u001b[0m\n\u001b[1;32m--> 583\u001b[1;33m     \u001b[1;32mraise\u001b[0m \u001b[0mLookupError\u001b[0m\u001b[1;33m(\u001b[0m\u001b[0mresource_not_found\u001b[0m\u001b[1;33m)\u001b[0m\u001b[1;33m\u001b[0m\u001b[1;33m\u001b[0m\u001b[0m\n\u001b[0m\u001b[0;32m    584\u001b[0m \u001b[1;33m\u001b[0m\u001b[0m\n\u001b[0;32m    585\u001b[0m \u001b[1;33m\u001b[0m\u001b[0m\n",
      "\u001b[1;31mLookupError\u001b[0m: \n**********************************************************************\n  Resource \u001b[93mpunkt\u001b[0m not found.\n  Please use the NLTK Downloader to obtain the resource:\n\n  \u001b[31m>>> import nltk\n  >>> nltk.download('punkt')\n  \u001b[0m\n  For more information see: https://www.nltk.org/data.html\n\n  Attempted to load \u001b[93mtokenizers/punkt/english.pickle\u001b[0m\n\n  Searched in:\n    - 'C:\\\\Users\\\\notal/nltk_data'\n    - 'C:\\\\Users\\\\notal\\\\anaconda3\\\\nltk_data'\n    - 'C:\\\\Users\\\\notal\\\\anaconda3\\\\share\\\\nltk_data'\n    - 'C:\\\\Users\\\\notal\\\\anaconda3\\\\lib\\\\nltk_data'\n    - 'C:\\\\Users\\\\notal\\\\AppData\\\\Roaming\\\\nltk_data'\n    - 'C:\\\\nltk_data'\n    - 'D:\\\\nltk_data'\n    - 'E:\\\\nltk_data'\n    - ''\n**********************************************************************\n"
     ]
    }
   ],
   "source": [
    "#token approach\n",
    "breed_dict={}\n",
    "for i in data.loc[data['Pet Type']=='Dog']['Breed_new'].values:\n",
    "    salad = word_tokenize(i)\n",
    "    for s in salad:\n",
    "        if s in breed_dict.keys():\n",
    "            breed_dict[s]=breed_dict[s]+1\n",
    "        else:\n",
    "            breed_dict[s]=1\n",
    "breed_list=[[i,x] for i,x in breed_dict.items()]\n",
    "test=pd.DataFrame(data=breed_list,columns=['Token','Count'])\n",
    "test.sort_values(by='Count',ascending=False).head(40)"
   ]
  },
  {
   "cell_type": "code",
   "execution_count": null,
   "metadata": {},
   "outputs": [],
   "source": [
    "d = data.loc[data.Breed_new.str.contains('retriever')].Breed_new.value_counts().iteritems()\n",
    "next(d)\n",
    "for i in d:\n",
    "    print(i)"
   ]
  },
  {
   "cell_type": "code",
   "execution_count": null,
   "metadata": {},
   "outputs": [],
   "source": [
    "replace_dict = {}\n",
    "for i in test.iterrows():\n",
    "    if i[1].Count>300:\n",
    "        val_count = data.loc[(data.Breed_new.str.contains(i[1].Token))&(data['Pet Type']=='Dog')].Breed_new.value_counts()\n",
    "        if len(val_count)>1:\n",
    "            iter_obj = val_count.iteritems()\n",
    "            next(iter_obj)\n",
    "            for x in iter_obj:\n",
    "                if x[0] not in replace_dict.keys(): #prevent multiple assignment\n",
    "                    replace_dict[x[0]]=f'Other {i[1].Token}'\n",
    "                else:\n",
    "                    pass\n",
    "    else:\n",
    "        val_count = data.loc[(data.Breed_new.str.contains(i[1].Token))&(data['Pet Type']=='Dog')].Breed_new.value_counts()\n",
    "        iter_obj = val_count.iteritems()\n",
    "        for x in iter_obj:\n",
    "            if x[0] not in replace_dict.keys(): #prevent multiple assignment\n",
    "                replace_dict[x[0]]=f'Other dog'\n",
    "            else:\n",
    "                pass\n",
    "data['Breed_test']=data.Breed_new.replace(to_replace=replace_dict)\n",
    "# more_removal = [i for i,x in dict(data['Breed_test'].value_counts()).items() if x<300]\n",
    "# data['Breed_test']=np.where(data['Breed_test'].isin(more_removal),'Other dog',data['Breed_test'])\n",
    "# data['Breed_test'].value_counts()"
   ]
  },
  {
   "cell_type": "code",
   "execution_count": null,
   "metadata": {},
   "outputs": [],
   "source": [
    "len(data['Breed_test'].unique())"
   ]
  },
  {
   "cell_type": "markdown",
   "metadata": {},
   "source": [
    "Reduced \"Breed\" to 47 unique values. We could have reduced it further, but I feel I've done enough.\n",
    "\n",
    "Let's look at \"Color\" now"
   ]
  },
  {
   "cell_type": "code",
   "execution_count": null,
   "metadata": {},
   "outputs": [],
   "source": [
    "color=data['Color'].value_counts().to_frame()\n",
    "color.describe()"
   ]
  },
  {
   "cell_type": "markdown",
   "metadata": {},
   "source": [
    "Another category with too many bins and too high a varianace"
   ]
  },
  {
   "cell_type": "code",
   "execution_count": null,
   "metadata": {},
   "outputs": [],
   "source": [
    "color.index.values"
   ]
  },
  {
   "cell_type": "markdown",
   "metadata": {},
   "source": [
    "1. Split mix colors out\n",
    "2. Identify base color based on first one listed\n",
    "3. Reduce base categories with too little data points into \"Other color\"\n"
   ]
  },
  {
   "cell_type": "code",
   "execution_count": null,
   "metadata": {},
   "outputs": [],
   "source": [
    "data['MixColor']=np.where(data.Color.str.contains('/'),'Mix','No Mix')\n",
    "data['Color_new']=np.where(data.Color.str.contains('/'),data['Color'].str.split('/').str[0],data['Color'])\n",
    "data.Color_new=data['Color_new'].str.split(' ').str[0]\n",
    "more_removal = [i for i,x in dict(data['Color_new'].value_counts()).items() if x<100]\n",
    "data['BaseColor']=np.where(data['Color_new'].isin(more_removal),'Other color',data['Color_new'])\n",
    "data['BaseColor'].value_counts()"
   ]
  },
  {
   "cell_type": "code",
   "execution_count": null,
   "metadata": {},
   "outputs": [],
   "source": [
    "data['Intake Condition']=data['Intake Condition'].replace(to_replace={'Behavior':'Other','Medical':'Injured'})"
   ]
  },
  {
   "cell_type": "markdown",
   "metadata": {},
   "source": [
    "Color reduced to 25 bins. Split into two features - mix color and base color. \n",
    "\n",
    "Next steps:\n",
    "- Clean out deprecated columns\n",
    "- Engage in additional feature engineering"
   ]
  },
  {
   "cell_type": "code",
   "execution_count": null,
   "metadata": {},
   "outputs": [],
   "source": [
    "data.rename(columns={'Mix':'MixBreed','Breed_test':'BaseBreed'},inplace=True) #standardize naming of columns\n",
    "data=data[['Pet ID', 'Outcome Type', 'Sex upon Outcome', 'Name',\n",
    "       'Found Location', 'Intake Type', 'Intake Condition', 'Pet Type',\n",
    "       'Sex upon Intake', 'Age upon Intake Days',\n",
    "       'Time at Center', 'MixBreed', 'BaseBreed','MixColor', 'BaseColor']]\n"
   ]
  },
  {
   "cell_type": "markdown",
   "metadata": {},
   "source": [
    "<a id='sec-2'></a>\n",
    "## 2. Feature Engineering\n",
    "\n",
    "Ideas:\n",
    "- Spay/Neuter status\n",
    "- Spay/Neuter change status (at shelter)\n",
    "- Location by City/State\n",
    "- Name starting letter\n",
    "- Name length\n",
    "\n",
    "\n",
    "[*Back to top*](#top)"
   ]
  },
  {
   "cell_type": "code",
   "execution_count": null,
   "metadata": {},
   "outputs": [],
   "source": []
  },
  {
   "cell_type": "code",
   "execution_count": null,
   "metadata": {},
   "outputs": [],
   "source": [
    "data['NS_intake']=np.where((data['Sex upon Intake'].str.contains('Neutered'))\n",
    "                          |(data['Sex upon Intake'].str.contains('Spayed')), 1,0) #create boolean infertility on intake\n",
    "data['Gender']=data['Sex upon Intake'].str.split(' ').str[-1] #new feature\n",
    "\n",
    "print(data.NS_intake.value_counts())\n",
    "print(data.Gender.value_counts())"
   ]
  },
  {
   "cell_type": "code",
   "execution_count": null,
   "metadata": {},
   "outputs": [],
   "source": [
    "data['Sex upon Outcome'].value_counts()"
   ]
  },
  {
   "cell_type": "code",
   "execution_count": null,
   "metadata": {},
   "outputs": [],
   "source": [
    "data['NS_clinic']=np.where((data.NS_intake==0)&((data['Sex upon Outcome'].str.contains('Neutered'))\n",
    "                          |(data['Sex upon Outcome'].str.contains('Spayed'))),1,0) #new feature\n",
    "data['NS_clinic'].value_counts()"
   ]
  },
  {
   "cell_type": "code",
   "execution_count": null,
   "metadata": {},
   "outputs": [],
   "source": [
    "data['Found Location']"
   ]
  },
  {
   "cell_type": "markdown",
   "metadata": {},
   "source": [
    "We could input these into map api and get longitude and latitudinal data, or zip code and regionalize info.\n",
    "\n",
    "We will just extract second last element in string (city)"
   ]
  },
  {
   "cell_type": "code",
   "execution_count": null,
   "metadata": {},
   "outputs": [],
   "source": [
    "data['City']=data['Found Location'].str.split(' ').str[-2]\n",
    "data.City.value_counts()"
   ]
  },
  {
   "cell_type": "code",
   "execution_count": null,
   "metadata": {},
   "outputs": [],
   "source": [
    "bin_small('City','Other City',threshold=1000)\n",
    "data.City.value_counts() #new feature"
   ]
  },
  {
   "cell_type": "code",
   "execution_count": null,
   "metadata": {},
   "outputs": [],
   "source": [
    "data['FirstLetterName']=np.where(data.Name!='Unknown',data.Name.str[0],'Unknown')\n",
    "data['FirstLetterName']=np.where(data.FirstLetterName.str.isalpha(),data.FirstLetterName,'ID')\n",
    "data['FirstLetterName']=data.FirstLetterName.replace(to_replace={'É':'E'})\n",
    "data['FirstLetterName'].fillna('Unknown',inplace=True)\n",
    "data['FirstLetterName'].value_counts() #new feature"
   ]
  },
  {
   "cell_type": "code",
   "execution_count": null,
   "metadata": {},
   "outputs": [],
   "source": [
    "data['NameLength']=data['Name'].map(lambda x: len(x))\n",
    "data['NameLength'].value_counts()"
   ]
  },
  {
   "cell_type": "code",
   "execution_count": null,
   "metadata": {},
   "outputs": [],
   "source": [
    "nl = []\n",
    "for i in data.iterrows():\n",
    "    if i[1].Name=='Unknown':\n",
    "        nl.append('Unknown')\n",
    "    else:\n",
    "        if i[1].NameLength==0:\n",
    "            nl.append('Unknown')\n",
    "        elif (i[1].NameLength>=1)&(i[1].NameLength<4):\n",
    "            nl.append('short')\n",
    "        elif (i[1].NameLength>=1)&(i[1].NameLength<8):\n",
    "            nl.append('med')\n",
    "        else:\n",
    "            nl.append('long')\n",
    "data['NameLengthBin']=nl #new feature\n",
    "data['NameLengthBin'].value_counts()"
   ]
  },
  {
   "cell_type": "markdown",
   "metadata": {},
   "source": [
    "After adding 5 new features, let's remove depreciated columns again and move on to EDA and see if any of these additional features and original features hold any value"
   ]
  },
  {
   "cell_type": "code",
   "execution_count": null,
   "metadata": {},
   "outputs": [],
   "source": [
    "#additional cleaning\n",
    "bin_small('Outcome Type','Other Outcome',threshold=2000)\n",
    "bin_small('Intake Condition','Other')\n",
    "data['City'].fillna('Other City',inplace=True)"
   ]
  },
  {
   "cell_type": "code",
   "execution_count": null,
   "metadata": {},
   "outputs": [],
   "source": [
    "data=data[['Pet ID', 'Outcome Type','Intake Type', 'Intake Condition', 'Pet Type','Age upon Intake Days', 'Time at Center',\n",
    "       'MixBreed', 'BaseBreed', 'MixColor', 'BaseColor', 'NS_intake','NS_clinic', 'City', 'Gender', 'FirstLetterName','NameLengthBin']]"
   ]
  },
  {
   "cell_type": "markdown",
   "metadata": {},
   "source": [
    "<a id='sec-3'></a>\n",
    "\n",
    "## 3. Exploratory Data Analysis (EDA)\n",
    "- Univariate analysis of dependent variable (Time at Center)\n",
    "- Univariate analysis of discrete variable \"Age upon Intake Days\"\n",
    "- Evaluate Age feature vs. Time at Center\n",
    "- Chi-squared test of independence (Cat. vs Cat. vars)\n",
    "\n",
    "[*Back to top*](#top)"
   ]
  },
  {
   "cell_type": "markdown",
   "metadata": {},
   "source": [
    "### Univariate Analysis of \"Time at Center\" (Dependent variable, DV)"
   ]
  },
  {
   "cell_type": "code",
   "execution_count": null,
   "metadata": {},
   "outputs": [],
   "source": [
    "data['Time at Center'].value_counts()"
   ]
  },
  {
   "cell_type": "code",
   "execution_count": null,
   "metadata": {},
   "outputs": [],
   "source": [
    "data['Time at Center'].value_counts(normalize=True).plot(kind='pie',legend=True,autopct='%1.1f%%',figsize=(10,10))"
   ]
  },
  {
   "cell_type": "markdown",
   "metadata": {},
   "source": [
    "Around 1:10 ratio between minority and majority class"
   ]
  },
  {
   "cell_type": "markdown",
   "metadata": {},
   "source": [
    "### Age distribution\n",
    "\n",
    "We're going to take another look at the distribution of the age variable. Earlier on we noticed high standard deviation, much larger than the mean. This suggests this variable has extreme upper bound outliers"
   ]
  },
  {
   "cell_type": "code",
   "execution_count": null,
   "metadata": {},
   "outputs": [],
   "source": [
    "data['Age upon Intake Days'].describe()"
   ]
  },
  {
   "cell_type": "code",
   "execution_count": null,
   "metadata": {},
   "outputs": [],
   "source": [
    "data['Age upon Intake Days'].skew()"
   ]
  },
  {
   "cell_type": "code",
   "execution_count": null,
   "metadata": {},
   "outputs": [],
   "source": [
    "data['Age upon Intake Days'].kurtosis()"
   ]
  },
  {
   "cell_type": "code",
   "execution_count": null,
   "metadata": {},
   "outputs": [],
   "source": [
    "ax = data['Age upon Intake Days'].plot(kind='hist',bins=20,title='Age Histogram 20 Bins')\n",
    "ax.set_xlabel(\"Age (Days)\")\n"
   ]
  },
  {
   "cell_type": "code",
   "execution_count": null,
   "metadata": {},
   "outputs": [],
   "source": [
    "ax1 =data['Age upon Intake Days'].plot(kind='box',title='Age Box Plot')\n",
    "ax1.set_ylabel('Frequency')"
   ]
  },
  {
   "cell_type": "code",
   "execution_count": null,
   "metadata": {},
   "outputs": [],
   "source": [
    "data.loc[data['Age upon Intake Days']>2000].shape[0]"
   ]
  },
  {
   "cell_type": "code",
   "execution_count": null,
   "metadata": {},
   "outputs": [],
   "source": [
    "data.loc[data['Age upon Intake Days']<=2000]['Age upon Intake Days'].plot(kind='box')\n",
    "# s"
   ]
  },
  {
   "cell_type": "markdown",
   "metadata": {},
   "source": [
    "Based on skew, kurtosis and graphs we can tell this variable is extremely non-normal. Even after removing the top 10% of age range, the boxplot still looks extremely skewed.\n",
    "\n",
    "We have several options.\n",
    "\n",
    "1. Remove extremely high age values \n",
    "    - 10% of dataset is over 2000 days in age\n",
    "    - 25% of dataset is under 30 days in age\n",
    "    - Different species have different longevity\n",
    "2. Bin into ordinal categorical variable\n",
    "3. Transform variable with log or boxcox transform\n",
    "\n",
    "We will not remove the high values- they can still be relevant.\n",
    "\n",
    "We will check the transformation outcomes and if that looks promising, we will use that approach. Otherwise we will bin to categorical values."
   ]
  },
  {
   "cell_type": "code",
   "execution_count": null,
   "metadata": {},
   "outputs": [],
   "source": [
    "data['Age_Shift1']=data['Age upon Intake Days']+1"
   ]
  },
  {
   "cell_type": "code",
   "execution_count": null,
   "metadata": {},
   "outputs": [],
   "source": [
    "len(boxcox(data['Age_Shift1']))"
   ]
  },
  {
   "cell_type": "code",
   "execution_count": null,
   "metadata": {},
   "outputs": [],
   "source": [
    "boxcox(data['Age_Shift1'])[0]"
   ]
  },
  {
   "cell_type": "code",
   "execution_count": null,
   "metadata": {},
   "outputs": [],
   "source": [
    "boxcox(data['Age_Shift1'])[1] #lambda value of .1, close to log transformation"
   ]
  },
  {
   "cell_type": "code",
   "execution_count": null,
   "metadata": {},
   "outputs": [],
   "source": [
    "data['AgeBoxCox']=boxcox(data['Age_Shift1'])[0]\n",
    "ax2 = data['AgeBoxCox'].plot(kind='hist',bins=15, title='BoxCox Transform (Age) Historgram 15 Bin')\n",
    "ax2.set_xlabel('BoxCox Transform of Age (λ=.1)')"
   ]
  },
  {
   "cell_type": "code",
   "execution_count": null,
   "metadata": {},
   "outputs": [],
   "source": [
    "data.loc[(data.AgeBoxCox>=3)&(data.AgeBoxCox<6)]['Pet Type'].value_counts(normalize=True)"
   ]
  },
  {
   "cell_type": "code",
   "execution_count": null,
   "metadata": {},
   "outputs": [],
   "source": [
    "data.loc[(data.AgeBoxCox>=3)&(data.AgeBoxCox<6)]['Time at Center'].value_counts()"
   ]
  },
  {
   "cell_type": "code",
   "execution_count": null,
   "metadata": {},
   "outputs": [],
   "source": [
    "5055/(23620+5055)"
   ]
  },
  {
   "cell_type": "code",
   "execution_count": null,
   "metadata": {},
   "outputs": [],
   "source": [
    "data.loc[(data.AgeBoxCox<=11)&(data.AgeBoxCox>6)]['Pet Type'].value_counts(normalize=True)"
   ]
  },
  {
   "cell_type": "code",
   "execution_count": null,
   "metadata": {},
   "outputs": [],
   "source": [
    "data.loc[(data.AgeBoxCox<=11)&(data.AgeBoxCox>6)]['Time at Center'].value_counts()"
   ]
  },
  {
   "cell_type": "code",
   "execution_count": null,
   "metadata": {},
   "outputs": [],
   "source": [
    "data.BaseBreed.value_counts()"
   ]
  },
  {
   "cell_type": "code",
   "execution_count": null,
   "metadata": {},
   "outputs": [],
   "source": [
    "data['BaseBreed']=data['BaseBreed'].replace(to_replace={'fox':'Other','opossum':'Other','chicken':'Other','skunk':'Other','squirrel':'Other','Other german':'Other dog','Other pit':'Other dog','Other spaniel':'Other dog'})"
   ]
  },
  {
   "cell_type": "markdown",
   "metadata": {},
   "source": [
    "Big difference in time spent at center vs. age just based on this investigation.\n",
    "\n",
    "We will leave the age variable as is for now and revisit changing it as a feature later."
   ]
  },
  {
   "cell_type": "code",
   "execution_count": null,
   "metadata": {},
   "outputs": [],
   "source": [
    "cat_var = ['Outcome Type', 'Intake Type', 'Intake Condition',\n",
    "       'Pet Type', 'MixBreed','BaseBreed', 'MixColor', 'BaseColor', 'NS_intake', 'NS_clinic',\n",
    "       'City', 'Gender', 'FirstLetterName', 'NameLengthBin',]\n",
    "min_class = data.loc[data['Time at Center']==1]\n",
    "maj_class = data.loc[data['Time at Center']!=1]\n",
    "cat={}\n",
    "for i in cat_var:\n",
    "    min_unq=min_class[i].unique()\n",
    "    maj_unq=maj_class[i].unique()\n",
    "    cat[i]= [i for i in maj_unq if i not in min_unq]\n",
    "    print(i)\n",
    "    print(cat[i])"
   ]
  },
  {
   "cell_type": "markdown",
   "metadata": {},
   "source": [
    "### Chi-squared test of independence"
   ]
  },
  {
   "cell_type": "code",
   "execution_count": null,
   "metadata": {},
   "outputs": [],
   "source": [
    "data['BaseBreed'].value_counts()"
   ]
  },
  {
   "cell_type": "code",
   "execution_count": null,
   "metadata": {},
   "outputs": [],
   "source": [
    "cat_var = ['Outcome Type', 'Intake Type', 'Intake Condition',\n",
    "       'Pet Type', 'MixBreed','BaseBreed', 'MixColor', 'BaseColor', 'NS_intake', 'NS_clinic',\n",
    "       'City', 'Gender', 'FirstLetterName', 'NameLengthBin',]\n",
    "min_class = data.loc[data['Time at Center']==1]\n",
    "maj_class = data.loc[data['Time at Center']!=1]\n",
    "for i in cat_var:\n",
    "    min_class_dict = min_class[i].value_counts()\n",
    "    min_dict=[x for i,x in sorted(min_class_dict.items(),key=lambda item:item[0])]\n",
    "    maj_class_dict = maj_class[i].value_counts(normalize=True)*min_class.shape[0]\n",
    "    maj_dict=[x for i,x in sorted(maj_class_dict.items(),key=lambda item:item[0])]\n",
    "    print(f'Variable :{i}    |   {chisquare(min_dict,maj_dict)}')"
   ]
  },
  {
   "cell_type": "markdown",
   "metadata": {},
   "source": [
    "City and MixBreed had highest pvalues."
   ]
  },
  {
   "cell_type": "code",
   "execution_count": null,
   "metadata": {},
   "outputs": [],
   "source": [
    "list(min_class.NS_intake.value_counts())[-1]"
   ]
  },
  {
   "cell_type": "code",
   "execution_count": null,
   "metadata": {},
   "outputs": [],
   "source": [
    "#most frequent bin\n",
    "#% of most frequent bin\n",
    "#Number of bins\n",
    "#smallest bin\n",
    "#small bin % frequency\n",
    "col = ['Column']\n",
    "data_in=[]\n",
    "for i in cat_var:\n",
    "    for count,df in enumerate([data,min_class,maj_class]):\n",
    "        if count==0:\n",
    "            pref = 'All'\n",
    "        elif count==1:\n",
    "            pref = 'Min'\n",
    "        elif count==2:\n",
    "            pref='Maj'\n",
    "        row = [i,pref]\n",
    "        val_counts = df[i].value_counts(normalize=True)\n",
    "        mfb=val_counts.index[0]\n",
    "        pmfb=val_counts[0]\n",
    "        row.append(mfb)\n",
    "        row.append(round(pmfb*100,1))\n",
    "        row.append(len(val_counts))\n",
    "        row.append(val_counts.index[-1])\n",
    "        row.append(round(list(val_counts)[-1]*100,1))\n",
    "        data_in.append(row)\n",
    "col.append('Class')\n",
    "col.append('Mode')\n",
    "col.append('Mode%')\n",
    "col.append('BinNumber')\n",
    "col.append('Min')\n",
    "col.append('Min%')\n",
    "cat_summ = pd.DataFrame(data=data_in,columns=col)\n",
    "cat_summ"
   ]
  },
  {
   "cell_type": "code",
   "execution_count": null,
   "metadata": {},
   "outputs": [],
   "source": [
    "all_df = data['Outcome Type'].value_counts().to_frame()\n",
    "all_df"
   ]
  },
  {
   "cell_type": "code",
   "execution_count": null,
   "metadata": {},
   "outputs": [],
   "source": [
    "from ipywidgets import interact\n",
    "@interact(cat =['Outcome Type', 'Intake Type', 'Intake Condition',\n",
    "       'Pet Type', 'MixBreed','BaseBreed', 'MixColor', 'BaseColor', 'NS_intake', 'NS_clinic',\n",
    "       'City', 'Gender', 'FirstLetterName', 'NameLengthBin',])\n",
    "def show_freq(cat):\n",
    "    plt.figure(figsize=(12, 8), dpi=80)\n",
    "    all_df = pd.DataFrame()\n",
    "    for count,df in enumerate([data,min_class,maj_class]):\n",
    "        if count==0:\n",
    "            pref = 'All'\n",
    "        elif count==1:\n",
    "            pref = 'Min'\n",
    "        elif count==2:\n",
    "            pref='Maj'\n",
    "        ndf = df[cat].value_counts(normalize=True).to_frame()\n",
    "        ndf.rename(columns={cat:'Count'},inplace=True)\n",
    "        ndf['Class']=pref\n",
    "        all_df=all_df.append(ndf)\n",
    "    all_df[cat]=all_df.index\n",
    "    ax = sns.barplot(x=cat, y=\"Count\", hue=\"Class\", data=all_df)\n",
    "    plt.show()"
   ]
  },
  {
   "cell_type": "code",
   "execution_count": null,
   "metadata": {},
   "outputs": [],
   "source": [
    "data=data[['Pet ID', 'Outcome Type', 'Intake Type', 'Intake Condition',\n",
    "       'Pet Type',  'Time at Center', 'MixBreed',\n",
    "       'BaseBreed', 'MixColor', 'BaseColor', 'NS_intake', 'NS_clinic',\n",
    "       'City', 'Gender', 'FirstLetterName', 'NameLengthBin', 'Age_Shift1']]\n",
    "cat =['Outcome Type', 'Intake Type', 'Intake Condition',\n",
    "'Pet Type', 'MixBreed','BaseBreed', 'MixColor', 'BaseColor', 'NS_intake', 'NS_clinic',\n",
    "'City', 'Gender', 'FirstLetterName', 'NameLengthBin',]\n",
    "data=pd.get_dummies(data,drop_first=True,columns=cat) #one hot encode categorical variables"
   ]
  },
  {
   "cell_type": "code",
   "execution_count": null,
   "metadata": {},
   "outputs": [],
   "source": [
    "data.to_csv(r'..\\data\\feature_final.csv',index=False)"
   ]
  },
  {
   "cell_type": "code",
   "execution_count": null,
   "metadata": {},
   "outputs": [],
   "source": [
    "legacy_data"
   ]
  },
  {
   "cell_type": "markdown",
   "metadata": {},
   "source": [
    "# END\n",
    "\n",
    "[*Back to top*](#top)"
   ]
  },
  {
   "cell_type": "code",
   "execution_count": null,
   "metadata": {},
   "outputs": [],
   "source": []
  }
 ],
 "metadata": {
  "kernelspec": {
   "display_name": "Python 3",
   "language": "python",
   "name": "python3"
  },
  "language_info": {
   "codemirror_mode": {
    "name": "ipython",
    "version": 3
   },
   "file_extension": ".py",
   "mimetype": "text/x-python",
   "name": "python",
   "nbconvert_exporter": "python",
   "pygments_lexer": "ipython3",
   "version": "3.8.8"
  }
 },
 "nbformat": 4,
 "nbformat_minor": 4
}
