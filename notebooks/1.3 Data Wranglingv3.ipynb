{
 "cells": [
  {
   "cell_type": "code",
   "execution_count": 1,
   "metadata": {},
   "outputs": [
    {
     "name": "stderr",
     "output_type": "stream",
     "text": [
      "[nltk_data] Downloading package punkt to\n",
      "[nltk_data]     C:\\Users\\notal\\AppData\\Roaming\\nltk_data...\n",
      "[nltk_data]   Package punkt is already up-to-date!\n"
     ]
    },
    {
     "data": {
      "text/plain": [
       "16"
      ]
     },
     "execution_count": 1,
     "metadata": {},
     "output_type": "execute_result"
    }
   ],
   "source": [
    "#data manipulation\n",
    "import numpy as np\n",
    "import pandas as pd\n",
    "pd.option_context('display.max_rows', None, 'display.max_columns', None)\n",
    "import nltk\n",
    "from nltk.tokenize import word_tokenize\n",
    "\n",
    "#stats/ml\n",
    "import scipy\n",
    "import sklearn as sk\n",
    "from scipy.stats import ttest_1samp\n",
    "from scipy.stats import boxcox\n",
    "from scipy.stats import chisquare\n",
    "from sklearn.preprocessing import OneHotEncoder\n",
    "#vis\n",
    "import seaborn as sns\n",
    "import matplotlib.pyplot as plt\n",
    "plt.style.use('seaborn')\n",
    "\n",
    "#additional support packages\n",
    "from datetime import date, datetime, timedelta\n",
    "import random\n",
    "import re\n",
    "import os\n",
    "nltk.download('punkt')\n",
    "os.cpu_count()"
   ]
  },
  {
   "cell_type": "code",
   "execution_count": null,
   "metadata": {},
   "outputs": [],
   "source": []
  },
  {
   "cell_type": "code",
   "execution_count": 2,
   "metadata": {},
   "outputs": [],
   "source": [
    "def bin_small(df,col,replace_val,threshold=100,**kwargs):\n",
    "    more_removal = [i for i,x in dict(df[col].value_counts()).items() if x<threshold]\n",
    "    df[col]=np.where(df[col].isin(more_removal),replace_val,df[col])"
   ]
  },
  {
   "cell_type": "markdown",
   "metadata": {},
   "source": [
    "<a id='top'></a>\n",
    "# Overview\n",
    "\n",
    "1. [Data Cleaning](#sec-1)\n",
    "- Nulls\n",
    "- Data inconsistencies\n",
    "    \n",
    "    \n",
    "2. [Feature Engineering](#sec-2)\n",
    "- 5 new features\n",
    "\n",
    "\n",
    "3. [Additional Exploratory Data Analysis (EDA)](#sec-3)\n",
    "- Univariate analysis of dependent variable\n",
    "- Exploring independent variables relationships with each other and dependent variable"
   ]
  },
  {
   "cell_type": "markdown",
   "metadata": {},
   "source": [
    "<a id='sec-1'></a>\n",
    "## 1. Data Cleaning"
   ]
  },
  {
   "cell_type": "code",
   "execution_count": 3,
   "metadata": {},
   "outputs": [
    {
     "data": {
      "text/html": [
       "<div>\n",
       "<style scoped>\n",
       "    .dataframe tbody tr th:only-of-type {\n",
       "        vertical-align: middle;\n",
       "    }\n",
       "\n",
       "    .dataframe tbody tr th {\n",
       "        vertical-align: top;\n",
       "    }\n",
       "\n",
       "    .dataframe thead th {\n",
       "        text-align: right;\n",
       "    }\n",
       "</style>\n",
       "<table border=\"1\" class=\"dataframe\">\n",
       "  <thead>\n",
       "    <tr style=\"text-align: right;\">\n",
       "      <th></th>\n",
       "      <th>Pet ID</th>\n",
       "      <th>Outcome Type</th>\n",
       "      <th>Sex upon Outcome</th>\n",
       "      <th>Name</th>\n",
       "      <th>Found Location</th>\n",
       "      <th>Intake Type</th>\n",
       "      <th>Intake Condition</th>\n",
       "      <th>Pet Type</th>\n",
       "      <th>Sex upon Intake</th>\n",
       "      <th>Breed</th>\n",
       "      <th>Color</th>\n",
       "      <th>Age upon Intake Days</th>\n",
       "      <th>Time at Center</th>\n",
       "    </tr>\n",
       "  </thead>\n",
       "  <tbody>\n",
       "    <tr>\n",
       "      <th>0</th>\n",
       "      <td>A745079</td>\n",
       "      <td>Transfer</td>\n",
       "      <td>Unknown</td>\n",
       "      <td>NaN</td>\n",
       "      <td>7920 Old Lockhart in Travis (TX)</td>\n",
       "      <td>Stray</td>\n",
       "      <td>Normal</td>\n",
       "      <td>Cat</td>\n",
       "      <td>Unknown</td>\n",
       "      <td>Domestic Shorthair Mix</td>\n",
       "      <td>Blue</td>\n",
       "      <td>3</td>\n",
       "      <td>0</td>\n",
       "    </tr>\n",
       "    <tr>\n",
       "      <th>1</th>\n",
       "      <td>A801765</td>\n",
       "      <td>Transfer</td>\n",
       "      <td>Intact Female</td>\n",
       "      <td>NaN</td>\n",
       "      <td>5006 Table Top in Austin (TX)</td>\n",
       "      <td>Stray</td>\n",
       "      <td>Normal</td>\n",
       "      <td>Cat</td>\n",
       "      <td>Intact Female</td>\n",
       "      <td>Domestic Shorthair</td>\n",
       "      <td>Brown Tabby/White</td>\n",
       "      <td>28</td>\n",
       "      <td>0</td>\n",
       "    </tr>\n",
       "    <tr>\n",
       "      <th>2</th>\n",
       "      <td>A667965</td>\n",
       "      <td>Transfer</td>\n",
       "      <td>Neutered Male</td>\n",
       "      <td>NaN</td>\n",
       "      <td>14100 Thermal Dr in Austin (TX)</td>\n",
       "      <td>Stray</td>\n",
       "      <td>Normal</td>\n",
       "      <td>Dog</td>\n",
       "      <td>Neutered Male</td>\n",
       "      <td>Chihuahua Shorthair Mix</td>\n",
       "      <td>Brown/Tan</td>\n",
       "      <td>1825</td>\n",
       "      <td>0</td>\n",
       "    </tr>\n",
       "    <tr>\n",
       "      <th>3</th>\n",
       "      <td>A687551</td>\n",
       "      <td>Transfer</td>\n",
       "      <td>Intact Male</td>\n",
       "      <td>NaN</td>\n",
       "      <td>5811 Cedardale Dr in Austin (TX)</td>\n",
       "      <td>Stray</td>\n",
       "      <td>Normal</td>\n",
       "      <td>Cat</td>\n",
       "      <td>Intact Male</td>\n",
       "      <td>Domestic Shorthair Mix</td>\n",
       "      <td>Brown Tabby</td>\n",
       "      <td>28</td>\n",
       "      <td>0</td>\n",
       "    </tr>\n",
       "    <tr>\n",
       "      <th>4</th>\n",
       "      <td>A773004</td>\n",
       "      <td>Adoption</td>\n",
       "      <td>Neutered Male</td>\n",
       "      <td>*Boris</td>\n",
       "      <td>Highway 290 And Arterial A in Austin (TX)</td>\n",
       "      <td>Stray</td>\n",
       "      <td>Normal</td>\n",
       "      <td>Dog</td>\n",
       "      <td>Intact Male</td>\n",
       "      <td>Chihuahua Shorthair Mix</td>\n",
       "      <td>Tricolor/Cream</td>\n",
       "      <td>365</td>\n",
       "      <td>0</td>\n",
       "    </tr>\n",
       "    <tr>\n",
       "      <th>...</th>\n",
       "      <td>...</td>\n",
       "      <td>...</td>\n",
       "      <td>...</td>\n",
       "      <td>...</td>\n",
       "      <td>...</td>\n",
       "      <td>...</td>\n",
       "      <td>...</td>\n",
       "      <td>...</td>\n",
       "      <td>...</td>\n",
       "      <td>...</td>\n",
       "      <td>...</td>\n",
       "      <td>...</td>\n",
       "      <td>...</td>\n",
       "    </tr>\n",
       "    <tr>\n",
       "      <th>95379</th>\n",
       "      <td>A706720</td>\n",
       "      <td>Adoption</td>\n",
       "      <td>Neutered Male</td>\n",
       "      <td>Nikko</td>\n",
       "      <td>Mc Callen Pass And Parmer in Austin (TX)</td>\n",
       "      <td>Stray</td>\n",
       "      <td>Normal</td>\n",
       "      <td>Dog</td>\n",
       "      <td>Neutered Male</td>\n",
       "      <td>Miniature Schnauzer Mix</td>\n",
       "      <td>Tan/Gray</td>\n",
       "      <td>1460</td>\n",
       "      <td>0</td>\n",
       "    </tr>\n",
       "    <tr>\n",
       "      <th>95380</th>\n",
       "      <td>A782751</td>\n",
       "      <td>Adoption</td>\n",
       "      <td>Neutered Male</td>\n",
       "      <td>NaN</td>\n",
       "      <td>18706 Blake Manor Rd in Manor (TX)</td>\n",
       "      <td>Stray</td>\n",
       "      <td>Normal</td>\n",
       "      <td>Dog</td>\n",
       "      <td>Intact Male</td>\n",
       "      <td>American Pit Bull Terrier Mix</td>\n",
       "      <td>Brown</td>\n",
       "      <td>60</td>\n",
       "      <td>0</td>\n",
       "    </tr>\n",
       "    <tr>\n",
       "      <th>95381</th>\n",
       "      <td>A768058</td>\n",
       "      <td>Euthanasia</td>\n",
       "      <td>Unknown</td>\n",
       "      <td>NaN</td>\n",
       "      <td>1701 Congress Avenue in Austin (TX)</td>\n",
       "      <td>Wildlife</td>\n",
       "      <td>Normal</td>\n",
       "      <td>Other</td>\n",
       "      <td>Unknown</td>\n",
       "      <td>Bat Mix</td>\n",
       "      <td>Black/Black</td>\n",
       "      <td>730</td>\n",
       "      <td>0</td>\n",
       "    </tr>\n",
       "    <tr>\n",
       "      <th>95382</th>\n",
       "      <td>A729326</td>\n",
       "      <td>Adoption</td>\n",
       "      <td>Neutered Male</td>\n",
       "      <td>*Jester</td>\n",
       "      <td>5017 W. 290 in Austin (TX)</td>\n",
       "      <td>Stray</td>\n",
       "      <td>Normal</td>\n",
       "      <td>Dog</td>\n",
       "      <td>Intact Male</td>\n",
       "      <td>Pointer Mix</td>\n",
       "      <td>Black/White</td>\n",
       "      <td>730</td>\n",
       "      <td>0</td>\n",
       "    </tr>\n",
       "    <tr>\n",
       "      <th>95383</th>\n",
       "      <td>A738658</td>\n",
       "      <td>Adoption</td>\n",
       "      <td>Neutered Male</td>\n",
       "      <td>Nero</td>\n",
       "      <td>Austin (TX)</td>\n",
       "      <td>Owner Surrender</td>\n",
       "      <td>Normal</td>\n",
       "      <td>Dog</td>\n",
       "      <td>Intact Male</td>\n",
       "      <td>Pit Bull Mix</td>\n",
       "      <td>Black/White</td>\n",
       "      <td>730</td>\n",
       "      <td>0</td>\n",
       "    </tr>\n",
       "  </tbody>\n",
       "</table>\n",
       "<p>95384 rows × 13 columns</p>\n",
       "</div>"
      ],
      "text/plain": [
       "        Pet ID Outcome Type Sex upon Outcome     Name  \\\n",
       "0      A745079     Transfer          Unknown      NaN   \n",
       "1      A801765     Transfer    Intact Female      NaN   \n",
       "2      A667965     Transfer    Neutered Male      NaN   \n",
       "3      A687551     Transfer      Intact Male      NaN   \n",
       "4      A773004     Adoption    Neutered Male   *Boris   \n",
       "...        ...          ...              ...      ...   \n",
       "95379  A706720     Adoption    Neutered Male    Nikko   \n",
       "95380  A782751     Adoption    Neutered Male      NaN   \n",
       "95381  A768058   Euthanasia          Unknown      NaN   \n",
       "95382  A729326     Adoption    Neutered Male  *Jester   \n",
       "95383  A738658     Adoption    Neutered Male     Nero   \n",
       "\n",
       "                                  Found Location      Intake Type  \\\n",
       "0               7920 Old Lockhart in Travis (TX)            Stray   \n",
       "1                  5006 Table Top in Austin (TX)            Stray   \n",
       "2                14100 Thermal Dr in Austin (TX)            Stray   \n",
       "3               5811 Cedardale Dr in Austin (TX)            Stray   \n",
       "4      Highway 290 And Arterial A in Austin (TX)            Stray   \n",
       "...                                          ...              ...   \n",
       "95379   Mc Callen Pass And Parmer in Austin (TX)            Stray   \n",
       "95380         18706 Blake Manor Rd in Manor (TX)            Stray   \n",
       "95381        1701 Congress Avenue in Austin (TX)         Wildlife   \n",
       "95382                 5017 W. 290 in Austin (TX)            Stray   \n",
       "95383                                Austin (TX)  Owner Surrender   \n",
       "\n",
       "      Intake Condition Pet Type Sex upon Intake  \\\n",
       "0               Normal      Cat         Unknown   \n",
       "1               Normal      Cat   Intact Female   \n",
       "2               Normal      Dog   Neutered Male   \n",
       "3               Normal      Cat     Intact Male   \n",
       "4               Normal      Dog     Intact Male   \n",
       "...                ...      ...             ...   \n",
       "95379           Normal      Dog   Neutered Male   \n",
       "95380           Normal      Dog     Intact Male   \n",
       "95381           Normal    Other         Unknown   \n",
       "95382           Normal      Dog     Intact Male   \n",
       "95383           Normal      Dog     Intact Male   \n",
       "\n",
       "                               Breed              Color  Age upon Intake Days  \\\n",
       "0             Domestic Shorthair Mix               Blue                     3   \n",
       "1                 Domestic Shorthair  Brown Tabby/White                    28   \n",
       "2            Chihuahua Shorthair Mix          Brown/Tan                  1825   \n",
       "3             Domestic Shorthair Mix        Brown Tabby                    28   \n",
       "4            Chihuahua Shorthair Mix     Tricolor/Cream                   365   \n",
       "...                              ...                ...                   ...   \n",
       "95379        Miniature Schnauzer Mix           Tan/Gray                  1460   \n",
       "95380  American Pit Bull Terrier Mix              Brown                    60   \n",
       "95381                        Bat Mix        Black/Black                   730   \n",
       "95382                    Pointer Mix        Black/White                   730   \n",
       "95383                   Pit Bull Mix        Black/White                   730   \n",
       "\n",
       "       Time at Center  \n",
       "0                   0  \n",
       "1                   0  \n",
       "2                   0  \n",
       "3                   0  \n",
       "4                   0  \n",
       "...               ...  \n",
       "95379               0  \n",
       "95380               0  \n",
       "95381               0  \n",
       "95382               0  \n",
       "95383               0  \n",
       "\n",
       "[95384 rows x 13 columns]"
      ]
     },
     "execution_count": 3,
     "metadata": {},
     "output_type": "execute_result"
    }
   ],
   "source": [
    "data = pd.read_csv(r'..\\data\\adopt.csv')\n",
    "legacy_data=data.copy()\n",
    "data"
   ]
  },
  {
   "cell_type": "code",
   "execution_count": 4,
   "metadata": {},
   "outputs": [
    {
     "data": {
      "text/plain": [
       "Adoption           39734\n",
       "Transfer           32299\n",
       "Return to Owner    13719\n",
       "Euthanasia          7630\n",
       "Died                1053\n",
       "Disposal             503\n",
       "Rto-Adopt            369\n",
       "Missing               52\n",
       "Relocate              20\n",
       "Name: Outcome Type, dtype: int64"
      ]
     },
     "execution_count": 4,
     "metadata": {},
     "output_type": "execute_result"
    }
   ],
   "source": [
    "data['Outcome Type'].value_counts()"
   ]
  },
  {
   "cell_type": "code",
   "execution_count": 5,
   "metadata": {},
   "outputs": [
    {
     "data": {
      "text/plain": [
       "0.0874045961586849"
      ]
     },
     "execution_count": 5,
     "metadata": {},
     "output_type": "execute_result"
    }
   ],
   "source": [
    "data['Time at Center'].value_counts()[1]/(data['Time at Center'].value_counts().sum())"
   ]
  },
  {
   "cell_type": "code",
   "execution_count": 6,
   "metadata": {},
   "outputs": [
    {
     "data": {
      "text/plain": [
       "0    87047\n",
       "1     8337\n",
       "Name: Time at Center, dtype: int64"
      ]
     },
     "execution_count": 6,
     "metadata": {},
     "output_type": "execute_result"
    }
   ],
   "source": [
    "data['Time at Center'].value_counts()"
   ]
  },
  {
   "cell_type": "code",
   "execution_count": 7,
   "metadata": {},
   "outputs": [
    {
     "name": "stdout",
     "output_type": "stream",
     "text": [
      "<class 'pandas.core.frame.DataFrame'>\n",
      "RangeIndex: 95384 entries, 0 to 95383\n",
      "Data columns (total 13 columns):\n",
      " #   Column                Non-Null Count  Dtype \n",
      "---  ------                --------------  ----- \n",
      " 0   Pet ID                95384 non-null  object\n",
      " 1   Outcome Type          95379 non-null  object\n",
      " 2   Sex upon Outcome      95383 non-null  object\n",
      " 3   Name                  59093 non-null  object\n",
      " 4   Found Location        95384 non-null  object\n",
      " 5   Intake Type           95384 non-null  object\n",
      " 6   Intake Condition      95384 non-null  object\n",
      " 7   Pet Type              95384 non-null  object\n",
      " 8   Sex upon Intake       95383 non-null  object\n",
      " 9   Breed                 95384 non-null  object\n",
      " 10  Color                 95384 non-null  object\n",
      " 11  Age upon Intake Days  95384 non-null  int64 \n",
      " 12  Time at Center        95384 non-null  int64 \n",
      "dtypes: int64(2), object(11)\n",
      "memory usage: 9.5+ MB\n"
     ]
    }
   ],
   "source": [
    "data.info()"
   ]
  },
  {
   "cell_type": "markdown",
   "metadata": {},
   "source": [
    "### KEY POINTS IDENTIFIED:\n",
    "    \n",
    "1. **Primary key - \"Pet ID\" column**\n",
    "    - We will check for uniqueness later\n",
    "\n",
    "\n",
    "1. **4 columns with inconsistent non-null counts**\n",
    "    - Name - 59093 count\n",
    "    - Outcome - 95379 count\n",
    "    - Sex upon Outcome - 95383 count\n",
    "    - Sex upon Intake - 95383 count\n",
    "    \n",
    "    \n",
    "3. **One integer, independent variable**\n",
    "    - Age (days), discrete values \n",
    "    \n",
    "    \n",
    "4. **10 objects, independent variables**\n",
    "    - Categorical\n",
    "    - *Note: \"Name\" weak as categorical. Given the high nulls and high uniqueness of names, it is likely we may have to drop name as a feature, will explore further*\n",
    "    \n",
    "    \n",
    "5. **Dependent variable: \"Time at Center\"**"
   ]
  },
  {
   "cell_type": "code",
   "execution_count": 8,
   "metadata": {},
   "outputs": [
    {
     "data": {
      "text/html": [
       "<div>\n",
       "<style scoped>\n",
       "    .dataframe tbody tr th:only-of-type {\n",
       "        vertical-align: middle;\n",
       "    }\n",
       "\n",
       "    .dataframe tbody tr th {\n",
       "        vertical-align: top;\n",
       "    }\n",
       "\n",
       "    .dataframe thead th {\n",
       "        text-align: right;\n",
       "    }\n",
       "</style>\n",
       "<table border=\"1\" class=\"dataframe\">\n",
       "  <thead>\n",
       "    <tr style=\"text-align: right;\">\n",
       "      <th></th>\n",
       "      <th>Age upon Intake Days</th>\n",
       "      <th>Time at Center</th>\n",
       "    </tr>\n",
       "  </thead>\n",
       "  <tbody>\n",
       "    <tr>\n",
       "      <th>count</th>\n",
       "      <td>95384.000000</td>\n",
       "      <td>95384.000000</td>\n",
       "    </tr>\n",
       "    <tr>\n",
       "      <th>mean</th>\n",
       "      <td>704.154691</td>\n",
       "      <td>0.087405</td>\n",
       "    </tr>\n",
       "    <tr>\n",
       "      <th>std</th>\n",
       "      <td>1052.579518</td>\n",
       "      <td>0.282429</td>\n",
       "    </tr>\n",
       "    <tr>\n",
       "      <th>min</th>\n",
       "      <td>0.000000</td>\n",
       "      <td>0.000000</td>\n",
       "    </tr>\n",
       "    <tr>\n",
       "      <th>25%</th>\n",
       "      <td>30.000000</td>\n",
       "      <td>0.000000</td>\n",
       "    </tr>\n",
       "    <tr>\n",
       "      <th>50%</th>\n",
       "      <td>365.000000</td>\n",
       "      <td>0.000000</td>\n",
       "    </tr>\n",
       "    <tr>\n",
       "      <th>75%</th>\n",
       "      <td>730.000000</td>\n",
       "      <td>0.000000</td>\n",
       "    </tr>\n",
       "    <tr>\n",
       "      <th>max</th>\n",
       "      <td>9125.000000</td>\n",
       "      <td>1.000000</td>\n",
       "    </tr>\n",
       "  </tbody>\n",
       "</table>\n",
       "</div>"
      ],
      "text/plain": [
       "       Age upon Intake Days  Time at Center\n",
       "count          95384.000000    95384.000000\n",
       "mean             704.154691        0.087405\n",
       "std             1052.579518        0.282429\n",
       "min                0.000000        0.000000\n",
       "25%               30.000000        0.000000\n",
       "50%              365.000000        0.000000\n",
       "75%              730.000000        0.000000\n",
       "max             9125.000000        1.000000"
      ]
     },
     "execution_count": 8,
     "metadata": {},
     "output_type": "execute_result"
    }
   ],
   "source": [
    "data.describe()"
   ]
  },
  {
   "cell_type": "markdown",
   "metadata": {},
   "source": [
    "\"Time at Center\" can be ignored because it is a boolean masked as an integer column. \n",
    "\n",
    "\"Age upon Intake Days\" the standard deviation is larger than the mean value. This suggests there are some large outliers on the upper bound. We will investigate what steps need to be taken for this column in the section 3 of this notebook"
   ]
  },
  {
   "cell_type": "markdown",
   "metadata": {},
   "source": [
    "### Checking Primary Key column"
   ]
  },
  {
   "cell_type": "code",
   "execution_count": 9,
   "metadata": {},
   "outputs": [
    {
     "data": {
      "text/plain": [
       "1"
      ]
     },
     "execution_count": 9,
     "metadata": {},
     "output_type": "execute_result"
    }
   ],
   "source": [
    "data['Pet ID'].value_counts().max()"
   ]
  },
  {
   "cell_type": "markdown",
   "metadata": {},
   "source": [
    "\"Pet ID\" column is indeed unique. Let's make sure all columns contain the same data type"
   ]
  },
  {
   "cell_type": "markdown",
   "metadata": {},
   "source": [
    "### Checking for mixed data type columns"
   ]
  },
  {
   "cell_type": "code",
   "execution_count": 10,
   "metadata": {},
   "outputs": [
    {
     "name": "stdout",
     "output_type": "stream",
     "text": [
      "<class 'str'>      95379\n",
      "<class 'float'>        5\n",
      "Name: Outcome Type, dtype: int64\n",
      "\n",
      "<class 'str'>      95383\n",
      "<class 'float'>        1\n",
      "Name: Sex upon Outcome, dtype: int64\n",
      "\n",
      "<class 'str'>      59093\n",
      "<class 'float'>    36291\n",
      "Name: Name, dtype: int64\n",
      "\n",
      "<class 'str'>      95383\n",
      "<class 'float'>        1\n",
      "Name: Sex upon Intake, dtype: int64\n",
      "\n"
     ]
    }
   ],
   "source": [
    "for i in data.columns.values:\n",
    "    type_array = data[i].apply(type).value_counts()\n",
    "    if len(type_array)>1:\n",
    "        print(f'{type_array}')\n",
    "        print()\n",
    "    else:\n",
    "        pass"
   ]
  },
  {
   "cell_type": "markdown",
   "metadata": {},
   "source": [
    "All columns listed above are columns with null values based on the info method we passed earlier. The additional floating point values are nulls. We're going to take a look at \"Outcome Type\", \"Sex upon Outcome\" and \"Sex upon Intake\" first because the number of null values is low. We should easily be able to determine what to do with these null values. Then we will take a look at \"Name\""
   ]
  },
  {
   "cell_type": "markdown",
   "metadata": {},
   "source": [
    "### Handling \"Outcome Type\" nulls"
   ]
  },
  {
   "cell_type": "code",
   "execution_count": 11,
   "metadata": {},
   "outputs": [
    {
     "data": {
      "text/plain": [
       "Adoption           39734\n",
       "Transfer           32299\n",
       "Return to Owner    13719\n",
       "Euthanasia          7630\n",
       "Died                1053\n",
       "Disposal             503\n",
       "Rto-Adopt            369\n",
       "Missing               52\n",
       "Relocate              20\n",
       "Name: Outcome Type, dtype: int64"
      ]
     },
     "execution_count": 11,
     "metadata": {},
     "output_type": "execute_result"
    }
   ],
   "source": [
    "data['Outcome Type'].value_counts()"
   ]
  },
  {
   "cell_type": "code",
   "execution_count": 12,
   "metadata": {},
   "outputs": [
    {
     "data": {
      "text/html": [
       "<div>\n",
       "<style scoped>\n",
       "    .dataframe tbody tr th:only-of-type {\n",
       "        vertical-align: middle;\n",
       "    }\n",
       "\n",
       "    .dataframe tbody tr th {\n",
       "        vertical-align: top;\n",
       "    }\n",
       "\n",
       "    .dataframe thead th {\n",
       "        text-align: right;\n",
       "    }\n",
       "</style>\n",
       "<table border=\"1\" class=\"dataframe\">\n",
       "  <thead>\n",
       "    <tr style=\"text-align: right;\">\n",
       "      <th></th>\n",
       "      <th>Pet ID</th>\n",
       "      <th>Outcome Type</th>\n",
       "      <th>Sex upon Outcome</th>\n",
       "      <th>Name</th>\n",
       "      <th>Found Location</th>\n",
       "      <th>Intake Type</th>\n",
       "      <th>Intake Condition</th>\n",
       "      <th>Pet Type</th>\n",
       "      <th>Sex upon Intake</th>\n",
       "      <th>Breed</th>\n",
       "      <th>Color</th>\n",
       "      <th>Age upon Intake Days</th>\n",
       "      <th>Time at Center</th>\n",
       "    </tr>\n",
       "  </thead>\n",
       "  <tbody>\n",
       "    <tr>\n",
       "      <th>828</th>\n",
       "      <td>A674209</td>\n",
       "      <td>NaN</td>\n",
       "      <td>Unknown</td>\n",
       "      <td>NaN</td>\n",
       "      <td>4210 W. Braker in Austin (TX)</td>\n",
       "      <td>Wildlife</td>\n",
       "      <td>Normal</td>\n",
       "      <td>Other</td>\n",
       "      <td>Unknown</td>\n",
       "      <td>Bat Mix</td>\n",
       "      <td>Brown</td>\n",
       "      <td>0</td>\n",
       "      <td>0</td>\n",
       "    </tr>\n",
       "    <tr>\n",
       "      <th>10178</th>\n",
       "      <td>A679066</td>\n",
       "      <td>NaN</td>\n",
       "      <td>Unknown</td>\n",
       "      <td>NaN</td>\n",
       "      <td>Austin (TX)</td>\n",
       "      <td>Wildlife</td>\n",
       "      <td>Normal</td>\n",
       "      <td>Other</td>\n",
       "      <td>Unknown</td>\n",
       "      <td>Rabbit Sh</td>\n",
       "      <td>Brown</td>\n",
       "      <td>28</td>\n",
       "      <td>0</td>\n",
       "    </tr>\n",
       "    <tr>\n",
       "      <th>18664</th>\n",
       "      <td>A686025</td>\n",
       "      <td>NaN</td>\n",
       "      <td>Unknown</td>\n",
       "      <td>NaN</td>\n",
       "      <td>12901 N Ih 35 #1100 in Austin (TX)</td>\n",
       "      <td>Wildlife</td>\n",
       "      <td>Normal</td>\n",
       "      <td>Other</td>\n",
       "      <td>Unknown</td>\n",
       "      <td>Bat Mix</td>\n",
       "      <td>Brown</td>\n",
       "      <td>365</td>\n",
       "      <td>0</td>\n",
       "    </tr>\n",
       "    <tr>\n",
       "      <th>47605</th>\n",
       "      <td>A671017</td>\n",
       "      <td>NaN</td>\n",
       "      <td>Unknown</td>\n",
       "      <td>NaN</td>\n",
       "      <td>10105 Falcon Ridge Dr. in Travis (TX)</td>\n",
       "      <td>Wildlife</td>\n",
       "      <td>Sick</td>\n",
       "      <td>Other</td>\n",
       "      <td>Unknown</td>\n",
       "      <td>Fox Mix</td>\n",
       "      <td>Brown/Black</td>\n",
       "      <td>365</td>\n",
       "      <td>0</td>\n",
       "    </tr>\n",
       "    <tr>\n",
       "      <th>58378</th>\n",
       "      <td>A815725</td>\n",
       "      <td>NaN</td>\n",
       "      <td>Unknown</td>\n",
       "      <td>NaN</td>\n",
       "      <td>321 West Ben White in Austin (TX)</td>\n",
       "      <td>Wildlife</td>\n",
       "      <td>Normal</td>\n",
       "      <td>Other</td>\n",
       "      <td>Unknown</td>\n",
       "      <td>Bat</td>\n",
       "      <td>Black</td>\n",
       "      <td>365</td>\n",
       "      <td>0</td>\n",
       "    </tr>\n",
       "  </tbody>\n",
       "</table>\n",
       "</div>"
      ],
      "text/plain": [
       "        Pet ID Outcome Type Sex upon Outcome Name  \\\n",
       "828    A674209          NaN          Unknown  NaN   \n",
       "10178  A679066          NaN          Unknown  NaN   \n",
       "18664  A686025          NaN          Unknown  NaN   \n",
       "47605  A671017          NaN          Unknown  NaN   \n",
       "58378  A815725          NaN          Unknown  NaN   \n",
       "\n",
       "                              Found Location Intake Type Intake Condition  \\\n",
       "828            4210 W. Braker in Austin (TX)    Wildlife           Normal   \n",
       "10178                            Austin (TX)    Wildlife           Normal   \n",
       "18664     12901 N Ih 35 #1100 in Austin (TX)    Wildlife           Normal   \n",
       "47605  10105 Falcon Ridge Dr. in Travis (TX)    Wildlife             Sick   \n",
       "58378      321 West Ben White in Austin (TX)    Wildlife           Normal   \n",
       "\n",
       "      Pet Type Sex upon Intake      Breed        Color  Age upon Intake Days  \\\n",
       "828      Other         Unknown    Bat Mix        Brown                     0   \n",
       "10178    Other         Unknown  Rabbit Sh        Brown                    28   \n",
       "18664    Other         Unknown    Bat Mix        Brown                   365   \n",
       "47605    Other         Unknown    Fox Mix  Brown/Black                   365   \n",
       "58378    Other         Unknown        Bat        Black                   365   \n",
       "\n",
       "       Time at Center  \n",
       "828                 0  \n",
       "10178               0  \n",
       "18664               0  \n",
       "47605               0  \n",
       "58378               0  "
      ]
     },
     "execution_count": 12,
     "metadata": {},
     "output_type": "execute_result"
    }
   ],
   "source": [
    "data.loc[data['Outcome Type'].isnull()]"
   ]
  },
  {
   "cell_type": "markdown",
   "metadata": {},
   "source": [
    "Based on the values in \"Outcome Type\" and the number of nulls is low (5), I don't think imputing the values or replacing it with a dummy category like \"blank\" is necessary and we can likely remove these values. We just need to check these nulls are not associated with rare information in other columns.\n",
    "\n",
    "Check\n",
    "- Unknown in \"Sex upon Outcome\" and \"Sex upon Intake\" is not associated only with null outcome type\n",
    "- \"Name\" has many nulls so we do not have to check\n",
    "- \"Found Location\", perhaps City, Province will need to be extracted and checked\n",
    "- \"Intake Type\" ensure Wildlife is not associated only with null outcome type\n",
    "- \"Pet Type\" ensure Other is not associated with only null outcome type\n",
    "- \"Breed\" seems mixed, double check bat info is not under-represented after removal\n",
    "- \"Age upon Intake Days\" ensure distribution is not affected from removal of 0,28,365,365,365\n",
    "- \"Time at Center\" ensure dependent variable not largely affected by removal"
   ]
  },
  {
   "cell_type": "code",
   "execution_count": 13,
   "metadata": {},
   "outputs": [
    {
     "name": "stdout",
     "output_type": "stream",
     "text": [
      "Neutered Male    30233\n",
      "Spayed Female    28123\n",
      "Intact Female    13686\n",
      "Intact Male      13614\n",
      "Unknown           9727\n",
      "Name: Sex upon Outcome, dtype: int64\n",
      "\n",
      "Stray                 70112\n",
      "Owner Surrender       15131\n",
      "Public Assist          5236\n",
      "Wildlife               4559\n",
      "Euthanasia Request      235\n",
      "Abandoned               111\n",
      "Name: Intake Type, dtype: int64\n",
      "\n",
      "Normal      81824\n",
      "Injured      5384\n",
      "Sick         4289\n",
      "Nursing      3163\n",
      "Aged          352\n",
      "Other         189\n",
      "Feral          97\n",
      "Pregnant       63\n",
      "Medical        21\n",
      "Behavior        2\n",
      "Name: Intake Condition, dtype: int64\n",
      "\n",
      "Intact Male      33326\n",
      "Intact Female    32455\n",
      "Neutered Male    10521\n",
      "Unknown           9727\n",
      "Spayed Female     9354\n",
      "Name: Sex upon Intake, dtype: int64\n",
      "\n",
      "Dog          48674\n",
      "Cat          40023\n",
      "Other         6118\n",
      "Bird           553\n",
      "Livestock       16\n",
      "Name: Pet Type, dtype: int64\n",
      "\n"
     ]
    }
   ],
   "source": [
    "for i in ['Sex upon Outcome','Intake Type','Intake Condition','Sex upon Intake','Pet Type']:\n",
    "    print(data[i].value_counts())\n",
    "    print()"
   ]
  },
  {
   "cell_type": "code",
   "execution_count": 14,
   "metadata": {},
   "outputs": [
    {
     "data": {
      "text/plain": [
       "3030"
      ]
     },
     "execution_count": 14,
     "metadata": {},
     "output_type": "execute_result"
    }
   ],
   "source": [
    "data.loc[data.Breed.str.contains('Bat')].shape[0]"
   ]
  },
  {
   "cell_type": "markdown",
   "metadata": {},
   "source": [
    "Based on these values, removal of the 5 nulls from \"Outcome Type\" will not impact the dataset. Now to look at \"Sex upon Outcome\"."
   ]
  },
  {
   "cell_type": "code",
   "execution_count": 15,
   "metadata": {},
   "outputs": [],
   "source": [
    "data=data.loc[data['Outcome Type'].notnull()] #removing nulls from Outcome Type"
   ]
  },
  {
   "cell_type": "markdown",
   "metadata": {},
   "source": [
    "### Handling \"Sex upon Outcome\" and \"Sex upon Intake\" fields"
   ]
  },
  {
   "cell_type": "code",
   "execution_count": 16,
   "metadata": {},
   "outputs": [
    {
     "data": {
      "text/html": [
       "<div>\n",
       "<style scoped>\n",
       "    .dataframe tbody tr th:only-of-type {\n",
       "        vertical-align: middle;\n",
       "    }\n",
       "\n",
       "    .dataframe tbody tr th {\n",
       "        vertical-align: top;\n",
       "    }\n",
       "\n",
       "    .dataframe thead th {\n",
       "        text-align: right;\n",
       "    }\n",
       "</style>\n",
       "<table border=\"1\" class=\"dataframe\">\n",
       "  <thead>\n",
       "    <tr style=\"text-align: right;\">\n",
       "      <th></th>\n",
       "      <th>Pet ID</th>\n",
       "      <th>Outcome Type</th>\n",
       "      <th>Sex upon Outcome</th>\n",
       "      <th>Name</th>\n",
       "      <th>Found Location</th>\n",
       "      <th>Intake Type</th>\n",
       "      <th>Intake Condition</th>\n",
       "      <th>Pet Type</th>\n",
       "      <th>Sex upon Intake</th>\n",
       "      <th>Breed</th>\n",
       "      <th>Color</th>\n",
       "      <th>Age upon Intake Days</th>\n",
       "      <th>Time at Center</th>\n",
       "    </tr>\n",
       "  </thead>\n",
       "  <tbody>\n",
       "    <tr>\n",
       "      <th>38480</th>\n",
       "      <td>A667395</td>\n",
       "      <td>Return to Owner</td>\n",
       "      <td>NaN</td>\n",
       "      <td>Diego</td>\n",
       "      <td>Pflugerville (TX)</td>\n",
       "      <td>Owner Surrender</td>\n",
       "      <td>Normal</td>\n",
       "      <td>Dog</td>\n",
       "      <td>NaN</td>\n",
       "      <td>Dachshund</td>\n",
       "      <td>Brown Merle</td>\n",
       "      <td>2555</td>\n",
       "      <td>0</td>\n",
       "    </tr>\n",
       "  </tbody>\n",
       "</table>\n",
       "</div>"
      ],
      "text/plain": [
       "        Pet ID     Outcome Type Sex upon Outcome   Name     Found Location  \\\n",
       "38480  A667395  Return to Owner              NaN  Diego  Pflugerville (TX)   \n",
       "\n",
       "           Intake Type Intake Condition Pet Type Sex upon Intake      Breed  \\\n",
       "38480  Owner Surrender           Normal      Dog             NaN  Dachshund   \n",
       "\n",
       "             Color  Age upon Intake Days  Time at Center  \n",
       "38480  Brown Merle                  2555               0  "
      ]
     },
     "execution_count": 16,
     "metadata": {},
     "output_type": "execute_result"
    }
   ],
   "source": [
    "data.loc[data['Sex upon Outcome'].isnull()] "
   ]
  },
  {
   "cell_type": "markdown",
   "metadata": {},
   "source": [
    "Based on analysis of previous columns, we can include this record by replacing the null values with \"Unknown\" in both gender related columns. Unknown is already used to fill missing values in these columns."
   ]
  },
  {
   "cell_type": "code",
   "execution_count": 17,
   "metadata": {},
   "outputs": [
    {
     "name": "stderr",
     "output_type": "stream",
     "text": [
      "C:\\Users\\notal\\anaconda3\\lib\\site-packages\\pandas\\core\\series.py:4463: SettingWithCopyWarning: \n",
      "A value is trying to be set on a copy of a slice from a DataFrame\n",
      "\n",
      "See the caveats in the documentation: https://pandas.pydata.org/pandas-docs/stable/user_guide/indexing.html#returning-a-view-versus-a-copy\n",
      "  return super().fillna(\n"
     ]
    }
   ],
   "source": [
    "data['Sex upon Outcome'].fillna('Unknown',inplace=True)\n",
    "data['Sex upon Intake'].fillna('Unknown',inplace=True)"
   ]
  },
  {
   "cell_type": "markdown",
   "metadata": {},
   "source": [
    "## Dealing with Name\n",
    "\n",
    "Because almost 40% of the data has null name values, we will not be removing them. Instead, we will replace the values with \"Unknown\" to stay consistent with other column nomenclature for null values.\n"
   ]
  },
  {
   "cell_type": "code",
   "execution_count": 18,
   "metadata": {},
   "outputs": [],
   "source": [
    "data['Name'].fillna('Unknown',inplace=True)"
   ]
  },
  {
   "cell_type": "code",
   "execution_count": 19,
   "metadata": {},
   "outputs": [
    {
     "name": "stdout",
     "output_type": "stream",
     "text": [
      "<class 'pandas.core.frame.DataFrame'>\n",
      "Int64Index: 95379 entries, 0 to 95383\n",
      "Data columns (total 13 columns):\n",
      " #   Column                Non-Null Count  Dtype \n",
      "---  ------                --------------  ----- \n",
      " 0   Pet ID                95379 non-null  object\n",
      " 1   Outcome Type          95379 non-null  object\n",
      " 2   Sex upon Outcome      95379 non-null  object\n",
      " 3   Name                  95379 non-null  object\n",
      " 4   Found Location        95379 non-null  object\n",
      " 5   Intake Type           95379 non-null  object\n",
      " 6   Intake Condition      95379 non-null  object\n",
      " 7   Pet Type              95379 non-null  object\n",
      " 8   Sex upon Intake       95379 non-null  object\n",
      " 9   Breed                 95379 non-null  object\n",
      " 10  Color                 95379 non-null  object\n",
      " 11  Age upon Intake Days  95379 non-null  int64 \n",
      " 12  Time at Center        95379 non-null  int64 \n",
      "dtypes: int64(2), object(11)\n",
      "memory usage: 10.2+ MB\n"
     ]
    }
   ],
   "source": [
    "data.info()"
   ]
  },
  {
   "cell_type": "markdown",
   "metadata": {},
   "source": [
    "Now all columns in our data set have the same number of non-null values. We have removed 5 rows from the entire dataset from this cleaning step"
   ]
  },
  {
   "cell_type": "markdown",
   "metadata": {},
   "source": [
    "## Ensuring data consistencies\n",
    "- Noticed \"*\" prefix to certain names - need to clean this up\n",
    "- Check other columns for formatting inconsistencies"
   ]
  },
  {
   "cell_type": "markdown",
   "metadata": {},
   "source": [
    "### \"Name\" cleaning"
   ]
  },
  {
   "cell_type": "code",
   "execution_count": 20,
   "metadata": {},
   "outputs": [
    {
     "name": "stdout",
     "output_type": "stream",
     "text": [
      "14107\n"
     ]
    },
    {
     "name": "stderr",
     "output_type": "stream",
     "text": [
      "<ipython-input-20-719e600a3ca0>:1: SettingWithCopyWarning: \n",
      "A value is trying to be set on a copy of a slice from a DataFrame.\n",
      "Try using .loc[row_indexer,col_indexer] = value instead\n",
      "\n",
      "See the caveats in the documentation: https://pandas.pydata.org/pandas-docs/stable/user_guide/indexing.html#returning-a-view-versus-a-copy\n",
      "  data['Name']=data['Name'].str.replace('[*]','',regex=True) #remove asteriks\n"
     ]
    },
    {
     "data": {
      "text/plain": [
       "Unknown        36304\n",
       "Bella            370\n",
       "Max              359\n",
       "Luna             344\n",
       "Charlie          305\n",
       "               ...  \n",
       "Leti               1\n",
       "Bodan              1\n",
       "Mr Meeseeks        1\n",
       "Gadget             1\n",
       "Boswell            1\n",
       "Name: Name, Length: 14107, dtype: int64"
      ]
     },
     "execution_count": 20,
     "metadata": {},
     "output_type": "execute_result"
    }
   ],
   "source": [
    "data['Name']=data['Name'].str.replace('[*]','',regex=True) #remove asteriks\n",
    "print(len(data.Name.unique()))\n",
    "data.Name.value_counts()"
   ]
  },
  {
   "cell_type": "markdown",
   "metadata": {},
   "source": [
    "### Breed check"
   ]
  },
  {
   "cell_type": "markdown",
   "metadata": {},
   "source": [
    "Because the categorical size of  \"Livestock\" are is small, we will bin it together with \"Other\". The model will not be able to generalize correctly from such a small bin. \"Bird\" may be a bit small, but it may be relevant."
   ]
  },
  {
   "cell_type": "code",
   "execution_count": 21,
   "metadata": {},
   "outputs": [
    {
     "name": "stderr",
     "output_type": "stream",
     "text": [
      "<ipython-input-21-09d109471959>:1: SettingWithCopyWarning: \n",
      "A value is trying to be set on a copy of a slice from a DataFrame.\n",
      "Try using .loc[row_indexer,col_indexer] = value instead\n",
      "\n",
      "See the caveats in the documentation: https://pandas.pydata.org/pandas-docs/stable/user_guide/indexing.html#returning-a-view-versus-a-copy\n",
      "  data['Pet Type']=data['Pet Type'].replace(to_replace={'Livestock':'Other'})\n"
     ]
    }
   ],
   "source": [
    "data['Pet Type']=data['Pet Type'].replace(to_replace={'Livestock':'Other'})"
   ]
  },
  {
   "cell_type": "markdown",
   "metadata": {},
   "source": [
    "I was stumped on the best way to reduce the number of bins in this category and just thought of using tokenization to reduce binning further. Other approaches I considered.\n",
    "\n",
    "- Thresholding by mean or percentile values\n",
    "    - *Issue: Even binning all categories under 600 in size led to 20k records with undefined breeds - a significant loss of information*\n",
    "- Thresholding by a proportion of the minority class\n",
    "    - e.g. Bins must contain 20% of minority class size\n",
    "- Extract bi-grams to derive smaller groups\n",
    "- Using Levenshtein distance to organize categories by edit distance\n",
    "    \n",
    "    \n",
    "First we will bin the breeds of smaller \"Pet Type\" categories like \"Bird\" and \"Other\".\n"
   ]
  },
  {
   "cell_type": "code",
   "execution_count": 22,
   "metadata": {},
   "outputs": [
    {
     "name": "stderr",
     "output_type": "stream",
     "text": [
      "<ipython-input-22-35038a1d5fe8>:1: SettingWithCopyWarning: \n",
      "A value is trying to be set on a copy of a slice from a DataFrame.\n",
      "Try using .loc[row_indexer,col_indexer] = value instead\n",
      "\n",
      "See the caveats in the documentation: https://pandas.pydata.org/pandas-docs/stable/user_guide/indexing.html#returning-a-view-versus-a-copy\n",
      "  data['Mix']=np.where((data['Breed'].str.contains('Mix'))|(data['Breed'].str.contains('/')),\"Mix\",\"Not\")\n",
      "<ipython-input-22-35038a1d5fe8>:3: SettingWithCopyWarning: \n",
      "A value is trying to be set on a copy of a slice from a DataFrame.\n",
      "Try using .loc[row_indexer,col_indexer] = value instead\n",
      "\n",
      "See the caveats in the documentation: https://pandas.pydata.org/pandas-docs/stable/user_guide/indexing.html#returning-a-view-versus-a-copy\n",
      "  data['Breed_new']=data['Breed'].str.replace('Mix','')\n",
      "<ipython-input-22-35038a1d5fe8>:4: SettingWithCopyWarning: \n",
      "A value is trying to be set on a copy of a slice from a DataFrame.\n",
      "Try using .loc[row_indexer,col_indexer] = value instead\n",
      "\n",
      "See the caveats in the documentation: https://pandas.pydata.org/pandas-docs/stable/user_guide/indexing.html#returning-a-view-versus-a-copy\n",
      "  data['Breed_new']=data['Breed_new'].str.replace(r'[/]',' ',regex=True)\n",
      "<ipython-input-22-35038a1d5fe8>:5: SettingWithCopyWarning: \n",
      "A value is trying to be set on a copy of a slice from a DataFrame.\n",
      "Try using .loc[row_indexer,col_indexer] = value instead\n",
      "\n",
      "See the caveats in the documentation: https://pandas.pydata.org/pandas-docs/stable/user_guide/indexing.html#returning-a-view-versus-a-copy\n",
      "  data['Breed_new']=data['Breed_new'].str.lower()\n"
     ]
    },
    {
     "data": {
      "text/plain": [
       "domestic shorthair                 27654\n",
       "domestic shorthair                  5068\n",
       "pit bull                            5013\n",
       "chihuahua shorthair                 4960\n",
       "labrador retriever                  4783\n",
       "                                   ...  \n",
       "chesa bay retr pit bull                1\n",
       "snowshoe domestic shorthair            1\n",
       "deer                                   1\n",
       "basset hound golden retriever          1\n",
       "afghan hound labrador retriever        1\n",
       "Name: Breed_new, Length: 2395, dtype: int64"
      ]
     },
     "execution_count": 22,
     "metadata": {},
     "output_type": "execute_result"
    }
   ],
   "source": [
    "data['Mix']=np.where((data['Breed'].str.contains('Mix'))|(data['Breed'].str.contains('/')),\"Mix\",\"Not\")\n",
    "\n",
    "data['Breed_new']=data['Breed'].str.replace('Mix','')\n",
    "data['Breed_new']=data['Breed_new'].str.replace(r'[/]',' ',regex=True)\n",
    "data['Breed_new']=data['Breed_new'].str.lower()\n",
    "data['Breed_new'].value_counts()"
   ]
  },
  {
   "cell_type": "code",
   "execution_count": 23,
   "metadata": {},
   "outputs": [],
   "source": [
    "#token approach\n",
    "breed_dict={}\n",
    "for i in data['Breed_new'].values:\n",
    "    salad = word_tokenize(i)\n",
    "    for s in salad:\n",
    "        if s in breed_dict.keys():\n",
    "            breed_dict[s]=breed_dict[s]+1\n",
    "        else:\n",
    "            breed_dict[s]=1\n",
    "breed_list=[[i,x] for i,x in breed_dict.items()]\n",
    "test=pd.DataFrame(data=breed_list,columns=['Token','Count'])\n",
    "test = test.sort_values(by='Count',ascending=False)"
   ]
  },
  {
   "cell_type": "code",
   "execution_count": 24,
   "metadata": {},
   "outputs": [
    {
     "data": {
      "text/plain": [
       "406"
      ]
     },
     "execution_count": 24,
     "metadata": {},
     "output_type": "execute_result"
    }
   ],
   "source": [
    "len(test.Token.unique())"
   ]
  },
  {
   "cell_type": "code",
   "execution_count": 27,
   "metadata": {},
   "outputs": [
    {
     "name": "stderr",
     "output_type": "stream",
     "text": [
      "<ipython-input-27-1e67a079603e>:2: SettingWithCopyWarning: \n",
      "A value is trying to be set on a copy of a slice from a DataFrame.\n",
      "Try using .loc[row_indexer,col_indexer] = value instead\n",
      "\n",
      "See the caveats in the documentation: https://pandas.pydata.org/pandas-docs/stable/user_guide/indexing.html#returning-a-view-versus-a-copy\n",
      "  data['Breed_'+i]=np.where(data['Breed_new'].str.contains(i),1,0)\n"
     ]
    }
   ],
   "source": [
    "\n",
    "for i in test.Token.values[:30]:\n",
    "    data['Breed_'+i]=np.where(data['Breed_new'].str.contains(i),1,0)\n"
   ]
  },
  {
   "cell_type": "code",
   "execution_count": 28,
   "metadata": {},
   "outputs": [
    {
     "name": "stderr",
     "output_type": "stream",
     "text": [
      "<ipython-input-28-4ed5672bcb91>:1: SettingWithCopyWarning: \n",
      "A value is trying to be set on a copy of a slice from a DataFrame.\n",
      "Try using .loc[row_indexer,col_indexer] = value instead\n",
      "\n",
      "See the caveats in the documentation: https://pandas.pydata.org/pandas-docs/stable/user_guide/indexing.html#returning-a-view-versus-a-copy\n",
      "  data['MixColor']=np.where((data['Color'].str.contains('Mix'))|(data['Color'].str.contains('/')),\"Mix\",\"Not\")\n",
      "<ipython-input-28-4ed5672bcb91>:3: SettingWithCopyWarning: \n",
      "A value is trying to be set on a copy of a slice from a DataFrame.\n",
      "Try using .loc[row_indexer,col_indexer] = value instead\n",
      "\n",
      "See the caveats in the documentation: https://pandas.pydata.org/pandas-docs/stable/user_guide/indexing.html#returning-a-view-versus-a-copy\n",
      "  data['Color_new']=data['Color'].str.replace('Mix','')\n",
      "<ipython-input-28-4ed5672bcb91>:4: SettingWithCopyWarning: \n",
      "A value is trying to be set on a copy of a slice from a DataFrame.\n",
      "Try using .loc[row_indexer,col_indexer] = value instead\n",
      "\n",
      "See the caveats in the documentation: https://pandas.pydata.org/pandas-docs/stable/user_guide/indexing.html#returning-a-view-versus-a-copy\n",
      "  data['Color_new']=data['Color_new'].str.replace(r'[/]',' ',regex=True)\n",
      "<ipython-input-28-4ed5672bcb91>:5: SettingWithCopyWarning: \n",
      "A value is trying to be set on a copy of a slice from a DataFrame.\n",
      "Try using .loc[row_indexer,col_indexer] = value instead\n",
      "\n",
      "See the caveats in the documentation: https://pandas.pydata.org/pandas-docs/stable/user_guide/indexing.html#returning-a-view-versus-a-copy\n",
      "  data['Color_new']=data['Color_new'].str.lower()\n"
     ]
    },
    {
     "data": {
      "text/plain": [
       "black white           9671\n",
       "black                 8514\n",
       "brown tabby           6069\n",
       "brown                 4439\n",
       "white                 3310\n",
       "                      ... \n",
       "brown tabby blue         1\n",
       "tan cream tabby          1\n",
       "tan yellow brindle       1\n",
       "fawn cream               1\n",
       "red merle tan            1\n",
       "Name: Color_new, Length: 566, dtype: int64"
      ]
     },
     "execution_count": 28,
     "metadata": {},
     "output_type": "execute_result"
    }
   ],
   "source": [
    "data['MixColor']=np.where((data['Color'].str.contains('Mix'))|(data['Color'].str.contains('/')),\"Mix\",\"Not\")\n",
    "\n",
    "data['Color_new']=data['Color'].str.replace('Mix','')\n",
    "data['Color_new']=data['Color_new'].str.replace(r'[/]',' ',regex=True)\n",
    "data['Color_new']=data['Color_new'].str.lower()\n",
    "data['Color_new'].value_counts()"
   ]
  },
  {
   "cell_type": "code",
   "execution_count": 29,
   "metadata": {},
   "outputs": [],
   "source": [
    "#token approach\n",
    "breed_dict={}\n",
    "for i in data['Color_new'].values:\n",
    "    salad = word_tokenize(i)\n",
    "    for s in salad:\n",
    "        if s in breed_dict.keys():\n",
    "            breed_dict[s]=breed_dict[s]+1\n",
    "        else:\n",
    "            breed_dict[s]=1\n",
    "Color_list=[[i,x] for i,x in breed_dict.items()]\n",
    "test=pd.DataFrame(data=Color_list,columns=['Token','Count'])\n",
    "test = test.sort_values(by='Count',ascending=False)"
   ]
  },
  {
   "cell_type": "code",
   "execution_count": 30,
   "metadata": {},
   "outputs": [
    {
     "name": "stderr",
     "output_type": "stream",
     "text": [
      "<ipython-input-30-b98bd19e1432>:2: SettingWithCopyWarning: \n",
      "A value is trying to be set on a copy of a slice from a DataFrame.\n",
      "Try using .loc[row_indexer,col_indexer] = value instead\n",
      "\n",
      "See the caveats in the documentation: https://pandas.pydata.org/pandas-docs/stable/user_guide/indexing.html#returning-a-view-versus-a-copy\n",
      "  data['Color_'+i]=np.where(data['Color_new'].str.contains(i),1,0)\n"
     ]
    }
   ],
   "source": [
    "\n",
    "for i in test.Token.values[:20]:\n",
    "    data['Color_'+i]=np.where(data['Color_new'].str.contains(i),1,0)\n"
   ]
  },
  {
   "cell_type": "code",
   "execution_count": 31,
   "metadata": {},
   "outputs": [
    {
     "name": "stderr",
     "output_type": "stream",
     "text": [
      "<ipython-input-31-cf7cf1225bbc>:1: SettingWithCopyWarning: \n",
      "A value is trying to be set on a copy of a slice from a DataFrame.\n",
      "Try using .loc[row_indexer,col_indexer] = value instead\n",
      "\n",
      "See the caveats in the documentation: https://pandas.pydata.org/pandas-docs/stable/user_guide/indexing.html#returning-a-view-versus-a-copy\n",
      "  data['Intake Condition']=data['Intake Condition'].replace(to_replace={'Behavior':'Other','Medical':'Injured'})\n"
     ]
    }
   ],
   "source": [
    "data['Intake Condition']=data['Intake Condition'].replace(to_replace={'Behavior':'Other','Medical':'Injured'})"
   ]
  },
  {
   "cell_type": "markdown",
   "metadata": {},
   "source": [
    "Color reduced to 25 bins. Split into two features - mix color and base color. \n",
    "\n",
    "Next steps:\n",
    "- Clean out deprecated columns\n",
    "- Engage in additional feature engineering"
   ]
  },
  {
   "cell_type": "code",
   "execution_count": 32,
   "metadata": {},
   "outputs": [
    {
     "name": "stderr",
     "output_type": "stream",
     "text": [
      "C:\\Users\\notal\\anaconda3\\lib\\site-packages\\pandas\\core\\frame.py:4441: SettingWithCopyWarning: \n",
      "A value is trying to be set on a copy of a slice from a DataFrame\n",
      "\n",
      "See the caveats in the documentation: https://pandas.pydata.org/pandas-docs/stable/user_guide/indexing.html#returning-a-view-versus-a-copy\n",
      "  return super().rename(\n"
     ]
    }
   ],
   "source": [
    "data.rename(columns={'Mix':'MixBreed'},inplace=True) #standardize naming of columns"
   ]
  },
  {
   "cell_type": "markdown",
   "metadata": {},
   "source": [
    "<a id='sec-2'></a>\n",
    "## 2. Feature Engineering\n",
    "\n",
    "Ideas:\n",
    "- Spay/Neuter status\n",
    "- Spay/Neuter change status (at shelter)\n",
    "- Location by City/State\n",
    "- Name starting letter\n",
    "- Name length\n",
    "\n",
    "\n",
    "[*Back to top*](#top)"
   ]
  },
  {
   "cell_type": "code",
   "execution_count": null,
   "metadata": {},
   "outputs": [],
   "source": []
  },
  {
   "cell_type": "code",
   "execution_count": 33,
   "metadata": {},
   "outputs": [
    {
     "name": "stderr",
     "output_type": "stream",
     "text": [
      "<ipython-input-33-2f30cd3411fa>:1: SettingWithCopyWarning: \n",
      "A value is trying to be set on a copy of a slice from a DataFrame.\n",
      "Try using .loc[row_indexer,col_indexer] = value instead\n",
      "\n",
      "See the caveats in the documentation: https://pandas.pydata.org/pandas-docs/stable/user_guide/indexing.html#returning-a-view-versus-a-copy\n",
      "  data['NS_intake']=np.where((data['Sex upon Intake'].str.contains('Neutered'))\n",
      "<ipython-input-33-2f30cd3411fa>:3: SettingWithCopyWarning: \n",
      "A value is trying to be set on a copy of a slice from a DataFrame.\n",
      "Try using .loc[row_indexer,col_indexer] = value instead\n",
      "\n",
      "See the caveats in the documentation: https://pandas.pydata.org/pandas-docs/stable/user_guide/indexing.html#returning-a-view-versus-a-copy\n",
      "  data['Gender']=data['Sex upon Intake'].str.split(' ').str[-1] #new feature\n"
     ]
    },
    {
     "name": "stdout",
     "output_type": "stream",
     "text": [
      "0    75504\n",
      "1    19875\n",
      "Name: NS_intake, dtype: int64\n",
      "Male       43847\n",
      "Female     41809\n",
      "Unknown     9723\n",
      "Name: Gender, dtype: int64\n"
     ]
    }
   ],
   "source": [
    "data['NS_intake']=np.where((data['Sex upon Intake'].str.contains('Neutered'))\n",
    "                          |(data['Sex upon Intake'].str.contains('Spayed')), 1,0) #create boolean infertility on intake\n",
    "data['Gender']=data['Sex upon Intake'].str.split(' ').str[-1] #new feature\n",
    "\n",
    "print(data.NS_intake.value_counts())\n",
    "print(data.Gender.value_counts())"
   ]
  },
  {
   "cell_type": "code",
   "execution_count": 34,
   "metadata": {},
   "outputs": [
    {
     "data": {
      "text/plain": [
       "Neutered Male    30233\n",
       "Spayed Female    28123\n",
       "Intact Female    13686\n",
       "Intact Male      13614\n",
       "Unknown           9723\n",
       "Name: Sex upon Outcome, dtype: int64"
      ]
     },
     "execution_count": 34,
     "metadata": {},
     "output_type": "execute_result"
    }
   ],
   "source": [
    "data['Sex upon Outcome'].value_counts()"
   ]
  },
  {
   "cell_type": "code",
   "execution_count": 35,
   "metadata": {},
   "outputs": [
    {
     "name": "stderr",
     "output_type": "stream",
     "text": [
      "<ipython-input-35-cd7c77a7f7c6>:1: SettingWithCopyWarning: \n",
      "A value is trying to be set on a copy of a slice from a DataFrame.\n",
      "Try using .loc[row_indexer,col_indexer] = value instead\n",
      "\n",
      "See the caveats in the documentation: https://pandas.pydata.org/pandas-docs/stable/user_guide/indexing.html#returning-a-view-versus-a-copy\n",
      "  data['NS_clinic']=np.where((data.NS_intake==0)&((data['Sex upon Outcome'].str.contains('Neutered'))\n"
     ]
    },
    {
     "data": {
      "text/plain": [
       "0    56898\n",
       "1    38481\n",
       "Name: NS_clinic, dtype: int64"
      ]
     },
     "execution_count": 35,
     "metadata": {},
     "output_type": "execute_result"
    }
   ],
   "source": [
    "data['NS_clinic']=np.where((data.NS_intake==0)&((data['Sex upon Outcome'].str.contains('Neutered'))\n",
    "                          |(data['Sex upon Outcome'].str.contains('Spayed'))),1,0) #new feature\n",
    "data['NS_clinic'].value_counts()"
   ]
  },
  {
   "cell_type": "code",
   "execution_count": 36,
   "metadata": {},
   "outputs": [
    {
     "data": {
      "text/plain": [
       "0                 7920 Old Lockhart in Travis (TX)\n",
       "1                    5006 Table Top in Austin (TX)\n",
       "2                  14100 Thermal Dr in Austin (TX)\n",
       "3                 5811 Cedardale Dr in Austin (TX)\n",
       "4        Highway 290 And Arterial A in Austin (TX)\n",
       "                           ...                    \n",
       "95379     Mc Callen Pass And Parmer in Austin (TX)\n",
       "95380           18706 Blake Manor Rd in Manor (TX)\n",
       "95381          1701 Congress Avenue in Austin (TX)\n",
       "95382                   5017 W. 290 in Austin (TX)\n",
       "95383                                  Austin (TX)\n",
       "Name: Found Location, Length: 95379, dtype: object"
      ]
     },
     "execution_count": 36,
     "metadata": {},
     "output_type": "execute_result"
    }
   ],
   "source": [
    "data['Found Location']"
   ]
  },
  {
   "cell_type": "markdown",
   "metadata": {},
   "source": [
    "We could input these into map api and get longitude and latitudinal data, or zip code and regionalize info.\n",
    "\n",
    "We will just extract second last element in string (city)"
   ]
  },
  {
   "cell_type": "code",
   "execution_count": 37,
   "metadata": {},
   "outputs": [
    {
     "name": "stderr",
     "output_type": "stream",
     "text": [
      "<ipython-input-37-96ecfce2efe6>:1: SettingWithCopyWarning: \n",
      "A value is trying to be set on a copy of a slice from a DataFrame.\n",
      "Try using .loc[row_indexer,col_indexer] = value instead\n",
      "\n",
      "See the caveats in the documentation: https://pandas.pydata.org/pandas-docs/stable/user_guide/indexing.html#returning-a-view-versus-a-copy\n",
      "  data['City']=data['Found Location'].str.split(' ').str[-2]\n"
     ]
    },
    {
     "data": {
      "text/plain": [
       "Austin          79474\n",
       "Travis           8442\n",
       "Manor            2069\n",
       "Valle            1979\n",
       "Pflugerville     1547\n",
       "Outside           605\n",
       "Leander           245\n",
       "Vista             166\n",
       "Lakeway           129\n",
       "Creedmoor         121\n",
       "Park              113\n",
       "Jonestown          92\n",
       "Ridge              72\n",
       "Webberville        55\n",
       "Bastrop            53\n",
       "Hays               45\n",
       "Rock               41\n",
       "Cave               41\n",
       "Williamson         27\n",
       "Hills              20\n",
       "Valley             14\n",
       "Venture            12\n",
       "Caldwell            5\n",
       "Rollingwood         5\n",
       "Burnet              3\n",
       "Hill                1\n",
       "Leanna              1\n",
       "Blanco              1\n",
       "Name: City, dtype: int64"
      ]
     },
     "execution_count": 37,
     "metadata": {},
     "output_type": "execute_result"
    }
   ],
   "source": [
    "data['City']=data['Found Location'].str.split(' ').str[-2]\n",
    "data.City.value_counts()"
   ]
  },
  {
   "cell_type": "code",
   "execution_count": 38,
   "metadata": {},
   "outputs": [
    {
     "name": "stderr",
     "output_type": "stream",
     "text": [
      "<ipython-input-2-da11fa3d6af4>:3: SettingWithCopyWarning: \n",
      "A value is trying to be set on a copy of a slice from a DataFrame.\n",
      "Try using .loc[row_indexer,col_indexer] = value instead\n",
      "\n",
      "See the caveats in the documentation: https://pandas.pydata.org/pandas-docs/stable/user_guide/indexing.html#returning-a-view-versus-a-copy\n",
      "  df[col]=np.where(df[col].isin(more_removal),replace_val,df[col])\n"
     ]
    },
    {
     "data": {
      "text/plain": [
       "Austin          79474\n",
       "Travis           8442\n",
       "Manor            2069\n",
       "Valle            1979\n",
       "Other City       1867\n",
       "Pflugerville     1547\n",
       "Name: City, dtype: int64"
      ]
     },
     "execution_count": 38,
     "metadata": {},
     "output_type": "execute_result"
    }
   ],
   "source": [
    "bin_small(data,'City','Other City',threshold=1000)\n",
    "data.City.value_counts() #new feature"
   ]
  },
  {
   "cell_type": "code",
   "execution_count": 39,
   "metadata": {},
   "outputs": [
    {
     "name": "stderr",
     "output_type": "stream",
     "text": [
      "<ipython-input-39-fed8aa445911>:1: SettingWithCopyWarning: \n",
      "A value is trying to be set on a copy of a slice from a DataFrame.\n",
      "Try using .loc[row_indexer,col_indexer] = value instead\n",
      "\n",
      "See the caveats in the documentation: https://pandas.pydata.org/pandas-docs/stable/user_guide/indexing.html#returning-a-view-versus-a-copy\n",
      "  data['FirstLetterName']=np.where(data.Name!='Unknown',data.Name.str[0],'Unknown')\n",
      "<ipython-input-39-fed8aa445911>:2: SettingWithCopyWarning: \n",
      "A value is trying to be set on a copy of a slice from a DataFrame.\n",
      "Try using .loc[row_indexer,col_indexer] = value instead\n",
      "\n",
      "See the caveats in the documentation: https://pandas.pydata.org/pandas-docs/stable/user_guide/indexing.html#returning-a-view-versus-a-copy\n",
      "  data['FirstLetterName']=np.where(data.FirstLetterName.str.isalpha(),data.FirstLetterName,'ID')\n",
      "<ipython-input-39-fed8aa445911>:3: SettingWithCopyWarning: \n",
      "A value is trying to be set on a copy of a slice from a DataFrame.\n",
      "Try using .loc[row_indexer,col_indexer] = value instead\n",
      "\n",
      "See the caveats in the documentation: https://pandas.pydata.org/pandas-docs/stable/user_guide/indexing.html#returning-a-view-versus-a-copy\n",
      "  data['FirstLetterName']=data.FirstLetterName.replace(to_replace={'É':'E'})\n",
      "C:\\Users\\notal\\anaconda3\\lib\\site-packages\\pandas\\core\\series.py:4463: SettingWithCopyWarning: \n",
      "A value is trying to be set on a copy of a slice from a DataFrame\n",
      "\n",
      "See the caveats in the documentation: https://pandas.pydata.org/pandas-docs/stable/user_guide/indexing.html#returning-a-view-versus-a-copy\n",
      "  return super().fillna(\n"
     ]
    },
    {
     "data": {
      "text/plain": [
       "Unknown    36306\n",
       "B           5783\n",
       "S           5708\n",
       "M           5353\n",
       "C           5294\n",
       "L           3903\n",
       "P           3902\n",
       "R           3294\n",
       "T           3050\n",
       "D           2705\n",
       "J           2619\n",
       "A           2586\n",
       "G           2025\n",
       "H           1895\n",
       "F           1670\n",
       "K           1617\n",
       "E           1333\n",
       "N           1301\n",
       "O           1272\n",
       "W           1132\n",
       "Z            788\n",
       "I            467\n",
       "V            460\n",
       "ID           354\n",
       "Y            201\n",
       "Q            165\n",
       "X            114\n",
       "U             82\n",
       "Name: FirstLetterName, dtype: int64"
      ]
     },
     "execution_count": 39,
     "metadata": {},
     "output_type": "execute_result"
    }
   ],
   "source": [
    "data['FirstLetterName']=np.where(data.Name!='Unknown',data.Name.str[0],'Unknown')\n",
    "data['FirstLetterName']=np.where(data.FirstLetterName.str.isalpha(),data.FirstLetterName,'ID')\n",
    "data['FirstLetterName']=data.FirstLetterName.replace(to_replace={'É':'E'})\n",
    "data['FirstLetterName'].fillna('Unknown',inplace=True)\n",
    "data['FirstLetterName'].value_counts() #new feature"
   ]
  },
  {
   "cell_type": "code",
   "execution_count": 40,
   "metadata": {},
   "outputs": [
    {
     "name": "stderr",
     "output_type": "stream",
     "text": [
      "<ipython-input-40-9586a5da62f6>:1: SettingWithCopyWarning: \n",
      "A value is trying to be set on a copy of a slice from a DataFrame.\n",
      "Try using .loc[row_indexer,col_indexer] = value instead\n",
      "\n",
      "See the caveats in the documentation: https://pandas.pydata.org/pandas-docs/stable/user_guide/indexing.html#returning-a-view-versus-a-copy\n",
      "  data['NameLength']=data['Name'].map(lambda x: len(x))\n"
     ]
    },
    {
     "data": {
      "text/plain": [
       "7     43083\n",
       "5     16785\n",
       "6     12925\n",
       "4     11854\n",
       "8      3330\n",
       "3      2983\n",
       "9      1848\n",
       "10      976\n",
       "11      651\n",
       "12      390\n",
       "2       344\n",
       "1        76\n",
       "13       42\n",
       "14       28\n",
       "15       24\n",
       "16       10\n",
       "17        9\n",
       "20        8\n",
       "18        6\n",
       "21        3\n",
       "0         2\n",
       "19        1\n",
       "23        1\n",
       "Name: NameLength, dtype: int64"
      ]
     },
     "execution_count": 40,
     "metadata": {},
     "output_type": "execute_result"
    }
   ],
   "source": [
    "data['NameLength']=data['Name'].map(lambda x: len(x))\n",
    "data['NameLength'].value_counts()"
   ]
  },
  {
   "cell_type": "code",
   "execution_count": 41,
   "metadata": {},
   "outputs": [
    {
     "name": "stderr",
     "output_type": "stream",
     "text": [
      "<ipython-input-41-3a5df900504a>:14: SettingWithCopyWarning: \n",
      "A value is trying to be set on a copy of a slice from a DataFrame.\n",
      "Try using .loc[row_indexer,col_indexer] = value instead\n",
      "\n",
      "See the caveats in the documentation: https://pandas.pydata.org/pandas-docs/stable/user_guide/indexing.html#returning-a-view-versus-a-copy\n",
      "  data['NameLengthBin']=nl #new feature\n"
     ]
    },
    {
     "data": {
      "text/plain": [
       "med        48343\n",
       "Unknown    36306\n",
       "long        7327\n",
       "short       3403\n",
       "Name: NameLengthBin, dtype: int64"
      ]
     },
     "execution_count": 41,
     "metadata": {},
     "output_type": "execute_result"
    }
   ],
   "source": [
    "nl = []\n",
    "for i in data.iterrows():\n",
    "    if i[1].Name=='Unknown':\n",
    "        nl.append('Unknown')\n",
    "    else:\n",
    "        if i[1].NameLength==0:\n",
    "            nl.append('Unknown')\n",
    "        elif (i[1].NameLength>=1)&(i[1].NameLength<4):\n",
    "            nl.append('short')\n",
    "        elif (i[1].NameLength>=1)&(i[1].NameLength<8):\n",
    "            nl.append('med')\n",
    "        else:\n",
    "            nl.append('long')\n",
    "data['NameLengthBin']=nl #new feature\n",
    "data['NameLengthBin'].value_counts()"
   ]
  },
  {
   "cell_type": "markdown",
   "metadata": {},
   "source": [
    "After adding 5 new features, let's remove depreciated columns again and move on to EDA and see if any of these additional features and original features hold any value"
   ]
  },
  {
   "cell_type": "code",
   "execution_count": 42,
   "metadata": {},
   "outputs": [
    {
     "name": "stderr",
     "output_type": "stream",
     "text": [
      "<ipython-input-2-da11fa3d6af4>:3: SettingWithCopyWarning: \n",
      "A value is trying to be set on a copy of a slice from a DataFrame.\n",
      "Try using .loc[row_indexer,col_indexer] = value instead\n",
      "\n",
      "See the caveats in the documentation: https://pandas.pydata.org/pandas-docs/stable/user_guide/indexing.html#returning-a-view-versus-a-copy\n",
      "  df[col]=np.where(df[col].isin(more_removal),replace_val,df[col])\n"
     ]
    }
   ],
   "source": [
    "#additional cleaning\n",
    "bin_small(data,'Outcome Type','Other Outcome',threshold=2000)\n",
    "bin_small(data,'Intake Condition','Other')\n",
    "data['City'].fillna('Other City',inplace=True)"
   ]
  },
  {
   "cell_type": "code",
   "execution_count": 43,
   "metadata": {},
   "outputs": [],
   "source": [
    "cat=['Outcome Type', 'Intake Type', 'Intake Condition',\n",
    "'Pet Type', 'MixBreed','MixColor',  'NS_intake', 'NS_clinic',\n",
    "'City', 'Gender', 'FirstLetterName', 'NameLengthBin',]\n",
    "data=pd.get_dummies(data,drop_first=True,columns=cat) #one hot encode categorical variables\n",
    "# data.drop(cat,axis=1,inplace=True)\n"
   ]
  },
  {
   "cell_type": "code",
   "execution_count": 44,
   "metadata": {},
   "outputs": [
    {
     "data": {
      "text/plain": [
       "array(['Pet ID', 'Sex upon Outcome', 'Name', 'Found Location',\n",
       "       'Sex upon Intake', 'Breed', 'Color', 'Age upon Intake Days',\n",
       "       'Time at Center', 'Breed_new', 'Breed_shorthair', 'Breed_domestic',\n",
       "       'Breed_retriever', 'Breed_labrador', 'Breed_chihuahua',\n",
       "       'Breed_bull', 'Breed_pit', 'Breed_terrier', 'Breed_shepherd',\n",
       "       'Breed_german', 'Breed_hair', 'Breed_medium', 'Breed_australian',\n",
       "       'Breed_bat', 'Breed_longhair', 'Breed_miniature',\n",
       "       'Breed_dachshund', 'Breed_dog', 'Breed_cattle', 'Breed_poodle',\n",
       "       'Breed_border', 'Breed_collie', 'Breed_siamese', 'Breed_american',\n",
       "       'Breed_boxer', 'Breed_great', 'Breed_husky', 'Breed_hound',\n",
       "       'Breed_beagle', 'Breed_raccoon', 'Color_new', 'Color_white',\n",
       "       'Color_black', 'Color_brown', 'Color_tabby', 'Color_tan',\n",
       "       'Color_blue', 'Color_orange', 'Color_gray', 'Color_red',\n",
       "       'Color_tricolor', 'Color_brindle', 'Color_cream', 'Color_tortie',\n",
       "       'Color_calico', 'Color_point', 'Color_chocolate', 'Color_torbie',\n",
       "       'Color_merle', 'Color_yellow', 'Color_sable', 'NameLength',\n",
       "       'Outcome Type_Euthanasia', 'Outcome Type_Other Outcome',\n",
       "       'Outcome Type_Return to Owner', 'Outcome Type_Transfer',\n",
       "       'Intake Type_Euthanasia Request', 'Intake Type_Owner Surrender',\n",
       "       'Intake Type_Public Assist', 'Intake Type_Stray',\n",
       "       'Intake Type_Wildlife', 'Intake Condition_Injured',\n",
       "       'Intake Condition_Normal', 'Intake Condition_Nursing',\n",
       "       'Intake Condition_Other', 'Intake Condition_Sick', 'Pet Type_Cat',\n",
       "       'Pet Type_Dog', 'Pet Type_Other', 'MixBreed_Not', 'MixColor_Not',\n",
       "       'NS_intake_1', 'NS_clinic_1', 'City_Manor', 'City_Other City',\n",
       "       'City_Pflugerville', 'City_Travis', 'City_Valle', 'Gender_Male',\n",
       "       'Gender_Unknown', 'FirstLetterName_B', 'FirstLetterName_C',\n",
       "       'FirstLetterName_D', 'FirstLetterName_E', 'FirstLetterName_F',\n",
       "       'FirstLetterName_G', 'FirstLetterName_H', 'FirstLetterName_I',\n",
       "       'FirstLetterName_ID', 'FirstLetterName_J', 'FirstLetterName_K',\n",
       "       'FirstLetterName_L', 'FirstLetterName_M', 'FirstLetterName_N',\n",
       "       'FirstLetterName_O', 'FirstLetterName_P', 'FirstLetterName_Q',\n",
       "       'FirstLetterName_R', 'FirstLetterName_S', 'FirstLetterName_T',\n",
       "       'FirstLetterName_U', 'FirstLetterName_Unknown',\n",
       "       'FirstLetterName_V', 'FirstLetterName_W', 'FirstLetterName_X',\n",
       "       'FirstLetterName_Y', 'FirstLetterName_Z', 'NameLengthBin_long',\n",
       "       'NameLengthBin_med', 'NameLengthBin_short'], dtype=object)"
      ]
     },
     "execution_count": 44,
     "metadata": {},
     "output_type": "execute_result"
    }
   ],
   "source": [
    "data.columns.values"
   ]
  },
  {
   "cell_type": "code",
   "execution_count": 45,
   "metadata": {},
   "outputs": [],
   "source": [
    "data.drop(['Sex upon Outcome', 'Name', 'Found Location',\n",
    "       'Sex upon Intake', 'Breed', 'Color', 'Age upon Intake Days','Breed_new','Color_new',],axis=1,inplace=True)\n",
    "data.to_csv(r'..\\data\\feature3.csv',index=False)\n"
   ]
  },
  {
   "cell_type": "markdown",
   "metadata": {},
   "source": [
    "# END\n",
    "\n",
    "[*Back to top*](#top)"
   ]
  },
  {
   "cell_type": "code",
   "execution_count": null,
   "metadata": {},
   "outputs": [],
   "source": []
  }
 ],
 "metadata": {
  "kernelspec": {
   "display_name": "Python 3",
   "language": "python",
   "name": "python3"
  },
  "language_info": {
   "codemirror_mode": {
    "name": "ipython",
    "version": 3
   },
   "file_extension": ".py",
   "mimetype": "text/x-python",
   "name": "python",
   "nbconvert_exporter": "python",
   "pygments_lexer": "ipython3",
   "version": "3.8.8"
  }
 },
 "nbformat": 4,
 "nbformat_minor": 4
}
