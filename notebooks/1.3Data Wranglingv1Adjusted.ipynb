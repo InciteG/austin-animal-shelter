{
 "cells": [
  {
   "cell_type": "code",
   "execution_count": 1,
   "metadata": {},
   "outputs": [
    {
     "name": "stderr",
     "output_type": "stream",
     "text": [
      "[nltk_data] Downloading package punkt to\n",
      "[nltk_data]     C:\\Users\\notal\\AppData\\Roaming\\nltk_data...\n",
      "[nltk_data]   Package punkt is already up-to-date!\n"
     ]
    },
    {
     "data": {
      "text/plain": [
       "16"
      ]
     },
     "execution_count": 1,
     "metadata": {},
     "output_type": "execute_result"
    }
   ],
   "source": [
    "#data manipulation\n",
    "import numpy as np\n",
    "import pandas as pd\n",
    "pd.option_context('display.max_rows', None, 'display.max_columns', None)\n",
    "import nltk\n",
    "from nltk.tokenize import word_tokenize\n",
    "\n",
    "#stats/ml\n",
    "import scipy\n",
    "import sklearn as sk\n",
    "from scipy.stats import ttest_1samp\n",
    "from scipy.stats import boxcox\n",
    "from scipy.stats import chisquare\n",
    "from sklearn.preprocessing import OneHotEncoder\n",
    "#vis\n",
    "import seaborn as sns\n",
    "import matplotlib.pyplot as plt\n",
    "plt.style.use('seaborn')\n",
    "\n",
    "#additional support packages\n",
    "from datetime import date, datetime, timedelta\n",
    "import random\n",
    "import re\n",
    "import os\n",
    "nltk.download('punkt')\n",
    "os.cpu_count()"
   ]
  },
  {
   "cell_type": "code",
   "execution_count": null,
   "metadata": {},
   "outputs": [],
   "source": []
  },
  {
   "cell_type": "code",
   "execution_count": 2,
   "metadata": {},
   "outputs": [],
   "source": [
    "def bin_small(df,col,replace_val,threshold=100,**kwargs):\n",
    "    more_removal = [i for i,x in dict(df[col].value_counts()).items() if x<threshold]\n",
    "    df[col]=np.where(df[col].isin(more_removal),replace_val,df[col])"
   ]
  },
  {
   "cell_type": "markdown",
   "metadata": {},
   "source": [
    "<a id='top'></a>\n",
    "# Overview\n",
    "\n",
    "1. [Data Cleaning](#sec-1)\n",
    "- Nulls\n",
    "- Data inconsistencies\n",
    "    \n",
    "    \n",
    "2. [Feature Engineering](#sec-2)\n",
    "- 5 new features\n",
    "\n",
    "\n",
    "3. [Additional Exploratory Data Analysis (EDA)](#sec-3)\n",
    "- Univariate analysis of dependent variable\n",
    "- Exploring independent variables relationships with each other and dependent variable"
   ]
  },
  {
   "cell_type": "markdown",
   "metadata": {},
   "source": [
    "<a id='sec-1'></a>\n",
    "## 1. Data Cleaning"
   ]
  },
  {
   "cell_type": "code",
   "execution_count": 3,
   "metadata": {},
   "outputs": [
    {
     "data": {
      "text/html": [
       "<div>\n",
       "<style scoped>\n",
       "    .dataframe tbody tr th:only-of-type {\n",
       "        vertical-align: middle;\n",
       "    }\n",
       "\n",
       "    .dataframe tbody tr th {\n",
       "        vertical-align: top;\n",
       "    }\n",
       "\n",
       "    .dataframe thead th {\n",
       "        text-align: right;\n",
       "    }\n",
       "</style>\n",
       "<table border=\"1\" class=\"dataframe\">\n",
       "  <thead>\n",
       "    <tr style=\"text-align: right;\">\n",
       "      <th></th>\n",
       "      <th>Pet ID</th>\n",
       "      <th>Outcome Type</th>\n",
       "      <th>Sex upon Outcome</th>\n",
       "      <th>Name</th>\n",
       "      <th>Found Location</th>\n",
       "      <th>Intake Type</th>\n",
       "      <th>Intake Condition</th>\n",
       "      <th>Pet Type</th>\n",
       "      <th>Sex upon Intake</th>\n",
       "      <th>Breed</th>\n",
       "      <th>Color</th>\n",
       "      <th>Age upon Intake Days</th>\n",
       "      <th>Time at Center</th>\n",
       "    </tr>\n",
       "  </thead>\n",
       "  <tbody>\n",
       "    <tr>\n",
       "      <th>0</th>\n",
       "      <td>A745079</td>\n",
       "      <td>Transfer</td>\n",
       "      <td>Unknown</td>\n",
       "      <td>NaN</td>\n",
       "      <td>7920 Old Lockhart in Travis (TX)</td>\n",
       "      <td>Stray</td>\n",
       "      <td>Normal</td>\n",
       "      <td>Cat</td>\n",
       "      <td>Unknown</td>\n",
       "      <td>Domestic Shorthair Mix</td>\n",
       "      <td>Blue</td>\n",
       "      <td>3</td>\n",
       "      <td>0</td>\n",
       "    </tr>\n",
       "    <tr>\n",
       "      <th>1</th>\n",
       "      <td>A801765</td>\n",
       "      <td>Transfer</td>\n",
       "      <td>Intact Female</td>\n",
       "      <td>NaN</td>\n",
       "      <td>5006 Table Top in Austin (TX)</td>\n",
       "      <td>Stray</td>\n",
       "      <td>Normal</td>\n",
       "      <td>Cat</td>\n",
       "      <td>Intact Female</td>\n",
       "      <td>Domestic Shorthair</td>\n",
       "      <td>Brown Tabby/White</td>\n",
       "      <td>28</td>\n",
       "      <td>0</td>\n",
       "    </tr>\n",
       "    <tr>\n",
       "      <th>2</th>\n",
       "      <td>A667965</td>\n",
       "      <td>Transfer</td>\n",
       "      <td>Neutered Male</td>\n",
       "      <td>NaN</td>\n",
       "      <td>14100 Thermal Dr in Austin (TX)</td>\n",
       "      <td>Stray</td>\n",
       "      <td>Normal</td>\n",
       "      <td>Dog</td>\n",
       "      <td>Neutered Male</td>\n",
       "      <td>Chihuahua Shorthair Mix</td>\n",
       "      <td>Brown/Tan</td>\n",
       "      <td>1825</td>\n",
       "      <td>0</td>\n",
       "    </tr>\n",
       "    <tr>\n",
       "      <th>3</th>\n",
       "      <td>A687551</td>\n",
       "      <td>Transfer</td>\n",
       "      <td>Intact Male</td>\n",
       "      <td>NaN</td>\n",
       "      <td>5811 Cedardale Dr in Austin (TX)</td>\n",
       "      <td>Stray</td>\n",
       "      <td>Normal</td>\n",
       "      <td>Cat</td>\n",
       "      <td>Intact Male</td>\n",
       "      <td>Domestic Shorthair Mix</td>\n",
       "      <td>Brown Tabby</td>\n",
       "      <td>28</td>\n",
       "      <td>0</td>\n",
       "    </tr>\n",
       "    <tr>\n",
       "      <th>4</th>\n",
       "      <td>A773004</td>\n",
       "      <td>Adoption</td>\n",
       "      <td>Neutered Male</td>\n",
       "      <td>*Boris</td>\n",
       "      <td>Highway 290 And Arterial A in Austin (TX)</td>\n",
       "      <td>Stray</td>\n",
       "      <td>Normal</td>\n",
       "      <td>Dog</td>\n",
       "      <td>Intact Male</td>\n",
       "      <td>Chihuahua Shorthair Mix</td>\n",
       "      <td>Tricolor/Cream</td>\n",
       "      <td>365</td>\n",
       "      <td>0</td>\n",
       "    </tr>\n",
       "    <tr>\n",
       "      <th>...</th>\n",
       "      <td>...</td>\n",
       "      <td>...</td>\n",
       "      <td>...</td>\n",
       "      <td>...</td>\n",
       "      <td>...</td>\n",
       "      <td>...</td>\n",
       "      <td>...</td>\n",
       "      <td>...</td>\n",
       "      <td>...</td>\n",
       "      <td>...</td>\n",
       "      <td>...</td>\n",
       "      <td>...</td>\n",
       "      <td>...</td>\n",
       "    </tr>\n",
       "    <tr>\n",
       "      <th>95379</th>\n",
       "      <td>A706720</td>\n",
       "      <td>Adoption</td>\n",
       "      <td>Neutered Male</td>\n",
       "      <td>Nikko</td>\n",
       "      <td>Mc Callen Pass And Parmer in Austin (TX)</td>\n",
       "      <td>Stray</td>\n",
       "      <td>Normal</td>\n",
       "      <td>Dog</td>\n",
       "      <td>Neutered Male</td>\n",
       "      <td>Miniature Schnauzer Mix</td>\n",
       "      <td>Tan/Gray</td>\n",
       "      <td>1460</td>\n",
       "      <td>0</td>\n",
       "    </tr>\n",
       "    <tr>\n",
       "      <th>95380</th>\n",
       "      <td>A782751</td>\n",
       "      <td>Adoption</td>\n",
       "      <td>Neutered Male</td>\n",
       "      <td>NaN</td>\n",
       "      <td>18706 Blake Manor Rd in Manor (TX)</td>\n",
       "      <td>Stray</td>\n",
       "      <td>Normal</td>\n",
       "      <td>Dog</td>\n",
       "      <td>Intact Male</td>\n",
       "      <td>American Pit Bull Terrier Mix</td>\n",
       "      <td>Brown</td>\n",
       "      <td>60</td>\n",
       "      <td>0</td>\n",
       "    </tr>\n",
       "    <tr>\n",
       "      <th>95381</th>\n",
       "      <td>A768058</td>\n",
       "      <td>Euthanasia</td>\n",
       "      <td>Unknown</td>\n",
       "      <td>NaN</td>\n",
       "      <td>1701 Congress Avenue in Austin (TX)</td>\n",
       "      <td>Wildlife</td>\n",
       "      <td>Normal</td>\n",
       "      <td>Other</td>\n",
       "      <td>Unknown</td>\n",
       "      <td>Bat Mix</td>\n",
       "      <td>Black/Black</td>\n",
       "      <td>730</td>\n",
       "      <td>0</td>\n",
       "    </tr>\n",
       "    <tr>\n",
       "      <th>95382</th>\n",
       "      <td>A729326</td>\n",
       "      <td>Adoption</td>\n",
       "      <td>Neutered Male</td>\n",
       "      <td>*Jester</td>\n",
       "      <td>5017 W. 290 in Austin (TX)</td>\n",
       "      <td>Stray</td>\n",
       "      <td>Normal</td>\n",
       "      <td>Dog</td>\n",
       "      <td>Intact Male</td>\n",
       "      <td>Pointer Mix</td>\n",
       "      <td>Black/White</td>\n",
       "      <td>730</td>\n",
       "      <td>0</td>\n",
       "    </tr>\n",
       "    <tr>\n",
       "      <th>95383</th>\n",
       "      <td>A738658</td>\n",
       "      <td>Adoption</td>\n",
       "      <td>Neutered Male</td>\n",
       "      <td>Nero</td>\n",
       "      <td>Austin (TX)</td>\n",
       "      <td>Owner Surrender</td>\n",
       "      <td>Normal</td>\n",
       "      <td>Dog</td>\n",
       "      <td>Intact Male</td>\n",
       "      <td>Pit Bull Mix</td>\n",
       "      <td>Black/White</td>\n",
       "      <td>730</td>\n",
       "      <td>0</td>\n",
       "    </tr>\n",
       "  </tbody>\n",
       "</table>\n",
       "<p>95384 rows × 13 columns</p>\n",
       "</div>"
      ],
      "text/plain": [
       "        Pet ID Outcome Type Sex upon Outcome     Name  \\\n",
       "0      A745079     Transfer          Unknown      NaN   \n",
       "1      A801765     Transfer    Intact Female      NaN   \n",
       "2      A667965     Transfer    Neutered Male      NaN   \n",
       "3      A687551     Transfer      Intact Male      NaN   \n",
       "4      A773004     Adoption    Neutered Male   *Boris   \n",
       "...        ...          ...              ...      ...   \n",
       "95379  A706720     Adoption    Neutered Male    Nikko   \n",
       "95380  A782751     Adoption    Neutered Male      NaN   \n",
       "95381  A768058   Euthanasia          Unknown      NaN   \n",
       "95382  A729326     Adoption    Neutered Male  *Jester   \n",
       "95383  A738658     Adoption    Neutered Male     Nero   \n",
       "\n",
       "                                  Found Location      Intake Type  \\\n",
       "0               7920 Old Lockhart in Travis (TX)            Stray   \n",
       "1                  5006 Table Top in Austin (TX)            Stray   \n",
       "2                14100 Thermal Dr in Austin (TX)            Stray   \n",
       "3               5811 Cedardale Dr in Austin (TX)            Stray   \n",
       "4      Highway 290 And Arterial A in Austin (TX)            Stray   \n",
       "...                                          ...              ...   \n",
       "95379   Mc Callen Pass And Parmer in Austin (TX)            Stray   \n",
       "95380         18706 Blake Manor Rd in Manor (TX)            Stray   \n",
       "95381        1701 Congress Avenue in Austin (TX)         Wildlife   \n",
       "95382                 5017 W. 290 in Austin (TX)            Stray   \n",
       "95383                                Austin (TX)  Owner Surrender   \n",
       "\n",
       "      Intake Condition Pet Type Sex upon Intake  \\\n",
       "0               Normal      Cat         Unknown   \n",
       "1               Normal      Cat   Intact Female   \n",
       "2               Normal      Dog   Neutered Male   \n",
       "3               Normal      Cat     Intact Male   \n",
       "4               Normal      Dog     Intact Male   \n",
       "...                ...      ...             ...   \n",
       "95379           Normal      Dog   Neutered Male   \n",
       "95380           Normal      Dog     Intact Male   \n",
       "95381           Normal    Other         Unknown   \n",
       "95382           Normal      Dog     Intact Male   \n",
       "95383           Normal      Dog     Intact Male   \n",
       "\n",
       "                               Breed              Color  Age upon Intake Days  \\\n",
       "0             Domestic Shorthair Mix               Blue                     3   \n",
       "1                 Domestic Shorthair  Brown Tabby/White                    28   \n",
       "2            Chihuahua Shorthair Mix          Brown/Tan                  1825   \n",
       "3             Domestic Shorthair Mix        Brown Tabby                    28   \n",
       "4            Chihuahua Shorthair Mix     Tricolor/Cream                   365   \n",
       "...                              ...                ...                   ...   \n",
       "95379        Miniature Schnauzer Mix           Tan/Gray                  1460   \n",
       "95380  American Pit Bull Terrier Mix              Brown                    60   \n",
       "95381                        Bat Mix        Black/Black                   730   \n",
       "95382                    Pointer Mix        Black/White                   730   \n",
       "95383                   Pit Bull Mix        Black/White                   730   \n",
       "\n",
       "       Time at Center  \n",
       "0                   0  \n",
       "1                   0  \n",
       "2                   0  \n",
       "3                   0  \n",
       "4                   0  \n",
       "...               ...  \n",
       "95379               0  \n",
       "95380               0  \n",
       "95381               0  \n",
       "95382               0  \n",
       "95383               0  \n",
       "\n",
       "[95384 rows x 13 columns]"
      ]
     },
     "execution_count": 3,
     "metadata": {},
     "output_type": "execute_result"
    }
   ],
   "source": [
    "data = pd.read_csv(r'..\\data\\adopt.csv')\n",
    "legacy_data=data.copy()\n",
    "data"
   ]
  },
  {
   "cell_type": "code",
   "execution_count": 4,
   "metadata": {},
   "outputs": [
    {
     "data": {
      "text/plain": [
       "Adoption           39734\n",
       "Transfer           32299\n",
       "Return to Owner    13719\n",
       "Euthanasia          7630\n",
       "Died                1053\n",
       "Disposal             503\n",
       "Rto-Adopt            369\n",
       "Missing               52\n",
       "Relocate              20\n",
       "Name: Outcome Type, dtype: int64"
      ]
     },
     "execution_count": 4,
     "metadata": {},
     "output_type": "execute_result"
    }
   ],
   "source": [
    "data['Outcome Type'].value_counts()"
   ]
  },
  {
   "cell_type": "code",
   "execution_count": 5,
   "metadata": {},
   "outputs": [
    {
     "data": {
      "text/plain": [
       "0.0874045961586849"
      ]
     },
     "execution_count": 5,
     "metadata": {},
     "output_type": "execute_result"
    }
   ],
   "source": [
    "data['Time at Center'].value_counts()[1]/(data['Time at Center'].value_counts().sum())"
   ]
  },
  {
   "cell_type": "code",
   "execution_count": 6,
   "metadata": {},
   "outputs": [
    {
     "data": {
      "text/plain": [
       "0    87047\n",
       "1     8337\n",
       "Name: Time at Center, dtype: int64"
      ]
     },
     "execution_count": 6,
     "metadata": {},
     "output_type": "execute_result"
    }
   ],
   "source": [
    "data['Time at Center'].value_counts()"
   ]
  },
  {
   "cell_type": "code",
   "execution_count": 7,
   "metadata": {},
   "outputs": [
    {
     "name": "stdout",
     "output_type": "stream",
     "text": [
      "<class 'pandas.core.frame.DataFrame'>\n",
      "RangeIndex: 95384 entries, 0 to 95383\n",
      "Data columns (total 13 columns):\n",
      " #   Column                Non-Null Count  Dtype \n",
      "---  ------                --------------  ----- \n",
      " 0   Pet ID                95384 non-null  object\n",
      " 1   Outcome Type          95379 non-null  object\n",
      " 2   Sex upon Outcome      95383 non-null  object\n",
      " 3   Name                  59093 non-null  object\n",
      " 4   Found Location        95384 non-null  object\n",
      " 5   Intake Type           95384 non-null  object\n",
      " 6   Intake Condition      95384 non-null  object\n",
      " 7   Pet Type              95384 non-null  object\n",
      " 8   Sex upon Intake       95383 non-null  object\n",
      " 9   Breed                 95384 non-null  object\n",
      " 10  Color                 95384 non-null  object\n",
      " 11  Age upon Intake Days  95384 non-null  int64 \n",
      " 12  Time at Center        95384 non-null  int64 \n",
      "dtypes: int64(2), object(11)\n",
      "memory usage: 9.5+ MB\n"
     ]
    }
   ],
   "source": [
    "data.info()"
   ]
  },
  {
   "cell_type": "markdown",
   "metadata": {},
   "source": [
    "### KEY POINTS IDENTIFIED:\n",
    "    \n",
    "1. **Primary key - \"Pet ID\" column**\n",
    "    - We will check for uniqueness later\n",
    "\n",
    "\n",
    "1. **4 columns with inconsistent non-null counts**\n",
    "    - Name - 59093 count\n",
    "    - Outcome - 95379 count\n",
    "    - Sex upon Outcome - 95383 count\n",
    "    - Sex upon Intake - 95383 count\n",
    "    \n",
    "    \n",
    "3. **One integer, independent variable**\n",
    "    - Age (days), discrete values \n",
    "    \n",
    "    \n",
    "4. **10 objects, independent variables**\n",
    "    - Categorical\n",
    "    - *Note: \"Name\" weak as categorical. Given the high nulls and high uniqueness of names, it is likely we may have to drop name as a feature, will explore further*\n",
    "    \n",
    "    \n",
    "5. **Dependent variable: \"Time at Center\"**"
   ]
  },
  {
   "cell_type": "code",
   "execution_count": 8,
   "metadata": {},
   "outputs": [
    {
     "data": {
      "text/html": [
       "<div>\n",
       "<style scoped>\n",
       "    .dataframe tbody tr th:only-of-type {\n",
       "        vertical-align: middle;\n",
       "    }\n",
       "\n",
       "    .dataframe tbody tr th {\n",
       "        vertical-align: top;\n",
       "    }\n",
       "\n",
       "    .dataframe thead th {\n",
       "        text-align: right;\n",
       "    }\n",
       "</style>\n",
       "<table border=\"1\" class=\"dataframe\">\n",
       "  <thead>\n",
       "    <tr style=\"text-align: right;\">\n",
       "      <th></th>\n",
       "      <th>Age upon Intake Days</th>\n",
       "      <th>Time at Center</th>\n",
       "    </tr>\n",
       "  </thead>\n",
       "  <tbody>\n",
       "    <tr>\n",
       "      <th>count</th>\n",
       "      <td>95384.000000</td>\n",
       "      <td>95384.000000</td>\n",
       "    </tr>\n",
       "    <tr>\n",
       "      <th>mean</th>\n",
       "      <td>704.154691</td>\n",
       "      <td>0.087405</td>\n",
       "    </tr>\n",
       "    <tr>\n",
       "      <th>std</th>\n",
       "      <td>1052.579518</td>\n",
       "      <td>0.282429</td>\n",
       "    </tr>\n",
       "    <tr>\n",
       "      <th>min</th>\n",
       "      <td>0.000000</td>\n",
       "      <td>0.000000</td>\n",
       "    </tr>\n",
       "    <tr>\n",
       "      <th>25%</th>\n",
       "      <td>30.000000</td>\n",
       "      <td>0.000000</td>\n",
       "    </tr>\n",
       "    <tr>\n",
       "      <th>50%</th>\n",
       "      <td>365.000000</td>\n",
       "      <td>0.000000</td>\n",
       "    </tr>\n",
       "    <tr>\n",
       "      <th>75%</th>\n",
       "      <td>730.000000</td>\n",
       "      <td>0.000000</td>\n",
       "    </tr>\n",
       "    <tr>\n",
       "      <th>max</th>\n",
       "      <td>9125.000000</td>\n",
       "      <td>1.000000</td>\n",
       "    </tr>\n",
       "  </tbody>\n",
       "</table>\n",
       "</div>"
      ],
      "text/plain": [
       "       Age upon Intake Days  Time at Center\n",
       "count          95384.000000    95384.000000\n",
       "mean             704.154691        0.087405\n",
       "std             1052.579518        0.282429\n",
       "min                0.000000        0.000000\n",
       "25%               30.000000        0.000000\n",
       "50%              365.000000        0.000000\n",
       "75%              730.000000        0.000000\n",
       "max             9125.000000        1.000000"
      ]
     },
     "execution_count": 8,
     "metadata": {},
     "output_type": "execute_result"
    }
   ],
   "source": [
    "data.describe()"
   ]
  },
  {
   "cell_type": "markdown",
   "metadata": {},
   "source": [
    "\"Time at Center\" can be ignored because it is a boolean masked as an integer column. \n",
    "\n",
    "\"Age upon Intake Days\" the standard deviation is larger than the mean value. This suggests there are some large outliers on the upper bound. We will investigate what steps need to be taken for this column in the section 3 of this notebook"
   ]
  },
  {
   "cell_type": "markdown",
   "metadata": {},
   "source": [
    "### Checking Primary Key column"
   ]
  },
  {
   "cell_type": "code",
   "execution_count": 9,
   "metadata": {},
   "outputs": [
    {
     "data": {
      "text/plain": [
       "1"
      ]
     },
     "execution_count": 9,
     "metadata": {},
     "output_type": "execute_result"
    }
   ],
   "source": [
    "data['Pet ID'].value_counts().max()"
   ]
  },
  {
   "cell_type": "markdown",
   "metadata": {},
   "source": [
    "\"Pet ID\" column is indeed unique. Let's make sure all columns contain the same data type"
   ]
  },
  {
   "cell_type": "markdown",
   "metadata": {},
   "source": [
    "### Checking for mixed data type columns"
   ]
  },
  {
   "cell_type": "code",
   "execution_count": 10,
   "metadata": {},
   "outputs": [
    {
     "name": "stdout",
     "output_type": "stream",
     "text": [
      "<class 'str'>      95379\n",
      "<class 'float'>        5\n",
      "Name: Outcome Type, dtype: int64\n",
      "\n",
      "<class 'str'>      95383\n",
      "<class 'float'>        1\n",
      "Name: Sex upon Outcome, dtype: int64\n",
      "\n",
      "<class 'str'>      59093\n",
      "<class 'float'>    36291\n",
      "Name: Name, dtype: int64\n",
      "\n",
      "<class 'str'>      95383\n",
      "<class 'float'>        1\n",
      "Name: Sex upon Intake, dtype: int64\n",
      "\n"
     ]
    }
   ],
   "source": [
    "for i in data.columns.values:\n",
    "    type_array = data[i].apply(type).value_counts()\n",
    "    if len(type_array)>1:\n",
    "        print(f'{type_array}')\n",
    "        print()\n",
    "    else:\n",
    "        pass"
   ]
  },
  {
   "cell_type": "markdown",
   "metadata": {},
   "source": [
    "All columns listed above are columns with null values based on the info method we passed earlier. The additional floating point values are nulls. We're going to take a look at \"Outcome Type\", \"Sex upon Outcome\" and \"Sex upon Intake\" first because the number of null values is low. We should easily be able to determine what to do with these null values. Then we will take a look at \"Name\""
   ]
  },
  {
   "cell_type": "markdown",
   "metadata": {},
   "source": [
    "### Handling \"Outcome Type\" nulls"
   ]
  },
  {
   "cell_type": "code",
   "execution_count": 11,
   "metadata": {},
   "outputs": [
    {
     "data": {
      "text/plain": [
       "Adoption           39734\n",
       "Transfer           32299\n",
       "Return to Owner    13719\n",
       "Euthanasia          7630\n",
       "Died                1053\n",
       "Disposal             503\n",
       "Rto-Adopt            369\n",
       "Missing               52\n",
       "Relocate              20\n",
       "Name: Outcome Type, dtype: int64"
      ]
     },
     "execution_count": 11,
     "metadata": {},
     "output_type": "execute_result"
    }
   ],
   "source": [
    "data['Outcome Type'].value_counts()"
   ]
  },
  {
   "cell_type": "code",
   "execution_count": 12,
   "metadata": {},
   "outputs": [
    {
     "data": {
      "text/html": [
       "<div>\n",
       "<style scoped>\n",
       "    .dataframe tbody tr th:only-of-type {\n",
       "        vertical-align: middle;\n",
       "    }\n",
       "\n",
       "    .dataframe tbody tr th {\n",
       "        vertical-align: top;\n",
       "    }\n",
       "\n",
       "    .dataframe thead th {\n",
       "        text-align: right;\n",
       "    }\n",
       "</style>\n",
       "<table border=\"1\" class=\"dataframe\">\n",
       "  <thead>\n",
       "    <tr style=\"text-align: right;\">\n",
       "      <th></th>\n",
       "      <th>Pet ID</th>\n",
       "      <th>Outcome Type</th>\n",
       "      <th>Sex upon Outcome</th>\n",
       "      <th>Name</th>\n",
       "      <th>Found Location</th>\n",
       "      <th>Intake Type</th>\n",
       "      <th>Intake Condition</th>\n",
       "      <th>Pet Type</th>\n",
       "      <th>Sex upon Intake</th>\n",
       "      <th>Breed</th>\n",
       "      <th>Color</th>\n",
       "      <th>Age upon Intake Days</th>\n",
       "      <th>Time at Center</th>\n",
       "    </tr>\n",
       "  </thead>\n",
       "  <tbody>\n",
       "    <tr>\n",
       "      <th>828</th>\n",
       "      <td>A674209</td>\n",
       "      <td>NaN</td>\n",
       "      <td>Unknown</td>\n",
       "      <td>NaN</td>\n",
       "      <td>4210 W. Braker in Austin (TX)</td>\n",
       "      <td>Wildlife</td>\n",
       "      <td>Normal</td>\n",
       "      <td>Other</td>\n",
       "      <td>Unknown</td>\n",
       "      <td>Bat Mix</td>\n",
       "      <td>Brown</td>\n",
       "      <td>0</td>\n",
       "      <td>0</td>\n",
       "    </tr>\n",
       "    <tr>\n",
       "      <th>10178</th>\n",
       "      <td>A679066</td>\n",
       "      <td>NaN</td>\n",
       "      <td>Unknown</td>\n",
       "      <td>NaN</td>\n",
       "      <td>Austin (TX)</td>\n",
       "      <td>Wildlife</td>\n",
       "      <td>Normal</td>\n",
       "      <td>Other</td>\n",
       "      <td>Unknown</td>\n",
       "      <td>Rabbit Sh</td>\n",
       "      <td>Brown</td>\n",
       "      <td>28</td>\n",
       "      <td>0</td>\n",
       "    </tr>\n",
       "    <tr>\n",
       "      <th>18664</th>\n",
       "      <td>A686025</td>\n",
       "      <td>NaN</td>\n",
       "      <td>Unknown</td>\n",
       "      <td>NaN</td>\n",
       "      <td>12901 N Ih 35 #1100 in Austin (TX)</td>\n",
       "      <td>Wildlife</td>\n",
       "      <td>Normal</td>\n",
       "      <td>Other</td>\n",
       "      <td>Unknown</td>\n",
       "      <td>Bat Mix</td>\n",
       "      <td>Brown</td>\n",
       "      <td>365</td>\n",
       "      <td>0</td>\n",
       "    </tr>\n",
       "    <tr>\n",
       "      <th>47605</th>\n",
       "      <td>A671017</td>\n",
       "      <td>NaN</td>\n",
       "      <td>Unknown</td>\n",
       "      <td>NaN</td>\n",
       "      <td>10105 Falcon Ridge Dr. in Travis (TX)</td>\n",
       "      <td>Wildlife</td>\n",
       "      <td>Sick</td>\n",
       "      <td>Other</td>\n",
       "      <td>Unknown</td>\n",
       "      <td>Fox Mix</td>\n",
       "      <td>Brown/Black</td>\n",
       "      <td>365</td>\n",
       "      <td>0</td>\n",
       "    </tr>\n",
       "    <tr>\n",
       "      <th>58378</th>\n",
       "      <td>A815725</td>\n",
       "      <td>NaN</td>\n",
       "      <td>Unknown</td>\n",
       "      <td>NaN</td>\n",
       "      <td>321 West Ben White in Austin (TX)</td>\n",
       "      <td>Wildlife</td>\n",
       "      <td>Normal</td>\n",
       "      <td>Other</td>\n",
       "      <td>Unknown</td>\n",
       "      <td>Bat</td>\n",
       "      <td>Black</td>\n",
       "      <td>365</td>\n",
       "      <td>0</td>\n",
       "    </tr>\n",
       "  </tbody>\n",
       "</table>\n",
       "</div>"
      ],
      "text/plain": [
       "        Pet ID Outcome Type Sex upon Outcome Name  \\\n",
       "828    A674209          NaN          Unknown  NaN   \n",
       "10178  A679066          NaN          Unknown  NaN   \n",
       "18664  A686025          NaN          Unknown  NaN   \n",
       "47605  A671017          NaN          Unknown  NaN   \n",
       "58378  A815725          NaN          Unknown  NaN   \n",
       "\n",
       "                              Found Location Intake Type Intake Condition  \\\n",
       "828            4210 W. Braker in Austin (TX)    Wildlife           Normal   \n",
       "10178                            Austin (TX)    Wildlife           Normal   \n",
       "18664     12901 N Ih 35 #1100 in Austin (TX)    Wildlife           Normal   \n",
       "47605  10105 Falcon Ridge Dr. in Travis (TX)    Wildlife             Sick   \n",
       "58378      321 West Ben White in Austin (TX)    Wildlife           Normal   \n",
       "\n",
       "      Pet Type Sex upon Intake      Breed        Color  Age upon Intake Days  \\\n",
       "828      Other         Unknown    Bat Mix        Brown                     0   \n",
       "10178    Other         Unknown  Rabbit Sh        Brown                    28   \n",
       "18664    Other         Unknown    Bat Mix        Brown                   365   \n",
       "47605    Other         Unknown    Fox Mix  Brown/Black                   365   \n",
       "58378    Other         Unknown        Bat        Black                   365   \n",
       "\n",
       "       Time at Center  \n",
       "828                 0  \n",
       "10178               0  \n",
       "18664               0  \n",
       "47605               0  \n",
       "58378               0  "
      ]
     },
     "execution_count": 12,
     "metadata": {},
     "output_type": "execute_result"
    }
   ],
   "source": [
    "data.loc[data['Outcome Type'].isnull()]"
   ]
  },
  {
   "cell_type": "markdown",
   "metadata": {},
   "source": [
    "Based on the values in \"Outcome Type\" and the number of nulls is low (5), I don't think imputing the values or replacing it with a dummy category like \"blank\" is necessary and we can likely remove these values. We just need to check these nulls are not associated with rare information in other columns.\n",
    "\n",
    "Check\n",
    "- Unknown in \"Sex upon Outcome\" and \"Sex upon Intake\" is not associated only with null outcome type\n",
    "- \"Name\" has many nulls so we do not have to check\n",
    "- \"Found Location\", perhaps City, Province will need to be extracted and checked\n",
    "- \"Intake Type\" ensure Wildlife is not associated only with null outcome type\n",
    "- \"Pet Type\" ensure Other is not associated with only null outcome type\n",
    "- \"Breed\" seems mixed, double check bat info is not under-represented after removal\n",
    "- \"Age upon Intake Days\" ensure distribution is not affected from removal of 0,28,365,365,365\n",
    "- \"Time at Center\" ensure dependent variable not largely affected by removal"
   ]
  },
  {
   "cell_type": "code",
   "execution_count": 13,
   "metadata": {},
   "outputs": [
    {
     "name": "stdout",
     "output_type": "stream",
     "text": [
      "Neutered Male    30233\n",
      "Spayed Female    28123\n",
      "Intact Female    13686\n",
      "Intact Male      13614\n",
      "Unknown           9727\n",
      "Name: Sex upon Outcome, dtype: int64\n",
      "\n",
      "Stray                 70112\n",
      "Owner Surrender       15131\n",
      "Public Assist          5236\n",
      "Wildlife               4559\n",
      "Euthanasia Request      235\n",
      "Abandoned               111\n",
      "Name: Intake Type, dtype: int64\n",
      "\n",
      "Normal      81824\n",
      "Injured      5384\n",
      "Sick         4289\n",
      "Nursing      3163\n",
      "Aged          352\n",
      "Other         189\n",
      "Feral          97\n",
      "Pregnant       63\n",
      "Medical        21\n",
      "Behavior        2\n",
      "Name: Intake Condition, dtype: int64\n",
      "\n",
      "Intact Male      33326\n",
      "Intact Female    32455\n",
      "Neutered Male    10521\n",
      "Unknown           9727\n",
      "Spayed Female     9354\n",
      "Name: Sex upon Intake, dtype: int64\n",
      "\n",
      "Dog          48674\n",
      "Cat          40023\n",
      "Other         6118\n",
      "Bird           553\n",
      "Livestock       16\n",
      "Name: Pet Type, dtype: int64\n",
      "\n"
     ]
    }
   ],
   "source": [
    "for i in ['Sex upon Outcome','Intake Type','Intake Condition','Sex upon Intake','Pet Type']:\n",
    "    print(data[i].value_counts())\n",
    "    print()"
   ]
  },
  {
   "cell_type": "code",
   "execution_count": 14,
   "metadata": {},
   "outputs": [
    {
     "data": {
      "text/plain": [
       "3030"
      ]
     },
     "execution_count": 14,
     "metadata": {},
     "output_type": "execute_result"
    }
   ],
   "source": [
    "data.loc[data.Breed.str.contains('Bat')].shape[0]"
   ]
  },
  {
   "cell_type": "markdown",
   "metadata": {},
   "source": [
    "Based on these values, removal of the 5 nulls from \"Outcome Type\" will not impact the dataset. Now to look at \"Sex upon Outcome\"."
   ]
  },
  {
   "cell_type": "code",
   "execution_count": 15,
   "metadata": {},
   "outputs": [],
   "source": [
    "data=data.loc[data['Outcome Type'].notnull()] #removing nulls from Outcome Type"
   ]
  },
  {
   "cell_type": "markdown",
   "metadata": {},
   "source": [
    "### Handling \"Sex upon Outcome\" and \"Sex upon Intake\" fields"
   ]
  },
  {
   "cell_type": "code",
   "execution_count": 16,
   "metadata": {},
   "outputs": [
    {
     "data": {
      "text/html": [
       "<div>\n",
       "<style scoped>\n",
       "    .dataframe tbody tr th:only-of-type {\n",
       "        vertical-align: middle;\n",
       "    }\n",
       "\n",
       "    .dataframe tbody tr th {\n",
       "        vertical-align: top;\n",
       "    }\n",
       "\n",
       "    .dataframe thead th {\n",
       "        text-align: right;\n",
       "    }\n",
       "</style>\n",
       "<table border=\"1\" class=\"dataframe\">\n",
       "  <thead>\n",
       "    <tr style=\"text-align: right;\">\n",
       "      <th></th>\n",
       "      <th>Pet ID</th>\n",
       "      <th>Outcome Type</th>\n",
       "      <th>Sex upon Outcome</th>\n",
       "      <th>Name</th>\n",
       "      <th>Found Location</th>\n",
       "      <th>Intake Type</th>\n",
       "      <th>Intake Condition</th>\n",
       "      <th>Pet Type</th>\n",
       "      <th>Sex upon Intake</th>\n",
       "      <th>Breed</th>\n",
       "      <th>Color</th>\n",
       "      <th>Age upon Intake Days</th>\n",
       "      <th>Time at Center</th>\n",
       "    </tr>\n",
       "  </thead>\n",
       "  <tbody>\n",
       "    <tr>\n",
       "      <th>38480</th>\n",
       "      <td>A667395</td>\n",
       "      <td>Return to Owner</td>\n",
       "      <td>NaN</td>\n",
       "      <td>Diego</td>\n",
       "      <td>Pflugerville (TX)</td>\n",
       "      <td>Owner Surrender</td>\n",
       "      <td>Normal</td>\n",
       "      <td>Dog</td>\n",
       "      <td>NaN</td>\n",
       "      <td>Dachshund</td>\n",
       "      <td>Brown Merle</td>\n",
       "      <td>2555</td>\n",
       "      <td>0</td>\n",
       "    </tr>\n",
       "  </tbody>\n",
       "</table>\n",
       "</div>"
      ],
      "text/plain": [
       "        Pet ID     Outcome Type Sex upon Outcome   Name     Found Location  \\\n",
       "38480  A667395  Return to Owner              NaN  Diego  Pflugerville (TX)   \n",
       "\n",
       "           Intake Type Intake Condition Pet Type Sex upon Intake      Breed  \\\n",
       "38480  Owner Surrender           Normal      Dog             NaN  Dachshund   \n",
       "\n",
       "             Color  Age upon Intake Days  Time at Center  \n",
       "38480  Brown Merle                  2555               0  "
      ]
     },
     "execution_count": 16,
     "metadata": {},
     "output_type": "execute_result"
    }
   ],
   "source": [
    "data.loc[data['Sex upon Outcome'].isnull()] "
   ]
  },
  {
   "cell_type": "markdown",
   "metadata": {},
   "source": [
    "Based on analysis of previous columns, we can include this record by replacing the null values with \"Unknown\" in both gender related columns. Unknown is already used to fill missing values in these columns."
   ]
  },
  {
   "cell_type": "code",
   "execution_count": 17,
   "metadata": {},
   "outputs": [
    {
     "name": "stderr",
     "output_type": "stream",
     "text": [
      "C:\\Users\\notal\\anaconda3\\lib\\site-packages\\pandas\\core\\series.py:4463: SettingWithCopyWarning: \n",
      "A value is trying to be set on a copy of a slice from a DataFrame\n",
      "\n",
      "See the caveats in the documentation: https://pandas.pydata.org/pandas-docs/stable/user_guide/indexing.html#returning-a-view-versus-a-copy\n",
      "  return super().fillna(\n"
     ]
    }
   ],
   "source": [
    "data['Sex upon Outcome'].fillna('Unknown',inplace=True)\n",
    "data['Sex upon Intake'].fillna('Unknown',inplace=True)"
   ]
  },
  {
   "cell_type": "markdown",
   "metadata": {},
   "source": [
    "## Dealing with Name\n",
    "\n",
    "Because almost 40% of the data has null name values, we will not be removing them. Instead, we will replace the values with \"Unknown\" to stay consistent with other column nomenclature for null values.\n"
   ]
  },
  {
   "cell_type": "code",
   "execution_count": 18,
   "metadata": {},
   "outputs": [],
   "source": [
    "data['Name'].fillna('Unknown',inplace=True)"
   ]
  },
  {
   "cell_type": "code",
   "execution_count": 19,
   "metadata": {},
   "outputs": [
    {
     "name": "stdout",
     "output_type": "stream",
     "text": [
      "<class 'pandas.core.frame.DataFrame'>\n",
      "Int64Index: 95379 entries, 0 to 95383\n",
      "Data columns (total 13 columns):\n",
      " #   Column                Non-Null Count  Dtype \n",
      "---  ------                --------------  ----- \n",
      " 0   Pet ID                95379 non-null  object\n",
      " 1   Outcome Type          95379 non-null  object\n",
      " 2   Sex upon Outcome      95379 non-null  object\n",
      " 3   Name                  95379 non-null  object\n",
      " 4   Found Location        95379 non-null  object\n",
      " 5   Intake Type           95379 non-null  object\n",
      " 6   Intake Condition      95379 non-null  object\n",
      " 7   Pet Type              95379 non-null  object\n",
      " 8   Sex upon Intake       95379 non-null  object\n",
      " 9   Breed                 95379 non-null  object\n",
      " 10  Color                 95379 non-null  object\n",
      " 11  Age upon Intake Days  95379 non-null  int64 \n",
      " 12  Time at Center        95379 non-null  int64 \n",
      "dtypes: int64(2), object(11)\n",
      "memory usage: 10.2+ MB\n"
     ]
    }
   ],
   "source": [
    "data.info()"
   ]
  },
  {
   "cell_type": "markdown",
   "metadata": {},
   "source": [
    "Now all columns in our data set have the same number of non-null values. We have removed 5 rows from the entire dataset from this cleaning step"
   ]
  },
  {
   "cell_type": "markdown",
   "metadata": {},
   "source": [
    "## Ensuring data consistencies\n",
    "- Noticed \"*\" prefix to certain names - need to clean this up\n",
    "- Check other columns for formatting inconsistencies"
   ]
  },
  {
   "cell_type": "markdown",
   "metadata": {},
   "source": [
    "### \"Name\" cleaning"
   ]
  },
  {
   "cell_type": "code",
   "execution_count": 20,
   "metadata": {},
   "outputs": [
    {
     "data": {
      "text/plain": [
       "17464"
      ]
     },
     "execution_count": 20,
     "metadata": {},
     "output_type": "execute_result"
    }
   ],
   "source": [
    "len(data.Name.unique())"
   ]
  },
  {
   "cell_type": "code",
   "execution_count": 21,
   "metadata": {},
   "outputs": [
    {
     "name": "stdout",
     "output_type": "stream",
     "text": [
      "14107\n"
     ]
    },
    {
     "name": "stderr",
     "output_type": "stream",
     "text": [
      "<ipython-input-21-719e600a3ca0>:1: SettingWithCopyWarning: \n",
      "A value is trying to be set on a copy of a slice from a DataFrame.\n",
      "Try using .loc[row_indexer,col_indexer] = value instead\n",
      "\n",
      "See the caveats in the documentation: https://pandas.pydata.org/pandas-docs/stable/user_guide/indexing.html#returning-a-view-versus-a-copy\n",
      "  data['Name']=data['Name'].str.replace('[*]','',regex=True) #remove asteriks\n"
     ]
    },
    {
     "data": {
      "text/plain": [
       "Unknown         36304\n",
       "Bella             370\n",
       "Max               359\n",
       "Luna              344\n",
       "Charlie           305\n",
       "                ...  \n",
       "Bibie               1\n",
       "Jerrico             1\n",
       "Poochihuahua        1\n",
       "Thunderdog          1\n",
       "Jayzee              1\n",
       "Name: Name, Length: 14107, dtype: int64"
      ]
     },
     "execution_count": 21,
     "metadata": {},
     "output_type": "execute_result"
    }
   ],
   "source": [
    "data['Name']=data['Name'].str.replace('[*]','',regex=True) #remove asteriks\n",
    "print(len(data.Name.unique()))\n",
    "data.Name.value_counts()"
   ]
  },
  {
   "cell_type": "code",
   "execution_count": 22,
   "metadata": {},
   "outputs": [],
   "source": [
    "legacy_data=data.copy()"
   ]
  },
  {
   "cell_type": "markdown",
   "metadata": {},
   "source": [
    "Reduced unique values by 2,700. We will skip looking at \"Sex upon Outcome\", \"Intake Type\",\"Intake Condition\",\"Pet Type\",\"Sex upon Intake\" because we have seen their values before and they look fine.\n",
    "\n",
    "We'll now look at \"Found Location\" column. \n",
    "\n",
    "Then \"Breed\" and \"Color\"."
   ]
  },
  {
   "cell_type": "markdown",
   "metadata": {},
   "source": [
    "### \"Found Location\" check"
   ]
  },
  {
   "cell_type": "code",
   "execution_count": 23,
   "metadata": {},
   "outputs": [
    {
     "data": {
      "text/plain": [
       "Austin (TX)                                   14821\n",
       "Travis (TX)                                    1400\n",
       "7201 Levander Loop in Austin (TX)               637\n",
       "Outside Jurisdiction                            605\n",
       "Del Valle (TX)                                  426\n",
       "                                              ...  \n",
       "1422 Broadmoor Dr in Austin (TX)                  1\n",
       "W 21St St in Austin (TX)                          1\n",
       "8418 Riverstone Dr in Austin (TX)                 1\n",
       "3012 Hawks Swoop Trl in Travis (TX)               1\n",
       "8513 N Capitol Of Texas Hwy in Austin (TX)        1\n",
       "Name: Found Location, Length: 43936, dtype: int64"
      ]
     },
     "execution_count": 23,
     "metadata": {},
     "output_type": "execute_result"
    }
   ],
   "source": [
    "data['Found Location'].value_counts()"
   ]
  },
  {
   "cell_type": "markdown",
   "metadata": {},
   "source": [
    "Based on these values, it seems this column follows a consistent pattern. With 43936 unique values, it will not be a reliable categorical feature unless we can bin together some of these values and create more useful features.\n",
    "\n",
    "(Street information (Optional)) (City) ((State))\n",
    "\n",
    "We will look into it a bit further once we decompose it into useful features in the engineering section - City and State. "
   ]
  },
  {
   "cell_type": "markdown",
   "metadata": {},
   "source": [
    "### Breed check"
   ]
  },
  {
   "cell_type": "code",
   "execution_count": 24,
   "metadata": {},
   "outputs": [
    {
     "data": {
      "text/plain": [
       "Domestic Shorthair Mix                  27654\n",
       "Domestic Shorthair                       5068\n",
       "Pit Bull Mix                             5013\n",
       "Chihuahua Shorthair Mix                  4960\n",
       "Labrador Retriever Mix                   4783\n",
       "                                        ...  \n",
       "Norfolk Terrier/Lhasa Apso                  1\n",
       "Yorkshire Terrier/Dachshund Longhair        1\n",
       "Pointer/Brittany                            1\n",
       "Maltese/Standard Poodle                     1\n",
       "Canary                                      1\n",
       "Name: Breed, Length: 2395, dtype: int64"
      ]
     },
     "execution_count": 24,
     "metadata": {},
     "output_type": "execute_result"
    }
   ],
   "source": [
    "data['Breed'].value_counts()"
   ]
  },
  {
   "cell_type": "markdown",
   "metadata": {},
   "source": [
    "2395 unique values is still quite high. The common values are types of mixes and the less common values are also mixes, but in different formats and more detailed.\n",
    "\n",
    "We can consider strategies to simplify the detailed values that are generating unnecessarily unique values. Additionally we can decompose the \"Breed\" column into \"Breed\", which only contains the main breed listed, and \"Mix\" to define whether the \"Breed\" is purebred or mixed.\n",
    "\n",
    "We will also need to look at this at by pet type. Different pet types may have different breed formatting."
   ]
  },
  {
   "cell_type": "code",
   "execution_count": 25,
   "metadata": {},
   "outputs": [
    {
     "data": {
      "text/plain": [
       "Dog          48674\n",
       "Cat          40023\n",
       "Other         6113\n",
       "Bird           553\n",
       "Livestock       16\n",
       "Name: Pet Type, dtype: int64"
      ]
     },
     "execution_count": 25,
     "metadata": {},
     "output_type": "execute_result"
    }
   ],
   "source": [
    "data['Pet Type'].value_counts()"
   ]
  },
  {
   "cell_type": "markdown",
   "metadata": {},
   "source": [
    "Because the categorical size of  \"Livestock\" are is small, we will bin it together with \"Other\". The model will not be able to generalize correctly from such a small bin. \"Bird\" may be a bit small, but it may be relevant."
   ]
  },
  {
   "cell_type": "code",
   "execution_count": 26,
   "metadata": {},
   "outputs": [
    {
     "name": "stderr",
     "output_type": "stream",
     "text": [
      "<ipython-input-26-09d109471959>:1: SettingWithCopyWarning: \n",
      "A value is trying to be set on a copy of a slice from a DataFrame.\n",
      "Try using .loc[row_indexer,col_indexer] = value instead\n",
      "\n",
      "See the caveats in the documentation: https://pandas.pydata.org/pandas-docs/stable/user_guide/indexing.html#returning-a-view-versus-a-copy\n",
      "  data['Pet Type']=data['Pet Type'].replace(to_replace={'Livestock':'Other'})\n"
     ]
    }
   ],
   "source": [
    "data['Pet Type']=data['Pet Type'].replace(to_replace={'Livestock':'Other'})"
   ]
  },
  {
   "cell_type": "code",
   "execution_count": 27,
   "metadata": {},
   "outputs": [
    {
     "data": {
      "text/plain": [
       "Bat Mix                 1740\n",
       "Bat                     1287\n",
       "Raccoon Mix              537\n",
       "Raccoon                  364\n",
       "Rabbit Sh Mix            322\n",
       "                        ... \n",
       "Gerbil                     1\n",
       "Chinchilla-Amer            1\n",
       "Rex-Mini/Lop-English       1\n",
       "Tropical Mix               1\n",
       "Chinchilla-Amer Mix        1\n",
       "Name: Breed, Length: 125, dtype: int64"
      ]
     },
     "execution_count": 27,
     "metadata": {},
     "output_type": "execute_result"
    }
   ],
   "source": [
    "data.loc[data['Pet Type']=='Other'].Breed.value_counts()"
   ]
  },
  {
   "cell_type": "code",
   "execution_count": 28,
   "metadata": {},
   "outputs": [
    {
     "data": {
      "text/plain": [
       "Chicken Mix       151\n",
       "Chicken            77\n",
       "Parakeet Mix       33\n",
       "Parakeet           25\n",
       "Duck Mix           21\n",
       "                 ... \n",
       "Bluebird            1\n",
       "Cockatoo Mix        1\n",
       "Other Bird Mix      1\n",
       "Song Bird Mix       1\n",
       "Silkie Mix          1\n",
       "Name: Breed, Length: 75, dtype: int64"
      ]
     },
     "execution_count": 28,
     "metadata": {},
     "output_type": "execute_result"
    }
   ],
   "source": [
    "data.loc[data['Pet Type']=='Bird'].Breed.value_counts()"
   ]
  },
  {
   "cell_type": "code",
   "execution_count": 29,
   "metadata": {},
   "outputs": [
    {
     "data": {
      "text/plain": [
       "Domestic Shorthair Mix              27654\n",
       "Domestic Shorthair                   5068\n",
       "Domestic Medium Hair Mix             2784\n",
       "Domestic Longhair Mix                1359\n",
       "Siamese Mix                          1132\n",
       "                                    ...  \n",
       "Scottish Fold/Domestic Shorthair        1\n",
       "Domestic Longhair/Russian Blue          1\n",
       "Snowshoe/Domestic Shorthair             1\n",
       "Domestic Shorthair/Maine Coon           1\n",
       "Angora/Persian                          1\n",
       "Name: Breed, Length: 95, dtype: int64"
      ]
     },
     "execution_count": 29,
     "metadata": {},
     "output_type": "execute_result"
    }
   ],
   "source": [
    "data.loc[data['Pet Type']=='Cat'].Breed.value_counts()"
   ]
  },
  {
   "cell_type": "code",
   "execution_count": 30,
   "metadata": {},
   "outputs": [
    {
     "data": {
      "text/plain": [
       "Pit Bull Mix                         5013\n",
       "Chihuahua Shorthair Mix              4960\n",
       "Labrador Retriever Mix               4783\n",
       "German Shepherd Mix                  2043\n",
       "Australian Cattle Dog Mix            1071\n",
       "                                     ... \n",
       "Whippet/Anatol Shepherd                 1\n",
       "Chihuahua Longhair/Cavalier Span        1\n",
       "English Bulldog/Beagle                  1\n",
       "Miniature Schnauzer/West Highland       1\n",
       "Dachshund/Toy Poodle                    1\n",
       "Name: Breed, Length: 2101, dtype: int64"
      ]
     },
     "execution_count": 30,
     "metadata": {},
     "output_type": "execute_result"
    }
   ],
   "source": [
    "data.loc[data['Pet Type']=='Dog'].Breed.value_counts()"
   ]
  },
  {
   "cell_type": "markdown",
   "metadata": {},
   "source": [
    "After looking at all the different types of animals and their breeds my strategy to improve categorization from these columns is to identify whether a \"Breed\" value contains \"Mix\" or \"/\" and label them as \"Mix\" in the \"Mix\" column and as \"Not\" if otherwise.\n",
    "\n",
    "We will then extract the string before \"Mix\" and \"/\" to re-categorize pure, mix and \"mix detailed\" formats together.\n",
    "\n",
    "If that does not solve the complexity of the categorical column, we could use a more complex strategy of identifying the most common pure breed listed instead of the first. This is likely an unnecessary step so I will stick with a more simple strategy and move on."
   ]
  },
  {
   "cell_type": "code",
   "execution_count": 31,
   "metadata": {},
   "outputs": [
    {
     "name": "stderr",
     "output_type": "stream",
     "text": [
      "<ipython-input-31-7c1a223b82dd>:1: SettingWithCopyWarning: \n",
      "A value is trying to be set on a copy of a slice from a DataFrame.\n",
      "Try using .loc[row_indexer,col_indexer] = value instead\n",
      "\n",
      "See the caveats in the documentation: https://pandas.pydata.org/pandas-docs/stable/user_guide/indexing.html#returning-a-view-versus-a-copy\n",
      "  data['Mix']=np.where((data['Breed'].str.contains('Mix'))|(data['Breed'].str.contains('/')),\"Mix\",\"Not\")\n"
     ]
    },
    {
     "name": "stdout",
     "output_type": "stream",
     "text": [
      "637\n",
      "637\n",
      "362\n"
     ]
    },
    {
     "name": "stderr",
     "output_type": "stream",
     "text": [
      "<ipython-input-31-7c1a223b82dd>:3: SettingWithCopyWarning: \n",
      "A value is trying to be set on a copy of a slice from a DataFrame.\n",
      "Try using .loc[row_indexer,col_indexer] = value instead\n",
      "\n",
      "See the caveats in the documentation: https://pandas.pydata.org/pandas-docs/stable/user_guide/indexing.html#returning-a-view-versus-a-copy\n",
      "  data['Breed_new']=np.where(data['Breed'].str.contains('Mix'),data['Breed'].str.split('Mix').str[0],\n",
      "<ipython-input-31-7c1a223b82dd>:6: SettingWithCopyWarning: \n",
      "A value is trying to be set on a copy of a slice from a DataFrame.\n",
      "Try using .loc[row_indexer,col_indexer] = value instead\n",
      "\n",
      "See the caveats in the documentation: https://pandas.pydata.org/pandas-docs/stable/user_guide/indexing.html#returning-a-view-versus-a-copy\n",
      "  data['Breed_new']=data['Breed_new'].str.lower()\n",
      "<ipython-input-31-7c1a223b82dd>:8: SettingWithCopyWarning: \n",
      "A value is trying to be set on a copy of a slice from a DataFrame.\n",
      "Try using .loc[row_indexer,col_indexer] = value instead\n",
      "\n",
      "See the caveats in the documentation: https://pandas.pydata.org/pandas-docs/stable/user_guide/indexing.html#returning-a-view-versus-a-copy\n",
      "  data['Breed_new']=data['Breed_new'].str.strip()\n"
     ]
    }
   ],
   "source": [
    "data['Mix']=np.where((data['Breed'].str.contains('Mix'))|(data['Breed'].str.contains('/')),\"Mix\",\"Not\")\n",
    "\n",
    "data['Breed_new']=np.where(data['Breed'].str.contains('Mix'),data['Breed'].str.split('Mix').str[0],\n",
    "                          np.where(data['Breed'].str.contains('/'),data['Breed'].str.split('/').str[0],data['Breed']))\n",
    "print(len(data['Breed_new'].unique()))\n",
    "data['Breed_new']=data['Breed_new'].str.lower()\n",
    "print(len(data['Breed_new'].unique()))\n",
    "data['Breed_new']=data['Breed_new'].str.strip()\n",
    "print(len(data['Breed_new'].unique()))"
   ]
  },
  {
   "cell_type": "markdown",
   "metadata": {},
   "source": [
    "Reduced unique values from 2395 to 362. Let's see if there's any further reduction necessary. Categories with only 1-2 values are not good for model generalization on future data"
   ]
  },
  {
   "cell_type": "code",
   "execution_count": 32,
   "metadata": {},
   "outputs": [
    {
     "data": {
      "text/html": [
       "<div>\n",
       "<style scoped>\n",
       "    .dataframe tbody tr th:only-of-type {\n",
       "        vertical-align: middle;\n",
       "    }\n",
       "\n",
       "    .dataframe tbody tr th {\n",
       "        vertical-align: top;\n",
       "    }\n",
       "\n",
       "    .dataframe thead th {\n",
       "        text-align: right;\n",
       "    }\n",
       "</style>\n",
       "<table border=\"1\" class=\"dataframe\">\n",
       "  <thead>\n",
       "    <tr style=\"text-align: right;\">\n",
       "      <th></th>\n",
       "      <th>Breed_new</th>\n",
       "    </tr>\n",
       "  </thead>\n",
       "  <tbody>\n",
       "    <tr>\n",
       "      <th>count</th>\n",
       "      <td>362.000000</td>\n",
       "    </tr>\n",
       "    <tr>\n",
       "      <th>mean</th>\n",
       "      <td>263.477901</td>\n",
       "    </tr>\n",
       "    <tr>\n",
       "      <th>std</th>\n",
       "      <td>1840.323954</td>\n",
       "    </tr>\n",
       "    <tr>\n",
       "      <th>min</th>\n",
       "      <td>1.000000</td>\n",
       "    </tr>\n",
       "    <tr>\n",
       "      <th>25%</th>\n",
       "      <td>4.000000</td>\n",
       "    </tr>\n",
       "    <tr>\n",
       "      <th>50%</th>\n",
       "      <td>13.000000</td>\n",
       "    </tr>\n",
       "    <tr>\n",
       "      <th>75%</th>\n",
       "      <td>69.750000</td>\n",
       "    </tr>\n",
       "    <tr>\n",
       "      <th>max</th>\n",
       "      <td>32734.000000</td>\n",
       "    </tr>\n",
       "  </tbody>\n",
       "</table>\n",
       "</div>"
      ],
      "text/plain": [
       "          Breed_new\n",
       "count    362.000000\n",
       "mean     263.477901\n",
       "std     1840.323954\n",
       "min        1.000000\n",
       "25%        4.000000\n",
       "50%       13.000000\n",
       "75%       69.750000\n",
       "max    32734.000000"
      ]
     },
     "execution_count": 32,
     "metadata": {},
     "output_type": "execute_result"
    }
   ],
   "source": [
    "breed=data['Breed_new'].value_counts().to_frame()\n",
    "breed.describe()"
   ]
  },
  {
   "cell_type": "markdown",
   "metadata": {},
   "source": [
    "Huge difference between percentiles, mean and max values. More cleanup is required."
   ]
  },
  {
   "cell_type": "code",
   "execution_count": 33,
   "metadata": {},
   "outputs": [
    {
     "data": {
      "text/plain": [
       "74787"
      ]
     },
     "execution_count": 33,
     "metadata": {},
     "output_type": "execute_result"
    }
   ],
   "source": [
    "breed.sort_values(by='Breed_new',ascending=False).head(20).Breed_new.sum()"
   ]
  },
  {
   "cell_type": "code",
   "execution_count": 34,
   "metadata": {},
   "outputs": [
    {
     "data": {
      "text/html": [
       "<div>\n",
       "<style scoped>\n",
       "    .dataframe tbody tr th:only-of-type {\n",
       "        vertical-align: middle;\n",
       "    }\n",
       "\n",
       "    .dataframe tbody tr th {\n",
       "        vertical-align: top;\n",
       "    }\n",
       "\n",
       "    .dataframe thead th {\n",
       "        text-align: right;\n",
       "    }\n",
       "</style>\n",
       "<table border=\"1\" class=\"dataframe\">\n",
       "  <thead>\n",
       "    <tr style=\"text-align: right;\">\n",
       "      <th></th>\n",
       "      <th>Breed_new</th>\n",
       "    </tr>\n",
       "  </thead>\n",
       "  <tbody>\n",
       "    <tr>\n",
       "      <th>english setter</th>\n",
       "      <td>4</td>\n",
       "    </tr>\n",
       "    <tr>\n",
       "      <th>vulture</th>\n",
       "      <td>4</td>\n",
       "    </tr>\n",
       "    <tr>\n",
       "      <th>angora-french</th>\n",
       "      <td>4</td>\n",
       "    </tr>\n",
       "    <tr>\n",
       "      <th>german pinscher</th>\n",
       "      <td>4</td>\n",
       "    </tr>\n",
       "    <tr>\n",
       "      <th>dandie dinmont</th>\n",
       "      <td>4</td>\n",
       "    </tr>\n",
       "    <tr>\n",
       "      <th>...</th>\n",
       "      <td>...</td>\n",
       "    </tr>\n",
       "    <tr>\n",
       "      <th>beveren</th>\n",
       "      <td>1</td>\n",
       "    </tr>\n",
       "    <tr>\n",
       "      <th>spanish mastiff</th>\n",
       "      <td>1</td>\n",
       "    </tr>\n",
       "    <tr>\n",
       "      <th>alaskan klee kai</th>\n",
       "      <td>1</td>\n",
       "    </tr>\n",
       "    <tr>\n",
       "      <th>leghorn</th>\n",
       "      <td>1</td>\n",
       "    </tr>\n",
       "    <tr>\n",
       "      <th>goose</th>\n",
       "      <td>1</td>\n",
       "    </tr>\n",
       "  </tbody>\n",
       "</table>\n",
       "<p>105 rows × 1 columns</p>\n",
       "</div>"
      ],
      "text/plain": [
       "                  Breed_new\n",
       "english setter            4\n",
       "vulture                   4\n",
       "angora-french             4\n",
       "german pinscher           4\n",
       "dandie dinmont            4\n",
       "...                     ...\n",
       "beveren                   1\n",
       "spanish mastiff           1\n",
       "alaskan klee kai          1\n",
       "leghorn                   1\n",
       "goose                     1\n",
       "\n",
       "[105 rows x 1 columns]"
      ]
     },
     "execution_count": 34,
     "metadata": {},
     "output_type": "execute_result"
    }
   ],
   "source": [
    "breed.loc[breed.Breed_new<5]"
   ]
  },
  {
   "cell_type": "code",
   "execution_count": 35,
   "metadata": {},
   "outputs": [
    {
     "data": {
      "text/plain": [
       "Dog      48674\n",
       "Cat      40023\n",
       "Other     6129\n",
       "Bird       553\n",
       "Name: Pet Type, dtype: int64"
      ]
     },
     "execution_count": 35,
     "metadata": {},
     "output_type": "execute_result"
    }
   ],
   "source": [
    "data['Pet Type'].value_counts()"
   ]
  },
  {
   "cell_type": "markdown",
   "metadata": {},
   "source": [
    "I was stumped on the best way to reduce the number of bins in this category and just thought of using tokenization to reduce binning further. Other approaches I considered.\n",
    "\n",
    "- Thresholding by mean or percentile values\n",
    "    - *Issue: Even binning all categories under 600 in size led to 20k records with undefined breeds - a significant loss of information*\n",
    "- Thresholding by a proportion of the minority class\n",
    "    - e.g. Bins must contain 20% of minority class size\n",
    "- Extract bi-grams to derive smaller groups\n",
    "- Using Levenshtein distance to organize categories by edit distance\n",
    "    \n",
    "    \n",
    "First we will bin the breeds of smaller \"Pet Type\" categories like \"Bird\" and \"Other\".\n"
   ]
  },
  {
   "cell_type": "code",
   "execution_count": 36,
   "metadata": {},
   "outputs": [
    {
     "name": "stdout",
     "output_type": "stream",
     "text": [
      "Pet Type: Cat  |  Unique Breeds: 41\n",
      "Pet Type: Dog  |  Unique Breeds: 202\n",
      "Pet Type: Other  |  Unique Breeds: 72\n",
      "Pet Type: Bird  |  Unique Breeds: 49\n"
     ]
    }
   ],
   "source": [
    "for i in data[\"Pet Type\"].unique():\n",
    "    breed_count = data.loc[data[\"Pet Type\"]==i].Breed_new.value_counts().shape[0]\n",
    "    print(f'Pet Type: {i}  |  Unique Breeds: {breed_count}')\n"
   ]
  },
  {
   "cell_type": "code",
   "execution_count": 37,
   "metadata": {},
   "outputs": [
    {
     "data": {
      "text/plain": [
       "chicken         228\n",
       "parakeet         58\n",
       "duck             37\n",
       "dove             28\n",
       "pigeon           23\n",
       "cockatiel        18\n",
       "grackle          15\n",
       "parrot           11\n",
       "sparrow          10\n",
       "peafowl           9\n",
       "bantam            9\n",
       "hawk              8\n",
       "quaker            8\n",
       "owl               6\n",
       "finch             6\n",
       "rhode island      6\n",
       "conure            5\n",
       "lovebird          5\n",
       "mockingbird       5\n",
       "turkey            5\n",
       "heron             5\n",
       "cockatoo          4\n",
       "bluebird          4\n",
       "vulture           4\n",
       "muscovy           4\n",
       "guinea            3\n",
       "budgerigar        3\n",
       "black             2\n",
       "macaw             2\n",
       "crow              2\n",
       "barred rock       2\n",
       "african           1\n",
       "silkie            1\n",
       "bunting           1\n",
       "warbler           1\n",
       "whimbrel          1\n",
       "canary            1\n",
       "chickadee         1\n",
       "leghorn           1\n",
       "catbird           1\n",
       "pheasant          1\n",
       "song bird         1\n",
       "wren              1\n",
       "other bird        1\n",
       "goose             1\n",
       "nuthatch          1\n",
       "lark              1\n",
       "waxwing           1\n",
       "orpington         1\n",
       "Name: Breed_new, dtype: int64"
      ]
     },
     "execution_count": 37,
     "metadata": {},
     "output_type": "execute_result"
    }
   ],
   "source": [
    "data.loc[data[\"Pet Type\"]=='Bird'].Breed_new.value_counts()"
   ]
  },
  {
   "cell_type": "code",
   "execution_count": 38,
   "metadata": {},
   "outputs": [
    {
     "name": "stdout",
     "output_type": "stream",
     "text": [
      "316\n"
     ]
    },
    {
     "name": "stderr",
     "output_type": "stream",
     "text": [
      "<ipython-input-38-6f207744de77>:1: SettingWithCopyWarning: \n",
      "A value is trying to be set on a copy of a slice from a DataFrame.\n",
      "Try using .loc[row_indexer,col_indexer] = value instead\n",
      "\n",
      "See the caveats in the documentation: https://pandas.pydata.org/pandas-docs/stable/user_guide/indexing.html#returning-a-view-versus-a-copy\n",
      "  data['Breed_new']=np.where((data['Pet Type']=='Bird')&(data['Breed_new']!='chicken'),'Other Bird',data['Breed_new'])\n"
     ]
    }
   ],
   "source": [
    "data['Breed_new']=np.where((data['Pet Type']=='Bird')&(data['Breed_new']!='chicken'),'Other Bird',data['Breed_new'])\n",
    "print(len(data.Breed_new.unique()))"
   ]
  },
  {
   "cell_type": "code",
   "execution_count": 39,
   "metadata": {},
   "outputs": [
    {
     "name": "stdout",
     "output_type": "stream",
     "text": [
      "bat                3027\n",
      "raccoon                901\n",
      "rabbit sh                406\n",
      "guinea pig                335\n",
      "opossum                320\n",
      "skunk                178\n",
      "squirrel                134\n",
      "rat                109\n",
      "fox                102\n",
      "ferret                58\n",
      "hamster                56\n",
      "californian                55\n",
      "snake                34\n",
      "cold water                30\n",
      "turtle                29\n",
      "lionhead                25\n",
      "coyote                25\n",
      "rex                22\n",
      "rabbit lh                17\n",
      "lizard                16\n",
      "lop-holland                16\n",
      "english spot                16\n",
      "tortoise                14\n",
      "new zealand wht                13\n",
      "havana                13\n",
      "lop-english                11\n",
      "lop-mini                11\n",
      "mouse                10\n",
      "armadillo                10\n",
      "american                10\n",
      "pig                10\n",
      "dutch                9\n",
      "netherlnd dwarf                9\n",
      "chinchilla                8\n",
      "gerbil                7\n",
      "tarantula                6\n",
      "rex-mini                5\n",
      "angora-french                4\n",
      "flemish giant                4\n",
      "cinnamon                4\n",
      "sugar glider                4\n",
      "lop-amer fuzzy                4\n",
      "hedgehog                3\n",
      "polish                3\n",
      "american sable                3\n",
      "cottontail                3\n",
      "hotot                3\n",
      "ringtail                2\n",
      "otter                2\n",
      "angora-english                2\n",
      "checkered giant                2\n",
      "jersey wooly                2\n",
      "belgian hare                2\n",
      "potbelly pig                2\n",
      "himalayan                2\n",
      "goat                2\n",
      "harlequin                2\n",
      "chinchilla-amer                2\n",
      "angora-satin                2\n",
      "bobcat                1\n",
      "deer                1\n",
      "tropical                1\n",
      "sheep                1\n",
      "pygmy                1\n",
      "frog                1\n",
      "dwarf hotot                1\n",
      "silver                1\n",
      "rhinelander                1\n",
      "hermit crab                1\n",
      "beveren                1\n",
      "britannia petit                1\n",
      "prairie dog                1\n"
     ]
    }
   ],
   "source": [
    "for i,x in data.loc[data[\"Pet Type\"]=='Other'].Breed_new.value_counts().iteritems():\n",
    "    print(f'{i}                {x}')\n"
   ]
  },
  {
   "cell_type": "markdown",
   "metadata": {},
   "source": [
    "We will bin everything under 100 count. We could extract rodents to be in a category, as there is enough to make a bin larger than 300. However I don't think its going to affect performance too much."
   ]
  },
  {
   "cell_type": "code",
   "execution_count": 40,
   "metadata": {},
   "outputs": [
    {
     "name": "stdout",
     "output_type": "stream",
     "text": [
      "255\n"
     ]
    },
    {
     "name": "stderr",
     "output_type": "stream",
     "text": [
      "<ipython-input-40-615d4d8f5899>:7: SettingWithCopyWarning: \n",
      "A value is trying to be set on a copy of a slice from a DataFrame.\n",
      "Try using .loc[row_indexer,col_indexer] = value instead\n",
      "\n",
      "See the caveats in the documentation: https://pandas.pydata.org/pandas-docs/stable/user_guide/indexing.html#returning-a-view-versus-a-copy\n",
      "  data['Breed_new']=np.where((data['Pet Type']=='Other')&(data['Breed_new'].isin(remove_other)),'Other',data['Breed_new'])\n"
     ]
    }
   ],
   "source": [
    "remove_other = []\n",
    "for i,x in data.loc[data[\"Pet Type\"]=='Other'].Breed_new.value_counts().iteritems():\n",
    "    if x<100:\n",
    "        remove_other.append(i)\n",
    "    else:\n",
    "        pass\n",
    "data['Breed_new']=np.where((data['Pet Type']=='Other')&(data['Breed_new'].isin(remove_other)),'Other',data['Breed_new'])\n",
    "print(len(data.Breed_new.unique()))"
   ]
  },
  {
   "cell_type": "code",
   "execution_count": 41,
   "metadata": {},
   "outputs": [
    {
     "data": {
      "text/plain": [
       "domestic shorthair         32734\n",
       "domestic medium hair        3392\n",
       "domestic longhair           1542\n",
       "siamese                     1317\n",
       "american shorthair           240\n",
       "snowshoe                     181\n",
       "maine coon                   127\n",
       "manx                         108\n",
       "russian blue                  79\n",
       "ragdoll                       50\n",
       "himalayan                     44\n",
       "persian                       28\n",
       "balinese                      17\n",
       "bengal                        15\n",
       "abyssinian                    14\n",
       "angora                        13\n",
       "american curl shorthair       13\n",
       "tonkinese                     12\n",
       "japanese bobtail               9\n",
       "british shorthair              8\n",
       "turkish van                    8\n",
       "devon rex                      7\n",
       "bombay                         7\n",
       "turkish angora                 7\n",
       "burmese                        6\n",
       "cornish rex                    5\n",
       "cymric                         4\n",
       "norwegian forest cat           4\n",
       "pixiebob shorthair             4\n",
       "scottish fold                  3\n",
       "exotic shorthair               3\n",
       "sphynx                         3\n",
       "colorpoint                     3\n",
       "oriental sh                    3\n",
       "havana brown                   3\n",
       "munchkin shorthair             2\n",
       "chartreux                      2\n",
       "javanese                       2\n",
       "munchkin longhair              2\n",
       "american wirehair              1\n",
       "ocicat                         1\n",
       "Name: Breed_new, dtype: int64"
      ]
     },
     "execution_count": 41,
     "metadata": {},
     "output_type": "execute_result"
    }
   ],
   "source": [
    "data.loc[data[\"Pet Type\"]=='Cat'].Breed_new.value_counts()"
   ]
  },
  {
   "cell_type": "markdown",
   "metadata": {},
   "source": [
    "Just gonna bin anything under 1000."
   ]
  },
  {
   "cell_type": "code",
   "execution_count": 42,
   "metadata": {},
   "outputs": [
    {
     "name": "stdout",
     "output_type": "stream",
     "text": [
      "219\n"
     ]
    },
    {
     "name": "stderr",
     "output_type": "stream",
     "text": [
      "<ipython-input-42-253d1cb1b992>:7: SettingWithCopyWarning: \n",
      "A value is trying to be set on a copy of a slice from a DataFrame.\n",
      "Try using .loc[row_indexer,col_indexer] = value instead\n",
      "\n",
      "See the caveats in the documentation: https://pandas.pydata.org/pandas-docs/stable/user_guide/indexing.html#returning-a-view-versus-a-copy\n",
      "  data['Breed_new']=np.where((data['Pet Type']=='Cat')&(data['Breed_new'].isin(remove_other)),'Other Cat',data['Breed_new'])\n"
     ]
    }
   ],
   "source": [
    "remove_other = []\n",
    "for i,x in data.loc[data[\"Pet Type\"]=='Cat'].Breed_new.value_counts().iteritems():\n",
    "    if x<1000:\n",
    "        remove_other.append(i)\n",
    "    else:\n",
    "        pass\n",
    "data['Breed_new']=np.where((data['Pet Type']=='Cat')&(data['Breed_new'].isin(remove_other)),'Other Cat',data['Breed_new'])\n",
    "print(len(data.Breed_new.unique()))"
   ]
  },
  {
   "cell_type": "code",
   "execution_count": 43,
   "metadata": {},
   "outputs": [
    {
     "name": "stdout",
     "output_type": "stream",
     "text": [
      "labrador retriever                6818\n",
      "chihuahua shorthair                6411\n",
      "pit bull                6174\n",
      "german shepherd                3043\n",
      "australian cattle dog                1576\n",
      "dachshund                1416\n",
      "border collie                982\n",
      "boxer                933\n",
      "miniature poodle                908\n",
      "yorkshire terrier                786\n",
      "siberian husky                734\n",
      "australian shepherd                719\n",
      "beagle                695\n",
      "great pyrenees                679\n",
      "miniature schnauzer                655\n",
      "catahoula                644\n",
      "rat terrier                637\n",
      "jack russell terrier                634\n",
      "shih tzu                593\n",
      "cairn terrier                570\n",
      "chihuahua longhair                566\n",
      "pointer                502\n",
      "rottweiler                492\n",
      "anatol shepherd                425\n",
      "staffordshire                421\n",
      "plott hound                361\n",
      "maltese                350\n",
      "american bulldog                327\n",
      "pug                309\n",
      "golden retriever                307\n",
      "black mouth cur                296\n",
      "australian kelpie                290\n",
      "miniature pinscher                249\n",
      "american pit bull terrier                244\n",
      "cocker spaniel                227\n",
      "border terrier                224\n",
      "american staffordshire terrier                219\n",
      "chow chow                208\n",
      "doberman pinsch                206\n",
      "basset hound                202\n",
      "lhasa apso                192\n",
      "cardigan welsh corgi                186\n",
      "pomeranian                181\n",
      "queensland heeler                179\n",
      "boston terrier                177\n",
      "dachshund longhair                176\n",
      "alaskan husky                170\n",
      "great dane                164\n",
      "blue lacy                157\n",
      "mastiff                148\n",
      "toy poodle                144\n",
      "chinese sharpei                144\n",
      "dachshund wirehair                144\n",
      "pekingese                138\n",
      "english bulldog                122\n",
      "collie smooth                118\n",
      "norfolk terrier                117\n",
      "rhod ridgeback                108\n",
      "manchester terrier                106\n",
      "wire hair fox terrier                100\n",
      "pembroke welsh corgi                99\n",
      "belgian malinois                99\n",
      "bull terrier                93\n",
      "flat coat retriever                91\n",
      "soft coated wheaten terrier                85\n",
      "carolina dog                83\n",
      "black/tan hound                81\n",
      "redbone hound                78\n",
      "whippet                78\n",
      "bichon frise                77\n",
      "weimaraner                72\n",
      "german shorthair pointer                70\n",
      "papillon                69\n",
      "basenji                67\n",
      "akita                66\n",
      "west highland                66\n",
      "dalmatian                64\n",
      "standard schnauzer                63\n",
      "harrier                61\n",
      "bruss griffon                61\n",
      "standard poodle                60\n",
      "vizsla                60\n",
      "norwich terrier                59\n",
      "shetland sheepdog                58\n",
      "collie rough                56\n",
      "smooth fox terrier                53\n",
      "shiba inu                52\n",
      "greyhound                51\n",
      "pbgv                51\n",
      "cavalier span                46\n",
      "bulldog                46\n",
      "parson russell terrier                45\n",
      "dutch shepherd                43\n",
      "havanese                43\n",
      "bloodhound                41\n",
      "scottish terrier                40\n",
      "welsh terrier                40\n",
      "american eskimo                37\n",
      "tibetan spaniel                37\n",
      "alaskan malamute                36\n",
      "french bulldog                35\n",
      "toy fox terrier                34\n",
      "english coonhound                34\n",
      "italian greyhound                32\n",
      "black                32\n",
      "bullmastiff                31\n",
      "treeing walker coonhound                30\n",
      "st. bernard rough coat                30\n",
      "brittany                30\n",
      "bernese mountain dog                30\n",
      "pharaoh hound                27\n",
      "dogo argentino                27\n",
      "english pointer                25\n",
      "finnish spitz                25\n",
      "airedale terrier                25\n",
      "st. bernard smooth coat                25\n",
      "bluetick hound                24\n",
      "irish terrier                24\n",
      "chesa bay retr                22\n",
      "australian terrier                22\n",
      "schnauzer giant                20\n",
      "leonberger                20\n",
      "english springer spaniel                19\n",
      "chinese crested                18\n",
      "newfoundland                17\n",
      "tibetan terrier                17\n",
      "swedish vallhund                16\n",
      "landseer                16\n",
      "silky terrier                16\n",
      "american foxhound                15\n",
      "feist                14\n",
      "german wirehaired pointer                14\n",
      "glen of imaal                14\n",
      "old english bulldog                14\n",
      "irish wolfhound                14\n",
      "bull terrier miniature                13\n",
      "beauceron                13\n",
      "samoyed                12\n",
      "cane corso                12\n",
      "nova scotia duck tolling retriever                12\n",
      "canaan dog                12\n",
      "boykin span                12\n",
      "english foxhound                11\n",
      "keeshond                11\n",
      "mexican hairless                10\n",
      "schipperke                10\n",
      "skye terrier                10\n",
      "treeing cur                10\n",
      "bearded collie                10\n",
      "picardy sheepdog                10\n",
      "english shepherd                9\n",
      "jindo                9\n",
      "patterdale terr                9\n",
      "japanese chin                8\n",
      "saluki                8\n",
      "field spaniel                8\n",
      "wirehaired pointing griffon                8\n",
      "irish setter                7\n",
      "dogue de bordeaux                7\n",
      "greater swiss mountain dog                7\n",
      "old english sheepdog                6\n",
      "ibizan hound                6\n",
      "welsh springer spaniel                6\n",
      "belgian sheepdog                6\n",
      "english cocker spaniel                6\n",
      "boerboel                6\n",
      "treeing tennesse brindle                6\n",
      "clumber spaniel                5\n",
      "affenpinscher                5\n",
      "podengo pequeno                5\n",
      "kuvasz                5\n",
      "neapolitan mastiff                5\n",
      "coton de tulear                5\n",
      "presa canario                4\n",
      "unknown                4\n",
      "english setter                4\n",
      "hovawart                4\n",
      "belgian tervuren                4\n",
      "port water dog                4\n",
      "dandie dinmont                4\n",
      "german pinscher                4\n",
      "bedlington terr                3\n",
      "otterhound                3\n",
      "afghan hound                3\n",
      "norwegian elkhound                2\n",
      "entlebucher                2\n",
      "swiss hound                2\n",
      "lakeland terrier                2\n",
      "gordon setter                2\n",
      "sussex span                2\n",
      "lowchen                2\n",
      "grand basset griffon vendeen                1\n",
      "sealyham terr                1\n",
      "akbash                1\n",
      "alaskan klee kai                1\n",
      "spanish mastiff                1\n",
      "bouv flandres                1\n",
      "tibetan mastiff                1\n",
      "eng toy spaniel                1\n",
      "spanish water dog                1\n",
      "briard                1\n",
      "dachshund stan                1\n"
     ]
    }
   ],
   "source": [
    "for i,x in data.loc[data[\"Pet Type\"]=='Dog'].Breed_new.value_counts().iteritems():\n",
    "    print(f'{i}                {x}')"
   ]
  },
  {
   "cell_type": "code",
   "execution_count": 44,
   "metadata": {},
   "outputs": [
    {
     "data": {
      "text/html": [
       "<div>\n",
       "<style scoped>\n",
       "    .dataframe tbody tr th:only-of-type {\n",
       "        vertical-align: middle;\n",
       "    }\n",
       "\n",
       "    .dataframe tbody tr th {\n",
       "        vertical-align: top;\n",
       "    }\n",
       "\n",
       "    .dataframe thead th {\n",
       "        text-align: right;\n",
       "    }\n",
       "</style>\n",
       "<table border=\"1\" class=\"dataframe\">\n",
       "  <thead>\n",
       "    <tr style=\"text-align: right;\">\n",
       "      <th></th>\n",
       "      <th>Token</th>\n",
       "      <th>Count</th>\n",
       "    </tr>\n",
       "  </thead>\n",
       "  <tbody>\n",
       "    <tr>\n",
       "      <th>7</th>\n",
       "      <td>retriever</td>\n",
       "      <td>7228</td>\n",
       "    </tr>\n",
       "    <tr>\n",
       "      <th>0</th>\n",
       "      <td>chihuahua</td>\n",
       "      <td>6977</td>\n",
       "    </tr>\n",
       "    <tr>\n",
       "      <th>6</th>\n",
       "      <td>labrador</td>\n",
       "      <td>6818</td>\n",
       "    </tr>\n",
       "    <tr>\n",
       "      <th>11</th>\n",
       "      <td>bull</td>\n",
       "      <td>6524</td>\n",
       "    </tr>\n",
       "    <tr>\n",
       "      <th>1</th>\n",
       "      <td>shorthair</td>\n",
       "      <td>6481</td>\n",
       "    </tr>\n",
       "    <tr>\n",
       "      <th>10</th>\n",
       "      <td>pit</td>\n",
       "      <td>6418</td>\n",
       "    </tr>\n",
       "    <tr>\n",
       "      <th>9</th>\n",
       "      <td>terrier</td>\n",
       "      <td>4392</td>\n",
       "    </tr>\n",
       "    <tr>\n",
       "      <th>5</th>\n",
       "      <td>shepherd</td>\n",
       "      <td>4239</td>\n",
       "    </tr>\n",
       "    <tr>\n",
       "      <th>25</th>\n",
       "      <td>german</td>\n",
       "      <td>3131</td>\n",
       "    </tr>\n",
       "    <tr>\n",
       "      <th>48</th>\n",
       "      <td>australian</td>\n",
       "      <td>2607</td>\n",
       "    </tr>\n",
       "    <tr>\n",
       "      <th>13</th>\n",
       "      <td>miniature</td>\n",
       "      <td>1825</td>\n",
       "    </tr>\n",
       "    <tr>\n",
       "      <th>18</th>\n",
       "      <td>dachshund</td>\n",
       "      <td>1737</td>\n",
       "    </tr>\n",
       "    <tr>\n",
       "      <th>50</th>\n",
       "      <td>dog</td>\n",
       "      <td>1713</td>\n",
       "    </tr>\n",
       "    <tr>\n",
       "      <th>49</th>\n",
       "      <td>cattle</td>\n",
       "      <td>1576</td>\n",
       "    </tr>\n",
       "    <tr>\n",
       "      <th>60</th>\n",
       "      <td>border</td>\n",
       "      <td>1206</td>\n",
       "    </tr>\n",
       "    <tr>\n",
       "      <th>57</th>\n",
       "      <td>collie</td>\n",
       "      <td>1166</td>\n",
       "    </tr>\n",
       "    <tr>\n",
       "      <th>14</th>\n",
       "      <td>poodle</td>\n",
       "      <td>1112</td>\n",
       "    </tr>\n",
       "    <tr>\n",
       "      <th>17</th>\n",
       "      <td>boxer</td>\n",
       "      <td>933</td>\n",
       "    </tr>\n",
       "    <tr>\n",
       "      <th>39</th>\n",
       "      <td>husky</td>\n",
       "      <td>904</td>\n",
       "    </tr>\n",
       "    <tr>\n",
       "      <th>2</th>\n",
       "      <td>great</td>\n",
       "      <td>843</td>\n",
       "    </tr>\n",
       "    <tr>\n",
       "      <th>71</th>\n",
       "      <td>american</td>\n",
       "      <td>842</td>\n",
       "    </tr>\n",
       "    <tr>\n",
       "      <th>85</th>\n",
       "      <td>yorkshire</td>\n",
       "      <td>786</td>\n",
       "    </tr>\n",
       "    <tr>\n",
       "      <th>36</th>\n",
       "      <td>hound</td>\n",
       "      <td>784</td>\n",
       "    </tr>\n",
       "    <tr>\n",
       "      <th>19</th>\n",
       "      <td>longhair</td>\n",
       "      <td>742</td>\n",
       "    </tr>\n",
       "    <tr>\n",
       "      <th>40</th>\n",
       "      <td>schnauzer</td>\n",
       "      <td>738</td>\n",
       "    </tr>\n",
       "    <tr>\n",
       "      <th>38</th>\n",
       "      <td>siberian</td>\n",
       "      <td>734</td>\n",
       "    </tr>\n",
       "    <tr>\n",
       "      <th>56</th>\n",
       "      <td>beagle</td>\n",
       "      <td>695</td>\n",
       "    </tr>\n",
       "    <tr>\n",
       "      <th>53</th>\n",
       "      <td>russell</td>\n",
       "      <td>679</td>\n",
       "    </tr>\n",
       "    <tr>\n",
       "      <th>3</th>\n",
       "      <td>pyrenees</td>\n",
       "      <td>679</td>\n",
       "    </tr>\n",
       "    <tr>\n",
       "      <th>12</th>\n",
       "      <td>catahoula</td>\n",
       "      <td>644</td>\n",
       "    </tr>\n",
       "    <tr>\n",
       "      <th>22</th>\n",
       "      <td>staffordshire</td>\n",
       "      <td>640</td>\n",
       "    </tr>\n",
       "    <tr>\n",
       "      <th>88</th>\n",
       "      <td>rat</td>\n",
       "      <td>637</td>\n",
       "    </tr>\n",
       "    <tr>\n",
       "      <th>52</th>\n",
       "      <td>jack</td>\n",
       "      <td>634</td>\n",
       "    </tr>\n",
       "    <tr>\n",
       "      <th>43</th>\n",
       "      <td>pointer</td>\n",
       "      <td>611</td>\n",
       "    </tr>\n",
       "    <tr>\n",
       "      <th>47</th>\n",
       "      <td>tzu</td>\n",
       "      <td>593</td>\n",
       "    </tr>\n",
       "    <tr>\n",
       "      <th>46</th>\n",
       "      <td>shih</td>\n",
       "      <td>593</td>\n",
       "    </tr>\n",
       "    <tr>\n",
       "      <th>8</th>\n",
       "      <td>cairn</td>\n",
       "      <td>570</td>\n",
       "    </tr>\n",
       "    <tr>\n",
       "      <th>16</th>\n",
       "      <td>bulldog</td>\n",
       "      <td>544</td>\n",
       "    </tr>\n",
       "    <tr>\n",
       "      <th>30</th>\n",
       "      <td>rottweiler</td>\n",
       "      <td>492</td>\n",
       "    </tr>\n",
       "    <tr>\n",
       "      <th>4</th>\n",
       "      <td>anatol</td>\n",
       "      <td>425</td>\n",
       "    </tr>\n",
       "  </tbody>\n",
       "</table>\n",
       "</div>"
      ],
      "text/plain": [
       "            Token  Count\n",
       "7       retriever   7228\n",
       "0       chihuahua   6977\n",
       "6        labrador   6818\n",
       "11           bull   6524\n",
       "1       shorthair   6481\n",
       "10            pit   6418\n",
       "9         terrier   4392\n",
       "5        shepherd   4239\n",
       "25         german   3131\n",
       "48     australian   2607\n",
       "13      miniature   1825\n",
       "18      dachshund   1737\n",
       "50            dog   1713\n",
       "49         cattle   1576\n",
       "60         border   1206\n",
       "57         collie   1166\n",
       "14         poodle   1112\n",
       "17          boxer    933\n",
       "39          husky    904\n",
       "2           great    843\n",
       "71       american    842\n",
       "85      yorkshire    786\n",
       "36          hound    784\n",
       "19       longhair    742\n",
       "40      schnauzer    738\n",
       "38       siberian    734\n",
       "56         beagle    695\n",
       "53        russell    679\n",
       "3        pyrenees    679\n",
       "12      catahoula    644\n",
       "22  staffordshire    640\n",
       "88            rat    637\n",
       "52           jack    634\n",
       "43        pointer    611\n",
       "47            tzu    593\n",
       "46           shih    593\n",
       "8           cairn    570\n",
       "16        bulldog    544\n",
       "30     rottweiler    492\n",
       "4          anatol    425"
      ]
     },
     "execution_count": 44,
     "metadata": {},
     "output_type": "execute_result"
    }
   ],
   "source": [
    "#token approach\n",
    "breed_dict={}\n",
    "for i in data.loc[data['Pet Type']=='Dog']['Breed_new'].values:\n",
    "    salad = word_tokenize(i)\n",
    "    for s in salad:\n",
    "        if s in breed_dict.keys():\n",
    "            breed_dict[s]=breed_dict[s]+1\n",
    "        else:\n",
    "            breed_dict[s]=1\n",
    "breed_list=[[i,x] for i,x in breed_dict.items()]\n",
    "test=pd.DataFrame(data=breed_list,columns=['Token','Count'])\n",
    "test.sort_values(by='Count',ascending=False).head(40)"
   ]
  },
  {
   "cell_type": "code",
   "execution_count": 45,
   "metadata": {},
   "outputs": [
    {
     "name": "stdout",
     "output_type": "stream",
     "text": [
      "('golden retriever', 307)\n",
      "('flat coat retriever', 91)\n",
      "('nova scotia duck tolling retriever', 12)\n"
     ]
    }
   ],
   "source": [
    "d = data.loc[data.Breed_new.str.contains('retriever')].Breed_new.value_counts().iteritems()\n",
    "next(d)\n",
    "for i in d:\n",
    "    print(i)"
   ]
  },
  {
   "cell_type": "code",
   "execution_count": 46,
   "metadata": {},
   "outputs": [
    {
     "name": "stderr",
     "output_type": "stream",
     "text": [
      "<ipython-input-46-527a9daa659b>:21: SettingWithCopyWarning: \n",
      "A value is trying to be set on a copy of a slice from a DataFrame.\n",
      "Try using .loc[row_indexer,col_indexer] = value instead\n",
      "\n",
      "See the caveats in the documentation: https://pandas.pydata.org/pandas-docs/stable/user_guide/indexing.html#returning-a-view-versus-a-copy\n",
      "  data['Breed_test']=data.Breed_new.replace(to_replace=replace_dict)\n",
      "<ipython-input-46-527a9daa659b>:23: SettingWithCopyWarning: \n",
      "A value is trying to be set on a copy of a slice from a DataFrame.\n",
      "Try using .loc[row_indexer,col_indexer] = value instead\n",
      "\n",
      "See the caveats in the documentation: https://pandas.pydata.org/pandas-docs/stable/user_guide/indexing.html#returning-a-view-versus-a-copy\n",
      "  data['Breed_test']=np.where(data['Breed_test'].isin(more_removal),'Other dog',data['Breed_test'])\n"
     ]
    },
    {
     "data": {
      "text/plain": [
       "domestic shorthair      32734\n",
       "Other dog               26623\n",
       "pit bull                 6174\n",
       "domestic medium hair     3392\n",
       "german shepherd          3043\n",
       "Other terrier            3036\n",
       "bat                      3027\n",
       "domestic longhair        1542\n",
       "dachshund                1416\n",
       "siamese                  1317\n",
       "Other Cat                1038\n",
       "boxer                     933\n",
       "miniature poodle          908\n",
       "Other miniature           904\n",
       "raccoon                   901\n",
       "Other shepherd            771\n",
       "siberian husky            734\n",
       "beagle                    695\n",
       "great pyrenees            679\n",
       "catahoula                 644\n",
       "Other                     617\n",
       "Other bull                575\n",
       "Other chihuahua           566\n",
       "pointer                   502\n",
       "Other hound               491\n",
       "Other retriever           410\n",
       "rabbit sh                 406\n",
       "guinea pig                335\n",
       "Other Bird                325\n",
       "Other dachshund           321\n",
       "opossum                   320\n",
       "Name: Breed_test, dtype: int64"
      ]
     },
     "execution_count": 46,
     "metadata": {},
     "output_type": "execute_result"
    }
   ],
   "source": [
    "replace_dict = {}\n",
    "for i in test.iterrows():\n",
    "    if i[1].Count>600:\n",
    "        val_count = data.loc[(data.Breed_new.str.contains(i[1].Token))&(data['Pet Type']=='Dog')].Breed_new.value_counts()\n",
    "        if len(val_count)>1:\n",
    "            iter_obj = val_count.iteritems()\n",
    "            next(iter_obj)\n",
    "            for x in iter_obj:\n",
    "                if x[0] not in replace_dict.keys(): #prevent multiple assignment\n",
    "                    replace_dict[x[0]]=f'Other {i[1].Token}'\n",
    "                else:\n",
    "                    pass\n",
    "    else:\n",
    "        val_count = data.loc[(data.Breed_new.str.contains(i[1].Token))&(data['Pet Type']=='Dog')].Breed_new.value_counts()\n",
    "        iter_obj = val_count.iteritems()\n",
    "        for x in iter_obj:\n",
    "            if x[0] not in replace_dict.keys(): #prevent multiple assignment\n",
    "                replace_dict[x[0]]=f'Other dog'\n",
    "            else:\n",
    "                pass\n",
    "data['Breed_test']=data.Breed_new.replace(to_replace=replace_dict)\n",
    "more_removal = [i for i,x in dict(data['Breed_test'].value_counts()).items() if x<300]\n",
    "data['Breed_test']=np.where(data['Breed_test'].isin(more_removal),'Other dog',data['Breed_test'])\n",
    "data['Breed_test'].value_counts()"
   ]
  },
  {
   "cell_type": "code",
   "execution_count": 47,
   "metadata": {},
   "outputs": [
    {
     "data": {
      "text/plain": [
       "31"
      ]
     },
     "execution_count": 47,
     "metadata": {},
     "output_type": "execute_result"
    }
   ],
   "source": [
    "len(data['Breed_test'].unique())"
   ]
  },
  {
   "cell_type": "markdown",
   "metadata": {},
   "source": [
    "Reduced \"Breed\" to 47 unique values. We could have reduced it further, but I feel I've done enough.\n",
    "\n",
    "Let's look at \"Color\" now"
   ]
  },
  {
   "cell_type": "code",
   "execution_count": 48,
   "metadata": {},
   "outputs": [
    {
     "data": {
      "text/html": [
       "<div>\n",
       "<style scoped>\n",
       "    .dataframe tbody tr th:only-of-type {\n",
       "        vertical-align: middle;\n",
       "    }\n",
       "\n",
       "    .dataframe tbody tr th {\n",
       "        vertical-align: top;\n",
       "    }\n",
       "\n",
       "    .dataframe thead th {\n",
       "        text-align: right;\n",
       "    }\n",
       "</style>\n",
       "<table border=\"1\" class=\"dataframe\">\n",
       "  <thead>\n",
       "    <tr style=\"text-align: right;\">\n",
       "      <th></th>\n",
       "      <th>Color</th>\n",
       "    </tr>\n",
       "  </thead>\n",
       "  <tbody>\n",
       "    <tr>\n",
       "      <th>count</th>\n",
       "      <td>567.000000</td>\n",
       "    </tr>\n",
       "    <tr>\n",
       "      <th>mean</th>\n",
       "      <td>168.216931</td>\n",
       "    </tr>\n",
       "    <tr>\n",
       "      <th>std</th>\n",
       "      <td>742.887193</td>\n",
       "    </tr>\n",
       "    <tr>\n",
       "      <th>min</th>\n",
       "      <td>1.000000</td>\n",
       "    </tr>\n",
       "    <tr>\n",
       "      <th>25%</th>\n",
       "      <td>1.000000</td>\n",
       "    </tr>\n",
       "    <tr>\n",
       "      <th>50%</th>\n",
       "      <td>3.000000</td>\n",
       "    </tr>\n",
       "    <tr>\n",
       "      <th>75%</th>\n",
       "      <td>25.000000</td>\n",
       "    </tr>\n",
       "    <tr>\n",
       "      <th>max</th>\n",
       "      <td>9671.000000</td>\n",
       "    </tr>\n",
       "  </tbody>\n",
       "</table>\n",
       "</div>"
      ],
      "text/plain": [
       "             Color\n",
       "count   567.000000\n",
       "mean    168.216931\n",
       "std     742.887193\n",
       "min       1.000000\n",
       "25%       1.000000\n",
       "50%       3.000000\n",
       "75%      25.000000\n",
       "max    9671.000000"
      ]
     },
     "execution_count": 48,
     "metadata": {},
     "output_type": "execute_result"
    }
   ],
   "source": [
    "color=data['Color'].value_counts().to_frame()\n",
    "color.describe()"
   ]
  },
  {
   "cell_type": "markdown",
   "metadata": {},
   "source": [
    "Another category with too many bins and too high a varianace"
   ]
  },
  {
   "cell_type": "code",
   "execution_count": 49,
   "metadata": {},
   "outputs": [
    {
     "data": {
      "text/plain": [
       "array(['Black/White', 'Black', 'Brown Tabby', 'Brown', 'White',\n",
       "       'Brown Tabby/White', 'Orange Tabby', 'Brown/White', 'Tan/White',\n",
       "       'White/Black', 'Blue/White', 'Tan', 'Tricolor', 'Black/Tan',\n",
       "       'Black/Brown', 'Tortie', 'Calico', 'Blue', 'Brown/Black',\n",
       "       'White/Brown', 'Blue Tabby', 'Orange Tabby/White', 'White/Tan',\n",
       "       'Brown Brindle/White', 'Red', 'Torbie', 'Red/White',\n",
       "       'Brown Brindle', 'Tan/Black', 'Blue Tabby/White', 'Cream Tabby',\n",
       "       'Gray', 'Chocolate/White', 'Cream', 'Lynx Point', 'Yellow',\n",
       "       'Gray/White', 'Black/Gray', 'Seal Point', 'Sable', 'White/Blue',\n",
       "       'Gray/Black', 'White/Brown Tabby', 'Buff', 'Chocolate',\n",
       "       'White/Gray', 'Cream Tabby/White', 'Black/Tricolor', 'Brown/Tan',\n",
       "       'White/Brown Brindle', 'Fawn/White', 'Gray Tabby', 'Torbie/White',\n",
       "       'Flame Point', 'Sable/White', 'Black Tabby', 'Blue Merle',\n",
       "       'White/Tricolor', 'Fawn', 'Red/Black', 'Chocolate/Tan',\n",
       "       'Cream/White', 'White/Red', 'Black Brindle/White', 'Black Smoke',\n",
       "       'White/Orange Tabby', 'Gray Tabby/White', 'Gold', 'Orange/White',\n",
       "       'Black/Black', 'Lilac Point', 'White/Cream', 'Black/Brown Brindle',\n",
       "       'Blue Merle/White', 'White/Chocolate', 'Orange', 'Brown/Tricolor',\n",
       "       'Yellow/White', 'Tan/Brown', 'Brown Merle', 'Tortie Point',\n",
       "       'Tortie/White', 'White/Orange', 'Buff/White', 'Black Brindle',\n",
       "       'Calico/White', 'Brown/Brown', 'Silver Tabby', 'Tricolor/White',\n",
       "       'Red Tick', 'Red/Tan', 'Blue/Tan', 'Blue Tick', 'White/Buff',\n",
       "       'Black Tabby/White', 'White/Blue Tabby', 'Brown Merle/White',\n",
       "       'Brown Tabby/Black', 'Black/Red', 'White/White', 'Chocolate Point',\n",
       "       'Blue Point', 'Lynx Point/White', 'Apricot', 'Seal Point/White',\n",
       "       'Blue Cream', 'Brown/Gray', 'Fawn/Black', 'Tan/Cream', 'Cream/Tan',\n",
       "       'Calico Point', 'Gold/White', 'Red Merle', 'Tricolor/Brown',\n",
       "       'Cream/Black', 'Black/Cream', 'Blue Merle/Tan', 'Red/Brown',\n",
       "       'Gray/Tan', 'Black Smoke/White', 'Silver/Tan', 'Tricolor/Black',\n",
       "       'Silver', 'Gray/Brown', 'Tan/Tan', 'Yellow Brindle/White',\n",
       "       'Brown/Red', 'Brown Brindle/Black', 'Pink', 'Sable/Tan',\n",
       "       'Tan/Gray', 'Sable/Black', 'Red Merle/White', 'Green',\n",
       "       'Tan/Silver', 'Blue Tick/Black', 'Red Tick/White',\n",
       "       'White/Cream Tabby', 'Tan/Tricolor', 'White/Blue Merle',\n",
       "       'Silver Tabby/White', 'Gray/Gray', 'Brown/Cream', 'White/Yellow',\n",
       "       'Liver/White', 'Yellow Brindle', 'Buff/Tan', 'Blue Tick/Tan',\n",
       "       'Blue Tiger/White', 'White/Liver', 'White/Fawn', 'Tortie/Black',\n",
       "       'Brown Tiger', 'Red/Cream', 'Black/Silver', 'White/Black Brindle',\n",
       "       'Gray Tabby/Black', 'Cream/Brown', 'Gray/Pink', 'White/Gray Tabby',\n",
       "       'White/Brown Merle', 'Tan/Buff', 'Buff/Black', 'Black/Blue Tick',\n",
       "       'White/Calico', 'Blue Merle/Black', 'Chocolate/Tricolor',\n",
       "       'Gray/Red', 'White/Red Tick', 'Red/Gray', 'Yellow/Black',\n",
       "       'Silver Lynx Point', 'Agouti', 'Black/Orange', 'White/Red Merle',\n",
       "       'Sable/Brown', 'Black/Blue Merle', 'Blue Tick/White',\n",
       "       'Calico/Black', 'Blue Smoke', 'Silver/Black',\n",
       "       'Black/Black Brindle', 'Green/Yellow', 'Tricolor/Tan',\n",
       "       'Brown Tiger/White', 'Black/Chocolate', 'Tortie/Blue Cream',\n",
       "       'White/Blue Tick', 'Blue Merle/Brown', 'Blue/Brown',\n",
       "       'Blue/Tricolor', 'Black Brindle/Brown', 'Brown Brindle/Brown',\n",
       "       'Chocolate Point/White', 'White/Black Tabby', 'Tan/Red',\n",
       "       'Chocolate/Brown', 'Blue/Black', 'Apricot/White', 'Gray/Orange',\n",
       "       'Tan/Fawn', 'Lilac Point/White', 'Blue/Gray', 'Silver/White',\n",
       "       'Black/Buff', 'Brown/Brown Brindle', 'Flame Point/White',\n",
       "       'Fawn/Brown', 'White/Silver', 'Blue Tick/Brown', 'Silver/Brown',\n",
       "       'Blue Tick/Tricolor', 'Calico/Brown Tabby', 'Blue Merle/Tricolor',\n",
       "       'Brown Brindle/Tan', 'Brown/Buff', 'Brown/Silver', 'Gray/Cream',\n",
       "       'Tricolor/Blue', 'Tan/Blue', 'Black/Fawn', 'Liver/Tan',\n",
       "       'Tortie Point/White', 'Black/Blue', 'Brown Tabby/Brown',\n",
       "       'Blue Cream/White', 'Black/Yellow', 'Blue Point/White',\n",
       "       'Gray/Yellow', 'Brown Merle/Tan', 'Brown/Yellow',\n",
       "       'White/Lynx Point', 'Green/Red', 'Fawn/Blue', 'Chocolate/Cream',\n",
       "       'Brown Tabby/Orange', 'Sable/Cream', 'Blue Smoke/White',\n",
       "       'Blue/Brown Brindle', 'Cream/Red', 'Calico Point/White',\n",
       "       'White/Apricot', 'Brown/Green', 'Blue/Cream', 'Buff/Gray',\n",
       "       'Fawn/Tan', 'Gray/Tortie', 'Orange Tabby/Brown', 'Blue Tiger',\n",
       "       'Green/Blue', 'Gray/Blue', 'Tricolor/Blue Merle', 'White/Gold',\n",
       "       'Brown Tabby/Tortie', 'Red/Red Tick', 'White/Yellow Brindle',\n",
       "       'Blue Tabby/Cream', 'Blue/Tortie', 'Green/Gray', 'Red/Tricolor',\n",
       "       'White/Seal Point', 'Cream/Gray', 'Gold/Black', 'Calico/Tricolor',\n",
       "       'Brown Tabby/Brown Tabby', 'Chocolate/Red', 'Gold/Brown',\n",
       "       'Gold/Tan', 'Brown/Fawn', 'Brown/Red Tick', 'Tortie/Orange',\n",
       "       'Yellow/Tan', 'Brown Tabby/Silver', 'Black/Yellow Brindle',\n",
       "       'Lynx Point/Tortie Point', 'Yellow/Gray', 'Brown Merle/Brown',\n",
       "       'Brown/Chocolate', 'White/Chocolate Point', 'Red Merle/Black',\n",
       "       'Red/Silver', 'Gray/Gold', 'Gray/Tricolor', 'Brown/Orange',\n",
       "       'Calico/Brown', 'Tricolor/Gray', 'Brown Tabby/Gray',\n",
       "       'Orange Tabby/Cream', 'Chocolate/Black', 'Black/Black Smoke',\n",
       "       'Black/Gray Tabby', 'Green/Orange', 'Seal Point/Brown', 'Liver',\n",
       "       'Blue/Blue', 'Tan/Yellow', 'Yellow/Orange', 'White/Blue Cream',\n",
       "       'Tan/Red Merle', 'Orange Tabby/Orange Tabby',\n",
       "       'Chocolate/Chocolate', 'Cream/Seal Point', 'Red Tick/Brown',\n",
       "       'Gold/Gold', 'Blue Cream/Tortie', 'Calico/Calico',\n",
       "       'Silver/Chocolate', 'Blue Merle/Blue Merle', 'Gray/Silver',\n",
       "       'Red/Buff', 'Red/Red', 'Gold/Cream', 'Orange/Black',\n",
       "       'Black Brindle/Black', 'Black Tiger', 'Blue Tick/Red Tick',\n",
       "       'Chocolate/Brown Tabby', 'White/Pink', 'White/Black Smoke',\n",
       "       'Orange Tiger', 'Tan/Brown Brindle', 'White/Tortie', 'Buff/Red',\n",
       "       'Brown Brindle/Red Tick', 'White/Liver Tick', 'Red/Yellow',\n",
       "       'Brown Merle/Black', 'Orange/Tan', 'Black/Tortie',\n",
       "       'Black/Brown Tabby', 'Green/Brown', 'Cream/Orange',\n",
       "       'Calico/Blue Cream', 'Tortie/Blue', 'Brown/Brown Tabby',\n",
       "       'Tricolor/Blue Tick', 'Blue Merle/Gray', 'Black/Pink',\n",
       "       'White/Silver Tabby', 'Red Tick/Blue Tick', 'Brown/Blue Merle',\n",
       "       'Sable/Gray', 'Brown Brindle/Brown Brindle', 'Cream/Silver',\n",
       "       'Torbie/Blue Tabby', 'Yellow/Orange Tabby', 'Tricolor/Red',\n",
       "       'Yellow/Cream', 'Red/Gold', 'Agouti/White', 'Green/White',\n",
       "       'Gray/Green', 'Brown Brindle/Blue Tick', 'Torbie/Black',\n",
       "       'Cream/Red Tick', 'Blue Merle/Red Merle', 'Tricolor/Silver',\n",
       "       'Torbie/Gray', 'Orange/Orange Tabby', 'Torbie/Brown Tabby',\n",
       "       'Torbie/Blue Cream', 'Black/Black Tabby', 'Red Tick/Tricolor',\n",
       "       'Brown Tabby/Calico', 'Blue/Yellow', 'Orange/Brown',\n",
       "       'Tricolor/Red Tick', 'Black/Brown Merle', 'Calico/Orange',\n",
       "       'Black/Gold', 'Tricolor/Chocolate', 'Tortie/Calico',\n",
       "       'Flame Point/Cream', 'Lynx Point/Gray', 'Orange Tabby/Orange',\n",
       "       'Black Tiger/White', 'Sable/Buff', 'Lilac Point/Cream',\n",
       "       'Torbie/Brown', 'Buff/Brown', 'Red Tick/Red', 'Red Tick/Tan',\n",
       "       'Black Brindle/Brown Brindle', 'Gray/Gray Tabby', 'Tan/Gold',\n",
       "       'Green/Black', 'Black/Green', 'Red/Red Merle', 'Silver/Red',\n",
       "       'Blue Tabby/Black', 'Gray/Fawn', 'Yellow/Green', 'Cream/Tricolor',\n",
       "       'Blue/Green', 'Gray Tabby/Gray', 'White/Brown Tiger',\n",
       "       'Blue/Yellow Brindle', 'Yellow/Brown', 'Liver Tick',\n",
       "       'Blue Tick/Red', 'Yellow/Red', 'Sable/Red Merle',\n",
       "       'Gray/Blue Merle', 'Orange/Blue', 'White/Black Tiger',\n",
       "       'Blue Tabby/Orange', 'Blue Tick/Brown Brindle',\n",
       "       'Tortie Point/Seal Point', 'Orange Tabby/Apricot',\n",
       "       'Black Smoke/Black Tiger', 'Yellow/Yellow', 'Tan/Cream Tabby',\n",
       "       'Yellow Brindle/Blue', 'Black Smoke/Blue Tick',\n",
       "       'Torbie/Silver Tabby', 'Chocolate/Gold', 'Tricolor/Tricolor',\n",
       "       'Black Smoke/Brown Tabby', 'Fawn/Cream', 'Gold/Gray',\n",
       "       'Orange Tabby/Black', 'Lynx Point/Blue', 'White/Flame Point',\n",
       "       'Red Merle/Brown Merle', 'Cream/Brown Merle', 'Tortie/Black Smoke',\n",
       "       'Blue Cream/Blue Tiger', 'Agouti/Gray', 'Red Merle/Tricolor',\n",
       "       'Brown Tabby/Black Brindle', 'Tortie Point/Cream',\n",
       "       'Blue Cream/Buff', 'Cream Tabby/Orange Tabby', 'Black Brindle/Tan',\n",
       "       'Black Brindle/Blue', 'Tricolor/Calico', 'Gray Tabby/Brown Tabby',\n",
       "       'Chocolate Point/Cream', 'Chocolate/Brown Brindle', 'Red/Blue',\n",
       "       'Blue Smoke/Brown', 'Gold/Yellow', 'Tortie Point/Lynx Point',\n",
       "       'Cream Tiger', 'White/Gray Tiger', 'Blue Tabby/Buff',\n",
       "       'Brown/Apricot', 'Calico Point/Lynx Point', 'Blue/Calico',\n",
       "       'Brown Tabby/Blue', 'Brown/Black Smoke', 'Blue Point/Cream',\n",
       "       'Tan/Chocolate Point', 'Brown Brindle/Blue', 'Brown/Brown Merle',\n",
       "       'Gray Tabby/Orange', 'Seal Point/Cream', 'Brown Brindle/Tricolor',\n",
       "       'Brown/Black Brindle', 'Brown/Liver', 'Blue Cream/Blue Tabby',\n",
       "       'Buff/Yellow', 'Sable/Red', 'Agouti/Cream', 'Tan/Yellow Brindle',\n",
       "       'Cream/Cream', 'Seal Point/Gray', 'Brown Merle/Chocolate',\n",
       "       'Silver/Cream', 'Chocolate/Fawn', 'Gold/Silver',\n",
       "       'Brown Tabby/Orange Tabby', 'Red Merle/Red Merle',\n",
       "       'Brown Brindle/Liver Tick', 'Tricolor/Brown Brindle',\n",
       "       'Lynx Point/Tan', 'Liver/Buff', 'Buff/Cream', 'White/Lilac Point',\n",
       "       'Lilac Point/Gray', 'Tricolor/Orange', 'White/Agouti',\n",
       "       'Chocolate/Gray', 'Calico/Gray Tabby', 'Blue/Orange',\n",
       "       'Liver Tick/White', 'Brown Brindle/Gray', 'Black/Silver Tabby',\n",
       "       'Fawn/Chocolate', 'Brown Merle/Brown Tabby', 'Liver/Liver Tick',\n",
       "       'Brown/Black Tabby', 'Red Merle/Tan', 'Silver Tabby/Black',\n",
       "       'Blue Tabby/Tan', 'Chocolate/Brown Merle', 'Silver/Blue',\n",
       "       'Cream Tabby/Orange', 'Tan/Red Tick', 'Brown/Pink',\n",
       "       'Tricolor/Cream', 'Fawn/Gray', 'Black Tabby/Orange',\n",
       "       'Fawn/Tricolor', 'Chocolate/Blue Tick', 'Silver/Gray',\n",
       "       'Blue Merle/Brown Brindle', 'Blue Merle/Cream', 'Tortie/Brown',\n",
       "       'Brown/Red Merle', 'Tricolor/Brown Merle',\n",
       "       'Orange Tabby/Tortie Point', 'Brown Brindle/Blue Cream',\n",
       "       'Tortie Point/Blue', 'Chocolate/Red Tick', 'Blue/Silver',\n",
       "       'Seal Point/Buff', 'Chocolate/Yellow', 'Lynx Point/Brown Tabby',\n",
       "       'Torbie/Calico', 'Gold/Buff', 'Yellow/Blue', 'Apricot/Brown',\n",
       "       'Tan/Blue Merle', 'Black Smoke/Chocolate', 'Red Tick/Black',\n",
       "       'White/Green', 'Blue Tabby/Blue Cream', 'Red/Brown Brindle',\n",
       "       'Cream/Blue Point', 'Red Tick/Brown Brindle',\n",
       "       'Chocolate/Liver Tick', 'Calico Point/Gray', 'Ruddy/Cream',\n",
       "       'Tan/Brown Merle', 'Black/Seal Point', 'Brown Tabby/Gray Tabby',\n",
       "       'Blue Smoke/Gray', 'Brown Tabby/Lynx Point',\n",
       "       'Brown Tabby/Black Tabby', 'Black Tabby/Gray', 'Tortie/Blue Tabby',\n",
       "       'Orange/Gray', 'Black Brindle/Blue Tick',\n",
       "       'Cream Tabby/Cream Tabby', 'Tan/Apricot', 'Black Tabby/Black',\n",
       "       'Blue Tabby/Tortie', 'Red/Green', 'Lynx Point/Gray Tabby',\n",
       "       'Gray/Buff', 'Black Smoke/Black', 'Lilac Point/Black',\n",
       "       'Black Tabby/Gray Tabby', 'Silver/Orange', 'White/Calico Point',\n",
       "       'Black Smoke/Brown', 'Brown Tiger/Brown',\n",
       "       'Silver Lynx Point/White', 'Cream/Blue', 'Lynx Point/Cream',\n",
       "       'Red Tick/Brown Merle', 'Tortie/Tortie', 'Green/Silver',\n",
       "       'Brown Brindle/Brown Merle', 'Brown/Blue', 'Agouti/Brown Tabby'],\n",
       "      dtype=object)"
      ]
     },
     "execution_count": 49,
     "metadata": {},
     "output_type": "execute_result"
    }
   ],
   "source": [
    "color.index.values"
   ]
  },
  {
   "cell_type": "markdown",
   "metadata": {},
   "source": [
    "1. Split mix colors out\n",
    "2. Identify base color based on first one listed\n",
    "3. Reduce base categories with too little data points into \"Other color\"\n"
   ]
  },
  {
   "cell_type": "code",
   "execution_count": 50,
   "metadata": {},
   "outputs": [
    {
     "name": "stderr",
     "output_type": "stream",
     "text": [
      "<ipython-input-50-123c39888756>:1: SettingWithCopyWarning: \n",
      "A value is trying to be set on a copy of a slice from a DataFrame.\n",
      "Try using .loc[row_indexer,col_indexer] = value instead\n",
      "\n",
      "See the caveats in the documentation: https://pandas.pydata.org/pandas-docs/stable/user_guide/indexing.html#returning-a-view-versus-a-copy\n",
      "  data['MixColor']=np.where(data.Color.str.contains('/'),'Mix','No Mix')\n",
      "<ipython-input-50-123c39888756>:2: SettingWithCopyWarning: \n",
      "A value is trying to be set on a copy of a slice from a DataFrame.\n",
      "Try using .loc[row_indexer,col_indexer] = value instead\n",
      "\n",
      "See the caveats in the documentation: https://pandas.pydata.org/pandas-docs/stable/user_guide/indexing.html#returning-a-view-versus-a-copy\n",
      "  data['Color_new']=np.where(data.Color.str.contains('/'),data['Color'].str.split('/').str[0],data['Color'])\n",
      "C:\\Users\\notal\\anaconda3\\lib\\site-packages\\pandas\\core\\generic.py:5494: SettingWithCopyWarning: \n",
      "A value is trying to be set on a copy of a slice from a DataFrame.\n",
      "Try using .loc[row_indexer,col_indexer] = value instead\n",
      "\n",
      "See the caveats in the documentation: https://pandas.pydata.org/pandas-docs/stable/user_guide/indexing.html#returning-a-view-versus-a-copy\n",
      "  self[name] = value\n",
      "<ipython-input-50-123c39888756>:5: SettingWithCopyWarning: \n",
      "A value is trying to be set on a copy of a slice from a DataFrame.\n",
      "Try using .loc[row_indexer,col_indexer] = value instead\n",
      "\n",
      "See the caveats in the documentation: https://pandas.pydata.org/pandas-docs/stable/user_guide/indexing.html#returning-a-view-versus-a-copy\n",
      "  data['BaseColor']=np.where(data['Color_new'].isin(more_removal),'Other color',data['Color_new'])\n"
     ]
    },
    {
     "data": {
      "text/plain": [
       "Black          24123\n",
       "Brown          21109\n",
       "White          11617\n",
       "Blue            7211\n",
       "Tan             5957\n",
       "Other color     4732\n",
       "Orange          4690\n",
       "Red             2682\n",
       "Tricolor        2300\n",
       "Gray            2172\n",
       "Tortie          2133\n",
       "Calico          1982\n",
       "Cream           1919\n",
       "Torbie          1444\n",
       "Chocolate       1308\n",
       "Name: BaseColor, dtype: int64"
      ]
     },
     "execution_count": 50,
     "metadata": {},
     "output_type": "execute_result"
    }
   ],
   "source": [
    "data['MixColor']=np.where(data.Color.str.contains('/'),'Mix','No Mix')\n",
    "data['Color_new']=np.where(data.Color.str.contains('/'),data['Color'].str.split('/').str[0],data['Color'])\n",
    "data.Color_new=data['Color_new'].str.split(' ').str[0]\n",
    "more_removal = [i for i,x in dict(data['Color_new'].value_counts()).items() if x<1000]\n",
    "data['BaseColor']=np.where(data['Color_new'].isin(more_removal),'Other color',data['Color_new'])\n",
    "data['BaseColor'].value_counts()"
   ]
  },
  {
   "cell_type": "code",
   "execution_count": 51,
   "metadata": {},
   "outputs": [
    {
     "name": "stderr",
     "output_type": "stream",
     "text": [
      "<ipython-input-51-cf7cf1225bbc>:1: SettingWithCopyWarning: \n",
      "A value is trying to be set on a copy of a slice from a DataFrame.\n",
      "Try using .loc[row_indexer,col_indexer] = value instead\n",
      "\n",
      "See the caveats in the documentation: https://pandas.pydata.org/pandas-docs/stable/user_guide/indexing.html#returning-a-view-versus-a-copy\n",
      "  data['Intake Condition']=data['Intake Condition'].replace(to_replace={'Behavior':'Other','Medical':'Injured'})\n"
     ]
    }
   ],
   "source": [
    "data['Intake Condition']=data['Intake Condition'].replace(to_replace={'Behavior':'Other','Medical':'Injured'})"
   ]
  },
  {
   "cell_type": "markdown",
   "metadata": {},
   "source": [
    "Color reduced to 25 bins. Split into two features - mix color and base color. \n",
    "\n",
    "Next steps:\n",
    "- Clean out deprecated columns\n",
    "- Engage in additional feature engineering"
   ]
  },
  {
   "cell_type": "code",
   "execution_count": 52,
   "metadata": {},
   "outputs": [
    {
     "name": "stderr",
     "output_type": "stream",
     "text": [
      "C:\\Users\\notal\\anaconda3\\lib\\site-packages\\pandas\\core\\frame.py:4441: SettingWithCopyWarning: \n",
      "A value is trying to be set on a copy of a slice from a DataFrame\n",
      "\n",
      "See the caveats in the documentation: https://pandas.pydata.org/pandas-docs/stable/user_guide/indexing.html#returning-a-view-versus-a-copy\n",
      "  return super().rename(\n"
     ]
    }
   ],
   "source": [
    "data.rename(columns={'Mix':'MixBreed','Breed_test':'BaseBreed'},inplace=True) #standardize naming of columns\n",
    "data=data[['Pet ID', 'Outcome Type', 'Sex upon Outcome', 'Name',\n",
    "       'Found Location', 'Intake Type', 'Intake Condition', 'Pet Type',\n",
    "       'Sex upon Intake', 'Age upon Intake Days',\n",
    "       'Time at Center', 'MixBreed', 'BaseBreed','MixColor', 'BaseColor']]\n"
   ]
  },
  {
   "cell_type": "markdown",
   "metadata": {},
   "source": [
    "<a id='sec-2'></a>\n",
    "## 2. Feature Engineering\n",
    "\n",
    "Ideas:\n",
    "- Spay/Neuter status\n",
    "- Spay/Neuter change status (at shelter)\n",
    "- Location by City/State\n",
    "- Name starting letter\n",
    "- Name length\n",
    "\n",
    "\n",
    "[*Back to top*](#top)"
   ]
  },
  {
   "cell_type": "code",
   "execution_count": null,
   "metadata": {},
   "outputs": [],
   "source": []
  },
  {
   "cell_type": "code",
   "execution_count": 53,
   "metadata": {},
   "outputs": [
    {
     "name": "stdout",
     "output_type": "stream",
     "text": [
      "0    75504\n",
      "1    19875\n",
      "Name: NS_intake, dtype: int64\n",
      "Male       43847\n",
      "Female     41809\n",
      "Unknown     9723\n",
      "Name: Gender, dtype: int64\n"
     ]
    }
   ],
   "source": [
    "data['NS_intake']=np.where((data['Sex upon Intake'].str.contains('Neutered'))\n",
    "                          |(data['Sex upon Intake'].str.contains('Spayed')), 1,0) #create boolean infertility on intake\n",
    "data['Gender']=data['Sex upon Intake'].str.split(' ').str[-1] #new feature\n",
    "\n",
    "print(data.NS_intake.value_counts())\n",
    "print(data.Gender.value_counts())"
   ]
  },
  {
   "cell_type": "code",
   "execution_count": 54,
   "metadata": {},
   "outputs": [
    {
     "data": {
      "text/plain": [
       "Neutered Male    30233\n",
       "Spayed Female    28123\n",
       "Intact Female    13686\n",
       "Intact Male      13614\n",
       "Unknown           9723\n",
       "Name: Sex upon Outcome, dtype: int64"
      ]
     },
     "execution_count": 54,
     "metadata": {},
     "output_type": "execute_result"
    }
   ],
   "source": [
    "data['Sex upon Outcome'].value_counts()"
   ]
  },
  {
   "cell_type": "code",
   "execution_count": 55,
   "metadata": {},
   "outputs": [
    {
     "data": {
      "text/plain": [
       "0    56898\n",
       "1    38481\n",
       "Name: NS_clinic, dtype: int64"
      ]
     },
     "execution_count": 55,
     "metadata": {},
     "output_type": "execute_result"
    }
   ],
   "source": [
    "data['NS_clinic']=np.where((data.NS_intake==0)&((data['Sex upon Outcome'].str.contains('Neutered'))\n",
    "                          |(data['Sex upon Outcome'].str.contains('Spayed'))),1,0) #new feature\n",
    "data['NS_clinic'].value_counts()"
   ]
  },
  {
   "cell_type": "code",
   "execution_count": 56,
   "metadata": {},
   "outputs": [
    {
     "data": {
      "text/plain": [
       "0                 7920 Old Lockhart in Travis (TX)\n",
       "1                    5006 Table Top in Austin (TX)\n",
       "2                  14100 Thermal Dr in Austin (TX)\n",
       "3                 5811 Cedardale Dr in Austin (TX)\n",
       "4        Highway 290 And Arterial A in Austin (TX)\n",
       "                           ...                    \n",
       "95379     Mc Callen Pass And Parmer in Austin (TX)\n",
       "95380           18706 Blake Manor Rd in Manor (TX)\n",
       "95381          1701 Congress Avenue in Austin (TX)\n",
       "95382                   5017 W. 290 in Austin (TX)\n",
       "95383                                  Austin (TX)\n",
       "Name: Found Location, Length: 95379, dtype: object"
      ]
     },
     "execution_count": 56,
     "metadata": {},
     "output_type": "execute_result"
    }
   ],
   "source": [
    "data['Found Location']"
   ]
  },
  {
   "cell_type": "markdown",
   "metadata": {},
   "source": [
    "We could input these into map api and get longitude and latitudinal data, or zip code and regionalize info.\n",
    "\n",
    "We will just extract second last element in string (city)"
   ]
  },
  {
   "cell_type": "code",
   "execution_count": 57,
   "metadata": {},
   "outputs": [
    {
     "data": {
      "text/plain": [
       "Austin          79474\n",
       "Travis           8442\n",
       "Manor            2069\n",
       "Valle            1979\n",
       "Pflugerville     1547\n",
       "Outside           605\n",
       "Leander           245\n",
       "Vista             166\n",
       "Lakeway           129\n",
       "Creedmoor         121\n",
       "Park              113\n",
       "Jonestown          92\n",
       "Ridge              72\n",
       "Webberville        55\n",
       "Bastrop            53\n",
       "Hays               45\n",
       "Rock               41\n",
       "Cave               41\n",
       "Williamson         27\n",
       "Hills              20\n",
       "Valley             14\n",
       "Venture            12\n",
       "Rollingwood         5\n",
       "Caldwell            5\n",
       "Burnet              3\n",
       "Leanna              1\n",
       "Blanco              1\n",
       "Hill                1\n",
       "Name: City, dtype: int64"
      ]
     },
     "execution_count": 57,
     "metadata": {},
     "output_type": "execute_result"
    }
   ],
   "source": [
    "data['City']=data['Found Location'].str.split(' ').str[-2]\n",
    "data.City.value_counts()"
   ]
  },
  {
   "cell_type": "code",
   "execution_count": 58,
   "metadata": {},
   "outputs": [
    {
     "data": {
      "text/plain": [
       "Austin          79474\n",
       "Travis           8442\n",
       "Manor            2069\n",
       "Valle            1979\n",
       "Other City       1867\n",
       "Pflugerville     1547\n",
       "Name: City, dtype: int64"
      ]
     },
     "execution_count": 58,
     "metadata": {},
     "output_type": "execute_result"
    }
   ],
   "source": [
    "bin_small(data,'City','Other City',threshold=1000)\n",
    "data.City.value_counts() #new feature"
   ]
  },
  {
   "cell_type": "code",
   "execution_count": 59,
   "metadata": {},
   "outputs": [],
   "source": [
    "data['FirstLetterName']=np.where(data.Name!='Unknown','Known','Unknown')"
   ]
  },
  {
   "cell_type": "markdown",
   "metadata": {},
   "source": [
    "After adding 5 new features, let's remove depreciated columns again and move on to EDA and see if any of these additional features and original features hold any value"
   ]
  },
  {
   "cell_type": "code",
   "execution_count": 60,
   "metadata": {},
   "outputs": [],
   "source": [
    "#additional cleaning\n",
    "bin_small(data,'Outcome Type','Other Outcome',threshold=2000)\n",
    "bin_small(data,'Intake Condition','Other')\n",
    "data['City'].fillna('Other City',inplace=True)"
   ]
  },
  {
   "cell_type": "code",
   "execution_count": 61,
   "metadata": {},
   "outputs": [],
   "source": [
    "data=data[['Pet ID', 'Outcome Type','Intake Type', 'Intake Condition', 'Pet Type','Age upon Intake Days', 'Time at Center',\n",
    "       'MixBreed', 'BaseBreed', 'MixColor', 'BaseColor', 'NS_intake','NS_clinic', 'City', 'Gender', 'FirstLetterName',]]"
   ]
  },
  {
   "cell_type": "markdown",
   "metadata": {},
   "source": [
    "<a id='sec-3'></a>\n",
    "\n",
    "## 3. Exploratory Data Analysis (EDA)\n",
    "- Univariate analysis of dependent variable (Time at Center)\n",
    "- Univariate analysis of discrete variable \"Age upon Intake Days\"\n",
    "- Evaluate Age feature vs. Time at Center\n",
    "- Chi-squared test of independence (Cat. vs Cat. vars)\n",
    "\n",
    "[*Back to top*](#top)"
   ]
  },
  {
   "cell_type": "markdown",
   "metadata": {},
   "source": [
    "### Univariate Analysis of \"Time at Center\" (Dependent variable, DV)"
   ]
  },
  {
   "cell_type": "code",
   "execution_count": 62,
   "metadata": {},
   "outputs": [
    {
     "data": {
      "text/plain": [
       "0    87042\n",
       "1     8337\n",
       "Name: Time at Center, dtype: int64"
      ]
     },
     "execution_count": 62,
     "metadata": {},
     "output_type": "execute_result"
    }
   ],
   "source": [
    "data['Time at Center'].value_counts()"
   ]
  },
  {
   "cell_type": "code",
   "execution_count": 63,
   "metadata": {},
   "outputs": [
    {
     "data": {
      "text/plain": [
       "<AxesSubplot:ylabel='Time at Center'>"
      ]
     },
     "execution_count": 63,
     "metadata": {},
     "output_type": "execute_result"
    },
    {
     "data": {
      "image/png": "[encoded data removed]",
      "text/plain": [
       "<Figure size 720x720 with 1 Axes>"
      ]
     },
     "metadata": {},
     "output_type": "display_data"
    }
   ],
   "source": [
    "data['Time at Center'].value_counts(normalize=True).plot(kind='pie',legend=True,autopct='%1.1f%%',figsize=(10,10))"
   ]
  },
  {
   "cell_type": "markdown",
   "metadata": {},
   "source": [
    "Around 1:10 ratio between minority and majority class"
   ]
  },
  {
   "cell_type": "markdown",
   "metadata": {},
   "source": [
    "### Age distribution\n",
    "\n",
    "We're going to take another look at the distribution of the age variable. Earlier on we noticed high standard deviation, much larger than the mean. This suggests this variable has extreme upper bound outliers"
   ]
  },
  {
   "cell_type": "code",
   "execution_count": 64,
   "metadata": {},
   "outputs": [
    {
     "data": {
      "text/plain": [
       "count    95379.000000\n",
       "mean       704.179830\n",
       "std       1052.600642\n",
       "min          0.000000\n",
       "25%         30.000000\n",
       "50%        365.000000\n",
       "75%        730.000000\n",
       "max       9125.000000\n",
       "Name: Age upon Intake Days, dtype: float64"
      ]
     },
     "execution_count": 64,
     "metadata": {},
     "output_type": "execute_result"
    }
   ],
   "source": [
    "data['Age upon Intake Days'].describe()"
   ]
  },
  {
   "cell_type": "code",
   "execution_count": 65,
   "metadata": {},
   "outputs": [
    {
     "data": {
      "text/plain": [
       "2.414008446471474"
      ]
     },
     "execution_count": 65,
     "metadata": {},
     "output_type": "execute_result"
    }
   ],
   "source": [
    "data['Age upon Intake Days'].skew()"
   ]
  },
  {
   "cell_type": "code",
   "execution_count": 66,
   "metadata": {},
   "outputs": [
    {
     "data": {
      "text/plain": [
       "6.231701370120961"
      ]
     },
     "execution_count": 66,
     "metadata": {},
     "output_type": "execute_result"
    }
   ],
   "source": [
    "data['Age upon Intake Days'].kurtosis()"
   ]
  },
  {
   "cell_type": "code",
   "execution_count": 67,
   "metadata": {},
   "outputs": [
    {
     "data": {
      "text/plain": [
       "Text(0.5, 0, 'Age (Days)')"
      ]
     },
     "execution_count": 67,
     "metadata": {},
     "output_type": "execute_result"
    },
    {
     "data": {
      "image/png": "[encoded data removed]",
      "text/plain": [
       "<Figure size 576x396 with 1 Axes>"
      ]
     },
     "metadata": {},
     "output_type": "display_data"
    }
   ],
   "source": [
    "ax = data['Age upon Intake Days'].plot(kind='hist',bins=20,title='Age Histogram 20 Bins')\n",
    "ax.set_xlabel(\"Age (Days)\")\n"
   ]
  },
  {
   "cell_type": "code",
   "execution_count": 68,
   "metadata": {},
   "outputs": [
    {
     "data": {
      "text/plain": [
       "Text(0, 0.5, 'Frequency')"
      ]
     },
     "execution_count": 68,
     "metadata": {},
     "output_type": "execute_result"
    },
    {
     "data": {
      "image/png": "[encoded data removed]",
      "text/plain": [
       "<Figure size 576x396 with 1 Axes>"
      ]
     },
     "metadata": {},
     "output_type": "display_data"
    }
   ],
   "source": [
    "ax1 =data['Age upon Intake Days'].plot(kind='box',title='Age Box Plot')\n",
    "ax1.set_ylabel('Frequency')"
   ]
  },
  {
   "cell_type": "code",
   "execution_count": 69,
   "metadata": {},
   "outputs": [
    {
     "data": {
      "text/plain": [
       "10003"
      ]
     },
     "execution_count": 69,
     "metadata": {},
     "output_type": "execute_result"
    }
   ],
   "source": [
    "data.loc[data['Age upon Intake Days']>2000].shape[0]"
   ]
  },
  {
   "cell_type": "code",
   "execution_count": 70,
   "metadata": {},
   "outputs": [
    {
     "data": {
      "text/plain": [
       "<AxesSubplot:>"
      ]
     },
     "execution_count": 70,
     "metadata": {},
     "output_type": "execute_result"
    },
    {
     "data": {
      "image/png": "[encoded data removed]",
      "text/plain": [
       "<Figure size 576x396 with 1 Axes>"
      ]
     },
     "metadata": {},
     "output_type": "display_data"
    }
   ],
   "source": [
    "data.loc[data['Age upon Intake Days']<=2000]['Age upon Intake Days'].plot(kind='box')\n",
    "# s"
   ]
  },
  {
   "cell_type": "markdown",
   "metadata": {},
   "source": [
    "Based on skew, kurtosis and graphs we can tell this variable is extremely non-normal. Even after removing the top 10% of age range, the boxplot still looks extremely skewed.\n",
    "\n",
    "We have several options.\n",
    "\n",
    "1. Remove extremely high age values \n",
    "    - 10% of dataset is over 2000 days in age\n",
    "    - 25% of dataset is under 30 days in age\n",
    "    - Different species have different longevity\n",
    "2. Bin into ordinal categorical variable\n",
    "3. Transform variable with log or boxcox transform\n",
    "\n",
    "We will not remove the high values- they can still be relevant.\n",
    "\n",
    "We will check the transformation outcomes and if that looks promising, we will use that approach. Otherwise we will bin to categorical values."
   ]
  },
  {
   "cell_type": "code",
   "execution_count": 71,
   "metadata": {},
   "outputs": [],
   "source": [
    "data['Age_Shift1']=data['Age upon Intake Days']+1"
   ]
  },
  {
   "cell_type": "code",
   "execution_count": 72,
   "metadata": {},
   "outputs": [
    {
     "data": {
      "text/plain": [
       "2"
      ]
     },
     "execution_count": 72,
     "metadata": {},
     "output_type": "execute_result"
    }
   ],
   "source": [
    "len(boxcox(data['Age_Shift1']))"
   ]
  },
  {
   "cell_type": "code",
   "execution_count": 73,
   "metadata": {},
   "outputs": [
    {
     "data": {
      "text/plain": [
       "array([ 1.48801582,  4.01057616, 11.23726824, ...,  9.37060391,\n",
       "        9.37060391,  9.37060391])"
      ]
     },
     "execution_count": 73,
     "metadata": {},
     "output_type": "execute_result"
    }
   ],
   "source": [
    "boxcox(data['Age_Shift1'])[0]"
   ]
  },
  {
   "cell_type": "code",
   "execution_count": 74,
   "metadata": {},
   "outputs": [
    {
     "data": {
      "text/plain": [
       "0.10097846918570004"
      ]
     },
     "execution_count": 74,
     "metadata": {},
     "output_type": "execute_result"
    }
   ],
   "source": [
    "boxcox(data['Age_Shift1'])[1] #lambda value of .1, close to log transformation"
   ]
  },
  {
   "cell_type": "code",
   "execution_count": 75,
   "metadata": {},
   "outputs": [
    {
     "data": {
      "text/plain": [
       "Text(0.5, 0, 'BoxCox Transform of Age (λ=.1)')"
      ]
     },
     "execution_count": 75,
     "metadata": {},
     "output_type": "execute_result"
    },
    {
     "data": {
      "image/png": "[encoded data removed]",
      "text/plain": [
       "<Figure size 576x396 with 1 Axes>"
      ]
     },
     "metadata": {},
     "output_type": "display_data"
    }
   ],
   "source": [
    "data['AgeBoxCox']=boxcox(data['Age_Shift1'])[0]\n",
    "ax2 = data['AgeBoxCox'].plot(kind='hist',bins=15, title='BoxCox Transform (Age) Historgram 15 Bin')\n",
    "ax2.set_xlabel('BoxCox Transform of Age (λ=.1)')"
   ]
  },
  {
   "cell_type": "code",
   "execution_count": 76,
   "metadata": {},
   "outputs": [
    {
     "data": {
      "text/plain": [
       "Cat      0.693252\n",
       "Dog      0.285580\n",
       "Other    0.019320\n",
       "Bird     0.001848\n",
       "Name: Pet Type, dtype: float64"
      ]
     },
     "execution_count": 76,
     "metadata": {},
     "output_type": "execute_result"
    }
   ],
   "source": [
    "data.loc[(data.AgeBoxCox>=3)&(data.AgeBoxCox<6)]['Pet Type'].value_counts(normalize=True)"
   ]
  },
  {
   "cell_type": "code",
   "execution_count": 77,
   "metadata": {},
   "outputs": [
    {
     "data": {
      "text/plain": [
       "0    23620\n",
       "1     5055\n",
       "Name: Time at Center, dtype: int64"
      ]
     },
     "execution_count": 77,
     "metadata": {},
     "output_type": "execute_result"
    }
   ],
   "source": [
    "data.loc[(data.AgeBoxCox>=3)&(data.AgeBoxCox<6)]['Time at Center'].value_counts()"
   ]
  },
  {
   "cell_type": "code",
   "execution_count": 78,
   "metadata": {},
   "outputs": [
    {
     "data": {
      "text/plain": [
       "0.17628596338273758"
      ]
     },
     "execution_count": 78,
     "metadata": {},
     "output_type": "execute_result"
    }
   ],
   "source": [
    "5055/(23620+5055)"
   ]
  },
  {
   "cell_type": "code",
   "execution_count": 79,
   "metadata": {},
   "outputs": [
    {
     "data": {
      "text/plain": [
       "Dog      0.608958\n",
       "Cat      0.272761\n",
       "Other    0.108876\n",
       "Bird     0.009406\n",
       "Name: Pet Type, dtype: float64"
      ]
     },
     "execution_count": 79,
     "metadata": {},
     "output_type": "execute_result"
    }
   ],
   "source": [
    "data.loc[(data.AgeBoxCox<=11)&(data.AgeBoxCox>6)]['Pet Type'].value_counts(normalize=True)"
   ]
  },
  {
   "cell_type": "code",
   "execution_count": 80,
   "metadata": {},
   "outputs": [
    {
     "data": {
      "text/plain": [
       "0    47571\n",
       "1     1549\n",
       "Name: Time at Center, dtype: int64"
      ]
     },
     "execution_count": 80,
     "metadata": {},
     "output_type": "execute_result"
    }
   ],
   "source": [
    "data.loc[(data.AgeBoxCox<=11)&(data.AgeBoxCox>6)]['Time at Center'].value_counts()"
   ]
  },
  {
   "cell_type": "code",
   "execution_count": 81,
   "metadata": {},
   "outputs": [
    {
     "data": {
      "text/plain": [
       "domestic shorthair      32734\n",
       "Other dog               26623\n",
       "pit bull                 6174\n",
       "domestic medium hair     3392\n",
       "german shepherd          3043\n",
       "Other terrier            3036\n",
       "bat                      3027\n",
       "domestic longhair        1542\n",
       "dachshund                1416\n",
       "siamese                  1317\n",
       "Other Cat                1038\n",
       "boxer                     933\n",
       "miniature poodle          908\n",
       "Other miniature           904\n",
       "raccoon                   901\n",
       "Other shepherd            771\n",
       "siberian husky            734\n",
       "beagle                    695\n",
       "great pyrenees            679\n",
       "catahoula                 644\n",
       "Other                     617\n",
       "Other bull                575\n",
       "Other chihuahua           566\n",
       "pointer                   502\n",
       "Other hound               491\n",
       "Other retriever           410\n",
       "rabbit sh                 406\n",
       "guinea pig                335\n",
       "Other Bird                325\n",
       "Other dachshund           321\n",
       "opossum                   320\n",
       "Name: BaseBreed, dtype: int64"
      ]
     },
     "execution_count": 81,
     "metadata": {},
     "output_type": "execute_result"
    }
   ],
   "source": [
    "data.BaseBreed.value_counts()"
   ]
  },
  {
   "cell_type": "code",
   "execution_count": 82,
   "metadata": {},
   "outputs": [],
   "source": [
    "data['BaseBreed']=data['BaseBreed'].replace(to_replace={'fox':'Other','opossum':'Other','chicken':'Other','skunk':'Other','squirrel':'Other','Other german':'Other dog','Other pit':'Other dog','Other spaniel':'Other dog'})"
   ]
  },
  {
   "cell_type": "markdown",
   "metadata": {},
   "source": [
    "Big difference in time spent at center vs. age just based on this investigation.\n",
    "\n",
    "We will leave the age variable as is for now and revisit changing it as a feature later."
   ]
  },
  {
   "cell_type": "code",
   "execution_count": 83,
   "metadata": {},
   "outputs": [
    {
     "name": "stdout",
     "output_type": "stream",
     "text": [
      "Outcome Type\n",
      "[]\n",
      "Intake Type\n",
      "[]\n",
      "Intake Condition\n",
      "[]\n",
      "Pet Type\n",
      "[]\n",
      "MixBreed\n",
      "[]\n",
      "BaseBreed\n",
      "[]\n",
      "MixColor\n",
      "[]\n",
      "BaseColor\n",
      "[]\n",
      "NS_intake\n",
      "[]\n",
      "NS_clinic\n",
      "[]\n",
      "City\n",
      "[]\n",
      "Gender\n",
      "[]\n",
      "FirstLetterName\n",
      "[]\n"
     ]
    }
   ],
   "source": [
    "cat_var = ['Outcome Type', 'Intake Type', 'Intake Condition',\n",
    "       'Pet Type', 'MixBreed','BaseBreed', 'MixColor', 'BaseColor', 'NS_intake', 'NS_clinic',\n",
    "       'City', 'Gender', 'FirstLetterName']\n",
    "min_class = data.loc[data['Time at Center']==1]\n",
    "maj_class = data.loc[data['Time at Center']!=1]\n",
    "cat={}\n",
    "for i in cat_var:\n",
    "    min_unq=min_class[i].unique()\n",
    "    maj_unq=maj_class[i].unique()\n",
    "    cat[i]= [i for i in maj_unq if i not in min_unq]\n",
    "    print(i)\n",
    "    print(cat[i])"
   ]
  },
  {
   "cell_type": "markdown",
   "metadata": {},
   "source": [
    "### Chi-squared test of independence"
   ]
  },
  {
   "cell_type": "code",
   "execution_count": 84,
   "metadata": {},
   "outputs": [
    {
     "data": {
      "text/plain": [
       "domestic shorthair      32734\n",
       "Other dog               26623\n",
       "pit bull                 6174\n",
       "domestic medium hair     3392\n",
       "german shepherd          3043\n",
       "Other terrier            3036\n",
       "bat                      3027\n",
       "domestic longhair        1542\n",
       "dachshund                1416\n",
       "siamese                  1317\n",
       "Other Cat                1038\n",
       "Other                     937\n",
       "boxer                     933\n",
       "miniature poodle          908\n",
       "Other miniature           904\n",
       "raccoon                   901\n",
       "Other shepherd            771\n",
       "siberian husky            734\n",
       "beagle                    695\n",
       "great pyrenees            679\n",
       "catahoula                 644\n",
       "Other bull                575\n",
       "Other chihuahua           566\n",
       "pointer                   502\n",
       "Other hound               491\n",
       "Other retriever           410\n",
       "rabbit sh                 406\n",
       "guinea pig                335\n",
       "Other Bird                325\n",
       "Other dachshund           321\n",
       "Name: BaseBreed, dtype: int64"
      ]
     },
     "execution_count": 84,
     "metadata": {},
     "output_type": "execute_result"
    }
   ],
   "source": [
    "data['BaseBreed'].value_counts()"
   ]
  },
  {
   "cell_type": "code",
   "execution_count": 85,
   "metadata": {},
   "outputs": [
    {
     "name": "stdout",
     "output_type": "stream",
     "text": [
      "Variable :Outcome Type    |   Power_divergenceResult(statistic=913.2837073772163, pvalue=2.205405600059767e-196)\n",
      "Variable :Intake Type    |   Power_divergenceResult(statistic=102.82857070229268, pvalue=1.338618417735696e-20)\n",
      "Variable :Intake Condition    |   Power_divergenceResult(statistic=80.37589165542211, pvalue=7.001823051421173e-16)\n",
      "Variable :Pet Type    |   Power_divergenceResult(statistic=401.8491630162222, pvalue=8.802606789253185e-87)\n",
      "Variable :MixBreed    |   Power_divergenceResult(statistic=0.7293733224413583, pvalue=0.3930863945144193)\n",
      "Variable :BaseBreed    |   Power_divergenceResult(statistic=407.79202205758276, pvalue=1.9598769928700066e-68)\n",
      "Variable :MixColor    |   Power_divergenceResult(statistic=18.506659836065573, pvalue=1.6931164462656138e-05)\n",
      "Variable :BaseColor    |   Power_divergenceResult(statistic=124.99941470857141, pvalue=6.572093180896353e-20)\n",
      "Variable :NS_intake    |   Power_divergenceResult(statistic=65.90957084868252, pvalue=4.720936121503803e-16)\n",
      "Variable :NS_clinic    |   Power_divergenceResult(statistic=835.2928486678892, pvalue=1.145420156246788e-183)\n",
      "Variable :City    |   Power_divergenceResult(statistic=1.6070746480410345, pvalue=0.9003924878006849)\n",
      "Variable :Gender    |   Power_divergenceResult(statistic=120.473867768948, pvalue=6.909267499954258e-27)\n",
      "Variable :FirstLetterName    |   Power_divergenceResult(statistic=241.60551756268825, pvalue=1.756450016431544e-54)\n"
     ]
    }
   ],
   "source": [
    "cat_var = ['Outcome Type', 'Intake Type', 'Intake Condition',\n",
    "       'Pet Type', 'MixBreed','BaseBreed', 'MixColor', 'BaseColor', 'NS_intake', 'NS_clinic',\n",
    "       'City', 'Gender', 'FirstLetterName',]\n",
    "min_class = data.loc[data['Time at Center']==1]\n",
    "maj_class = data.loc[data['Time at Center']!=1]\n",
    "for i in cat_var:\n",
    "    min_class_dict = min_class[i].value_counts(normalize=True)*1000\n",
    "    min_dict=[round(x) for i,x in sorted(min_class_dict.items(),key=lambda item:item[0])]\n",
    "    maj_class_dict = maj_class[i].value_counts(normalize=True)*1000\n",
    "    maj_dict=[round(x) for i,x in sorted(maj_class_dict.items(),key=lambda item:item[0])]\n",
    "    print(f'Variable :{i}    |   {chisquare(min_dict,maj_dict)}')"
   ]
  },
  {
   "cell_type": "markdown",
   "metadata": {},
   "source": [
    "City and MixBreed had highest pvalues."
   ]
  },
  {
   "cell_type": "code",
   "execution_count": 86,
   "metadata": {},
   "outputs": [
    {
     "data": {
      "text/plain": [
       "932"
      ]
     },
     "execution_count": 86,
     "metadata": {},
     "output_type": "execute_result"
    }
   ],
   "source": [
    "list(min_class.NS_intake.value_counts())[-1]"
   ]
  },
  {
   "cell_type": "code",
   "execution_count": 87,
   "metadata": {},
   "outputs": [
    {
     "data": {
      "text/html": [
       "<div>\n",
       "<style scoped>\n",
       "    .dataframe tbody tr th:only-of-type {\n",
       "        vertical-align: middle;\n",
       "    }\n",
       "\n",
       "    .dataframe tbody tr th {\n",
       "        vertical-align: top;\n",
       "    }\n",
       "\n",
       "    .dataframe thead th {\n",
       "        text-align: right;\n",
       "    }\n",
       "</style>\n",
       "<table border=\"1\" class=\"dataframe\">\n",
       "  <thead>\n",
       "    <tr style=\"text-align: right;\">\n",
       "      <th></th>\n",
       "      <th>Column</th>\n",
       "      <th>Class</th>\n",
       "      <th>Mode</th>\n",
       "      <th>Mode%</th>\n",
       "      <th>BinNumber</th>\n",
       "      <th>Min</th>\n",
       "      <th>Min%</th>\n",
       "    </tr>\n",
       "  </thead>\n",
       "  <tbody>\n",
       "    <tr>\n",
       "      <th>0</th>\n",
       "      <td>Outcome Type</td>\n",
       "      <td>All</td>\n",
       "      <td>Adoption</td>\n",
       "      <td>41.7</td>\n",
       "      <td>5</td>\n",
       "      <td>Other Outcome</td>\n",
       "      <td>2.1</td>\n",
       "    </tr>\n",
       "    <tr>\n",
       "      <th>1</th>\n",
       "      <td>Outcome Type</td>\n",
       "      <td>Min</td>\n",
       "      <td>Adoption</td>\n",
       "      <td>83.8</td>\n",
       "      <td>5</td>\n",
       "      <td>Euthanasia</td>\n",
       "      <td>1.1</td>\n",
       "    </tr>\n",
       "    <tr>\n",
       "      <th>2</th>\n",
       "      <td>Outcome Type</td>\n",
       "      <td>Maj</td>\n",
       "      <td>Adoption</td>\n",
       "      <td>37.6</td>\n",
       "      <td>5</td>\n",
       "      <td>Other Outcome</td>\n",
       "      <td>2.2</td>\n",
       "    </tr>\n",
       "    <tr>\n",
       "      <th>3</th>\n",
       "      <td>Intake Type</td>\n",
       "      <td>All</td>\n",
       "      <td>Stray</td>\n",
       "      <td>73.5</td>\n",
       "      <td>6</td>\n",
       "      <td>Abandoned</td>\n",
       "      <td>0.1</td>\n",
       "    </tr>\n",
       "    <tr>\n",
       "      <th>4</th>\n",
       "      <td>Intake Type</td>\n",
       "      <td>Min</td>\n",
       "      <td>Stray</td>\n",
       "      <td>85.1</td>\n",
       "      <td>6</td>\n",
       "      <td>Euthanasia Request</td>\n",
       "      <td>0.0</td>\n",
       "    </tr>\n",
       "    <tr>\n",
       "      <th>5</th>\n",
       "      <td>Intake Type</td>\n",
       "      <td>Maj</td>\n",
       "      <td>Stray</td>\n",
       "      <td>72.4</td>\n",
       "      <td>6</td>\n",
       "      <td>Abandoned</td>\n",
       "      <td>0.1</td>\n",
       "    </tr>\n",
       "    <tr>\n",
       "      <th>6</th>\n",
       "      <td>Intake Condition</td>\n",
       "      <td>All</td>\n",
       "      <td>Normal</td>\n",
       "      <td>85.8</td>\n",
       "      <td>6</td>\n",
       "      <td>Other</td>\n",
       "      <td>0.4</td>\n",
       "    </tr>\n",
       "    <tr>\n",
       "      <th>7</th>\n",
       "      <td>Intake Condition</td>\n",
       "      <td>Min</td>\n",
       "      <td>Normal</td>\n",
       "      <td>85.1</td>\n",
       "      <td>6</td>\n",
       "      <td>Aged</td>\n",
       "      <td>0.1</td>\n",
       "    </tr>\n",
       "    <tr>\n",
       "      <th>8</th>\n",
       "      <td>Intake Condition</td>\n",
       "      <td>Maj</td>\n",
       "      <td>Normal</td>\n",
       "      <td>85.8</td>\n",
       "      <td>6</td>\n",
       "      <td>Other</td>\n",
       "      <td>0.4</td>\n",
       "    </tr>\n",
       "    <tr>\n",
       "      <th>9</th>\n",
       "      <td>Pet Type</td>\n",
       "      <td>All</td>\n",
       "      <td>Dog</td>\n",
       "      <td>51.0</td>\n",
       "      <td>4</td>\n",
       "      <td>Bird</td>\n",
       "      <td>0.6</td>\n",
       "    </tr>\n",
       "    <tr>\n",
       "      <th>10</th>\n",
       "      <td>Pet Type</td>\n",
       "      <td>Min</td>\n",
       "      <td>Cat</td>\n",
       "      <td>69.7</td>\n",
       "      <td>4</td>\n",
       "      <td>Bird</td>\n",
       "      <td>0.0</td>\n",
       "    </tr>\n",
       "    <tr>\n",
       "      <th>11</th>\n",
       "      <td>Pet Type</td>\n",
       "      <td>Maj</td>\n",
       "      <td>Dog</td>\n",
       "      <td>53.1</td>\n",
       "      <td>4</td>\n",
       "      <td>Bird</td>\n",
       "      <td>0.6</td>\n",
       "    </tr>\n",
       "    <tr>\n",
       "      <th>12</th>\n",
       "      <td>MixBreed</td>\n",
       "      <td>All</td>\n",
       "      <td>Mix</td>\n",
       "      <td>83.6</td>\n",
       "      <td>2</td>\n",
       "      <td>Not</td>\n",
       "      <td>16.4</td>\n",
       "    </tr>\n",
       "    <tr>\n",
       "      <th>13</th>\n",
       "      <td>MixBreed</td>\n",
       "      <td>Min</td>\n",
       "      <td>Mix</td>\n",
       "      <td>84.6</td>\n",
       "      <td>2</td>\n",
       "      <td>Not</td>\n",
       "      <td>15.4</td>\n",
       "    </tr>\n",
       "    <tr>\n",
       "      <th>14</th>\n",
       "      <td>MixBreed</td>\n",
       "      <td>Maj</td>\n",
       "      <td>Mix</td>\n",
       "      <td>83.6</td>\n",
       "      <td>2</td>\n",
       "      <td>Not</td>\n",
       "      <td>16.4</td>\n",
       "    </tr>\n",
       "    <tr>\n",
       "      <th>15</th>\n",
       "      <td>BaseBreed</td>\n",
       "      <td>All</td>\n",
       "      <td>domestic shorthair</td>\n",
       "      <td>34.3</td>\n",
       "      <td>30</td>\n",
       "      <td>Other dachshund</td>\n",
       "      <td>0.3</td>\n",
       "    </tr>\n",
       "    <tr>\n",
       "      <th>16</th>\n",
       "      <td>BaseBreed</td>\n",
       "      <td>Min</td>\n",
       "      <td>domestic shorthair</td>\n",
       "      <td>57.9</td>\n",
       "      <td>30</td>\n",
       "      <td>guinea pig</td>\n",
       "      <td>0.0</td>\n",
       "    </tr>\n",
       "    <tr>\n",
       "      <th>17</th>\n",
       "      <td>BaseBreed</td>\n",
       "      <td>Maj</td>\n",
       "      <td>domestic shorthair</td>\n",
       "      <td>32.1</td>\n",
       "      <td>30</td>\n",
       "      <td>Other dachshund</td>\n",
       "      <td>0.3</td>\n",
       "    </tr>\n",
       "    <tr>\n",
       "      <th>18</th>\n",
       "      <td>MixColor</td>\n",
       "      <td>All</td>\n",
       "      <td>Mix</td>\n",
       "      <td>50.6</td>\n",
       "      <td>2</td>\n",
       "      <td>No Mix</td>\n",
       "      <td>49.4</td>\n",
       "    </tr>\n",
       "    <tr>\n",
       "      <th>19</th>\n",
       "      <td>MixColor</td>\n",
       "      <td>Min</td>\n",
       "      <td>No Mix</td>\n",
       "      <td>55.6</td>\n",
       "      <td>2</td>\n",
       "      <td>Mix</td>\n",
       "      <td>44.4</td>\n",
       "    </tr>\n",
       "    <tr>\n",
       "      <th>20</th>\n",
       "      <td>MixColor</td>\n",
       "      <td>Maj</td>\n",
       "      <td>Mix</td>\n",
       "      <td>51.2</td>\n",
       "      <td>2</td>\n",
       "      <td>No Mix</td>\n",
       "      <td>48.8</td>\n",
       "    </tr>\n",
       "    <tr>\n",
       "      <th>21</th>\n",
       "      <td>BaseColor</td>\n",
       "      <td>All</td>\n",
       "      <td>Black</td>\n",
       "      <td>25.3</td>\n",
       "      <td>15</td>\n",
       "      <td>Chocolate</td>\n",
       "      <td>1.4</td>\n",
       "    </tr>\n",
       "    <tr>\n",
       "      <th>22</th>\n",
       "      <td>BaseColor</td>\n",
       "      <td>Min</td>\n",
       "      <td>Black</td>\n",
       "      <td>27.7</td>\n",
       "      <td>15</td>\n",
       "      <td>Gray</td>\n",
       "      <td>0.5</td>\n",
       "    </tr>\n",
       "    <tr>\n",
       "      <th>23</th>\n",
       "      <td>BaseColor</td>\n",
       "      <td>Maj</td>\n",
       "      <td>Black</td>\n",
       "      <td>25.1</td>\n",
       "      <td>15</td>\n",
       "      <td>Torbie</td>\n",
       "      <td>1.4</td>\n",
       "    </tr>\n",
       "    <tr>\n",
       "      <th>24</th>\n",
       "      <td>NS_intake</td>\n",
       "      <td>All</td>\n",
       "      <td>0</td>\n",
       "      <td>79.2</td>\n",
       "      <td>2</td>\n",
       "      <td>1</td>\n",
       "      <td>20.8</td>\n",
       "    </tr>\n",
       "    <tr>\n",
       "      <th>25</th>\n",
       "      <td>NS_intake</td>\n",
       "      <td>Min</td>\n",
       "      <td>0</td>\n",
       "      <td>88.8</td>\n",
       "      <td>2</td>\n",
       "      <td>1</td>\n",
       "      <td>11.2</td>\n",
       "    </tr>\n",
       "    <tr>\n",
       "      <th>26</th>\n",
       "      <td>NS_intake</td>\n",
       "      <td>Maj</td>\n",
       "      <td>0</td>\n",
       "      <td>78.2</td>\n",
       "      <td>2</td>\n",
       "      <td>1</td>\n",
       "      <td>21.8</td>\n",
       "    </tr>\n",
       "    <tr>\n",
       "      <th>27</th>\n",
       "      <td>NS_clinic</td>\n",
       "      <td>All</td>\n",
       "      <td>0</td>\n",
       "      <td>59.7</td>\n",
       "      <td>2</td>\n",
       "      <td>1</td>\n",
       "      <td>40.3</td>\n",
       "    </tr>\n",
       "    <tr>\n",
       "      <th>28</th>\n",
       "      <td>NS_clinic</td>\n",
       "      <td>Min</td>\n",
       "      <td>1</td>\n",
       "      <td>19.5</td>\n",
       "      <td>2</td>\n",
       "      <td>0</td>\n",
       "      <td>19.5</td>\n",
       "    </tr>\n",
       "    <tr>\n",
       "      <th>29</th>\n",
       "      <td>NS_clinic</td>\n",
       "      <td>Maj</td>\n",
       "      <td>0</td>\n",
       "      <td>63.5</td>\n",
       "      <td>2</td>\n",
       "      <td>1</td>\n",
       "      <td>36.5</td>\n",
       "    </tr>\n",
       "    <tr>\n",
       "      <th>30</th>\n",
       "      <td>City</td>\n",
       "      <td>All</td>\n",
       "      <td>Austin</td>\n",
       "      <td>83.3</td>\n",
       "      <td>6</td>\n",
       "      <td>Pflugerville</td>\n",
       "      <td>1.6</td>\n",
       "    </tr>\n",
       "    <tr>\n",
       "      <th>31</th>\n",
       "      <td>City</td>\n",
       "      <td>Min</td>\n",
       "      <td>Austin</td>\n",
       "      <td>83.1</td>\n",
       "      <td>6</td>\n",
       "      <td>Other City</td>\n",
       "      <td>1.6</td>\n",
       "    </tr>\n",
       "    <tr>\n",
       "      <th>32</th>\n",
       "      <td>City</td>\n",
       "      <td>Maj</td>\n",
       "      <td>Austin</td>\n",
       "      <td>83.3</td>\n",
       "      <td>6</td>\n",
       "      <td>Pflugerville</td>\n",
       "      <td>1.6</td>\n",
       "    </tr>\n",
       "    <tr>\n",
       "      <th>33</th>\n",
       "      <td>Gender</td>\n",
       "      <td>All</td>\n",
       "      <td>Male</td>\n",
       "      <td>46.0</td>\n",
       "      <td>3</td>\n",
       "      <td>Unknown</td>\n",
       "      <td>10.2</td>\n",
       "    </tr>\n",
       "    <tr>\n",
       "      <th>34</th>\n",
       "      <td>Gender</td>\n",
       "      <td>Min</td>\n",
       "      <td>Male</td>\n",
       "      <td>50.3</td>\n",
       "      <td>3</td>\n",
       "      <td>Unknown</td>\n",
       "      <td>0.2</td>\n",
       "    </tr>\n",
       "    <tr>\n",
       "      <th>35</th>\n",
       "      <td>Gender</td>\n",
       "      <td>Maj</td>\n",
       "      <td>Male</td>\n",
       "      <td>45.6</td>\n",
       "      <td>3</td>\n",
       "      <td>Unknown</td>\n",
       "      <td>11.1</td>\n",
       "    </tr>\n",
       "    <tr>\n",
       "      <th>36</th>\n",
       "      <td>FirstLetterName</td>\n",
       "      <td>All</td>\n",
       "      <td>Known</td>\n",
       "      <td>61.9</td>\n",
       "      <td>2</td>\n",
       "      <td>Unknown</td>\n",
       "      <td>38.1</td>\n",
       "    </tr>\n",
       "    <tr>\n",
       "      <th>37</th>\n",
       "      <td>FirstLetterName</td>\n",
       "      <td>Min</td>\n",
       "      <td>Known</td>\n",
       "      <td>83.9</td>\n",
       "      <td>2</td>\n",
       "      <td>Unknown</td>\n",
       "      <td>16.1</td>\n",
       "    </tr>\n",
       "    <tr>\n",
       "      <th>38</th>\n",
       "      <td>FirstLetterName</td>\n",
       "      <td>Maj</td>\n",
       "      <td>Known</td>\n",
       "      <td>59.8</td>\n",
       "      <td>2</td>\n",
       "      <td>Unknown</td>\n",
       "      <td>40.2</td>\n",
       "    </tr>\n",
       "  </tbody>\n",
       "</table>\n",
       "</div>"
      ],
      "text/plain": [
       "              Column Class                Mode  Mode%  BinNumber  \\\n",
       "0       Outcome Type   All            Adoption   41.7          5   \n",
       "1       Outcome Type   Min            Adoption   83.8          5   \n",
       "2       Outcome Type   Maj            Adoption   37.6          5   \n",
       "3        Intake Type   All               Stray   73.5          6   \n",
       "4        Intake Type   Min               Stray   85.1          6   \n",
       "5        Intake Type   Maj               Stray   72.4          6   \n",
       "6   Intake Condition   All              Normal   85.8          6   \n",
       "7   Intake Condition   Min              Normal   85.1          6   \n",
       "8   Intake Condition   Maj              Normal   85.8          6   \n",
       "9           Pet Type   All                 Dog   51.0          4   \n",
       "10          Pet Type   Min                 Cat   69.7          4   \n",
       "11          Pet Type   Maj                 Dog   53.1          4   \n",
       "12          MixBreed   All                 Mix   83.6          2   \n",
       "13          MixBreed   Min                 Mix   84.6          2   \n",
       "14          MixBreed   Maj                 Mix   83.6          2   \n",
       "15         BaseBreed   All  domestic shorthair   34.3         30   \n",
       "16         BaseBreed   Min  domestic shorthair   57.9         30   \n",
       "17         BaseBreed   Maj  domestic shorthair   32.1         30   \n",
       "18          MixColor   All                 Mix   50.6          2   \n",
       "19          MixColor   Min              No Mix   55.6          2   \n",
       "20          MixColor   Maj                 Mix   51.2          2   \n",
       "21         BaseColor   All               Black   25.3         15   \n",
       "22         BaseColor   Min               Black   27.7         15   \n",
       "23         BaseColor   Maj               Black   25.1         15   \n",
       "24         NS_intake   All                   0   79.2          2   \n",
       "25         NS_intake   Min                   0   88.8          2   \n",
       "26         NS_intake   Maj                   0   78.2          2   \n",
       "27         NS_clinic   All                   0   59.7          2   \n",
       "28         NS_clinic   Min                   1   19.5          2   \n",
       "29         NS_clinic   Maj                   0   63.5          2   \n",
       "30              City   All              Austin   83.3          6   \n",
       "31              City   Min              Austin   83.1          6   \n",
       "32              City   Maj              Austin   83.3          6   \n",
       "33            Gender   All                Male   46.0          3   \n",
       "34            Gender   Min                Male   50.3          3   \n",
       "35            Gender   Maj                Male   45.6          3   \n",
       "36   FirstLetterName   All               Known   61.9          2   \n",
       "37   FirstLetterName   Min               Known   83.9          2   \n",
       "38   FirstLetterName   Maj               Known   59.8          2   \n",
       "\n",
       "                   Min  Min%  \n",
       "0        Other Outcome   2.1  \n",
       "1           Euthanasia   1.1  \n",
       "2        Other Outcome   2.2  \n",
       "3            Abandoned   0.1  \n",
       "4   Euthanasia Request   0.0  \n",
       "5            Abandoned   0.1  \n",
       "6                Other   0.4  \n",
       "7                 Aged   0.1  \n",
       "8                Other   0.4  \n",
       "9                 Bird   0.6  \n",
       "10                Bird   0.0  \n",
       "11                Bird   0.6  \n",
       "12                 Not  16.4  \n",
       "13                 Not  15.4  \n",
       "14                 Not  16.4  \n",
       "15     Other dachshund   0.3  \n",
       "16          guinea pig   0.0  \n",
       "17     Other dachshund   0.3  \n",
       "18              No Mix  49.4  \n",
       "19                 Mix  44.4  \n",
       "20              No Mix  48.8  \n",
       "21           Chocolate   1.4  \n",
       "22                Gray   0.5  \n",
       "23              Torbie   1.4  \n",
       "24                   1  20.8  \n",
       "25                   1  11.2  \n",
       "26                   1  21.8  \n",
       "27                   1  40.3  \n",
       "28                   0  19.5  \n",
       "29                   1  36.5  \n",
       "30        Pflugerville   1.6  \n",
       "31          Other City   1.6  \n",
       "32        Pflugerville   1.6  \n",
       "33             Unknown  10.2  \n",
       "34             Unknown   0.2  \n",
       "35             Unknown  11.1  \n",
       "36             Unknown  38.1  \n",
       "37             Unknown  16.1  \n",
       "38             Unknown  40.2  "
      ]
     },
     "execution_count": 87,
     "metadata": {},
     "output_type": "execute_result"
    }
   ],
   "source": [
    "#most frequent bin\n",
    "#% of most frequent bin\n",
    "#Number of bins\n",
    "#smallest bin\n",
    "#small bin % frequency\n",
    "col = ['Column']\n",
    "data_in=[]\n",
    "for i in cat_var:\n",
    "    for count,df in enumerate([data,min_class,maj_class]):\n",
    "        if count==0:\n",
    "            pref = 'All'\n",
    "        elif count==1:\n",
    "            pref = 'Min'\n",
    "        elif count==2:\n",
    "            pref='Maj'\n",
    "        row = [i,pref]\n",
    "        val_counts = df[i].value_counts(normalize=True)\n",
    "        mfb=val_counts.index[0]\n",
    "        pmfb=val_counts[0]\n",
    "        row.append(mfb)\n",
    "        row.append(round(pmfb*100,1))\n",
    "        row.append(len(val_counts))\n",
    "        row.append(val_counts.index[-1])\n",
    "        row.append(round(list(val_counts)[-1]*100,1))\n",
    "        data_in.append(row)\n",
    "col.append('Class')\n",
    "col.append('Mode')\n",
    "col.append('Mode%')\n",
    "col.append('BinNumber')\n",
    "col.append('Min')\n",
    "col.append('Min%')\n",
    "cat_summ = pd.DataFrame(data=data_in,columns=col)\n",
    "cat_summ"
   ]
  },
  {
   "cell_type": "code",
   "execution_count": 88,
   "metadata": {},
   "outputs": [
    {
     "data": {
      "text/html": [
       "<div>\n",
       "<style scoped>\n",
       "    .dataframe tbody tr th:only-of-type {\n",
       "        vertical-align: middle;\n",
       "    }\n",
       "\n",
       "    .dataframe tbody tr th {\n",
       "        vertical-align: top;\n",
       "    }\n",
       "\n",
       "    .dataframe thead th {\n",
       "        text-align: right;\n",
       "    }\n",
       "</style>\n",
       "<table border=\"1\" class=\"dataframe\">\n",
       "  <thead>\n",
       "    <tr style=\"text-align: right;\">\n",
       "      <th></th>\n",
       "      <th>Outcome Type</th>\n",
       "    </tr>\n",
       "  </thead>\n",
       "  <tbody>\n",
       "    <tr>\n",
       "      <th>Adoption</th>\n",
       "      <td>39734</td>\n",
       "    </tr>\n",
       "    <tr>\n",
       "      <th>Transfer</th>\n",
       "      <td>32299</td>\n",
       "    </tr>\n",
       "    <tr>\n",
       "      <th>Return to Owner</th>\n",
       "      <td>13719</td>\n",
       "    </tr>\n",
       "    <tr>\n",
       "      <th>Euthanasia</th>\n",
       "      <td>7630</td>\n",
       "    </tr>\n",
       "    <tr>\n",
       "      <th>Other Outcome</th>\n",
       "      <td>1997</td>\n",
       "    </tr>\n",
       "  </tbody>\n",
       "</table>\n",
       "</div>"
      ],
      "text/plain": [
       "                 Outcome Type\n",
       "Adoption                39734\n",
       "Transfer                32299\n",
       "Return to Owner         13719\n",
       "Euthanasia               7630\n",
       "Other Outcome            1997"
      ]
     },
     "execution_count": 88,
     "metadata": {},
     "output_type": "execute_result"
    }
   ],
   "source": [
    "all_df = data['Outcome Type'].value_counts().to_frame()\n",
    "all_df"
   ]
  },
  {
   "cell_type": "code",
   "execution_count": 89,
   "metadata": {},
   "outputs": [
    {
     "data": {
      "application/vnd.jupyter.widget-view+json": {
       "model_id": "fcbd026df09f4d479651ec7fe9258500",
       "version_major": 2,
       "version_minor": 0
      },
      "text/plain": [
       "interactive(children=(Dropdown(description='cat', options=('Outcome Type', 'Intake Type', 'Intake Condition', …"
      ]
     },
     "metadata": {},
     "output_type": "display_data"
    }
   ],
   "source": [
    "from ipywidgets import interact\n",
    "@interact(cat =['Outcome Type', 'Intake Type', 'Intake Condition',\n",
    "       'Pet Type', 'MixBreed','BaseBreed', 'MixColor', 'BaseColor', 'NS_intake', 'NS_clinic',\n",
    "       'City', 'Gender', 'FirstLetterName', 'NameLengthBin',])\n",
    "def show_freq(cat):\n",
    "    plt.figure(figsize=(12, 8), dpi=80)\n",
    "    all_df = pd.DataFrame()\n",
    "    for count,df in enumerate([data,min_class,maj_class]):\n",
    "        if count==0:\n",
    "            pref = 'All'\n",
    "        elif count==1:\n",
    "            pref = 'Min'\n",
    "        elif count==2:\n",
    "            pref='Maj'\n",
    "        ndf = df[cat].value_counts(normalize=True).to_frame()\n",
    "        ndf.rename(columns={cat:'Count'},inplace=True)\n",
    "        ndf['Class']=pref\n",
    "        all_df=all_df.append(ndf)\n",
    "    all_df[cat]=all_df.index\n",
    "    ax = sns.barplot(x=cat, y=\"Count\", hue=\"Class\", data=all_df)\n",
    "    plt.show()"
   ]
  },
  {
   "cell_type": "code",
   "execution_count": 90,
   "metadata": {},
   "outputs": [],
   "source": [
    "data=data[['Pet ID', 'Outcome Type', 'Intake Type', 'Intake Condition',\n",
    "       'Pet Type',  'Time at Center', \n",
    "       'BaseBreed', 'MixColor', 'BaseColor', 'NS_intake', 'NS_clinic', 'Gender', 'FirstLetterName', 'Age_Shift1']]\n",
    "cat =['Outcome Type', 'Intake Type', 'Intake Condition',\n",
    "'Pet Type', 'BaseBreed', 'MixColor', 'BaseColor', 'NS_intake', 'NS_clinic','Gender', 'FirstLetterName', ]\n",
    "data=pd.get_dummies(data,drop_first=True,columns=cat) #one hot encode categorical variables"
   ]
  },
  {
   "cell_type": "code",
   "execution_count": 91,
   "metadata": {},
   "outputs": [],
   "source": [
    "data.to_csv(r'..\\data\\feature1-adj.csv',index=False)"
   ]
  },
  {
   "cell_type": "code",
   "execution_count": null,
   "metadata": {},
   "outputs": [],
   "source": []
  }
 ],
 "metadata": {
  "kernelspec": {
   "display_name": "Python 3",
   "language": "python",
   "name": "python3"
  },
  "language_info": {
   "codemirror_mode": {
    "name": "ipython",
    "version": 3
   },
   "file_extension": ".py",
   "mimetype": "text/x-python",
   "name": "python",
   "nbconvert_exporter": "python",
   "pygments_lexer": "ipython3",
   "version": "3.8.8"
  }
 },
 "nbformat": 4,
 "nbformat_minor": 4
}
